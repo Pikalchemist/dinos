{
 "metadata": {
  "language_info": {
   "codemirror_mode": {
    "name": "ipython",
    "version": 3
   },
   "file_extension": ".py",
   "mimetype": "text/x-python",
   "name": "python",
   "nbconvert_exporter": "python",
   "pygments_lexer": "ipython3",
   "version": "3.8.3-final"
  },
  "orig_nbformat": 2,
  "kernelspec": {
   "name": "Python 3.8.3 64-bit",
   "display_name": "Python 3.8.3 64-bit",
   "metadata": {
    "interpreter": {
     "hash": "28e765281bcf9ae015ef25da116cf546eb1738f420d6c46d8e33d5419d354008"
    }
   }
  }
 },
 "nbformat": 4,
 "nbformat_minor": 2,
 "cells": [
  {
   "cell_type": "code",
   "execution_count": 1,
   "metadata": {},
   "outputs": [
    {
     "output_type": "execute_result",
     "data": {
      "text/plain": "&#39;c:\\\\Data\\\\Projects\\\\phd\\\\cdl\\\\env\\\\Scripts\\\\python.exe&#39;"
     },
     "metadata": {},
     "execution_count": 1
    }
   ],
   "source": [
    "%load_ext autoreload\n",
    "%autoreload 2\n",
    "# %matplotlib widget\n",
    "%matplotlib inline\n",
    "\n",
    "import sys\n",
    "sys.executable"
   ]
  },
  {
   "cell_type": "code",
   "execution_count": 2,
   "metadata": {
    "tags": []
   },
   "outputs": [
    {
     "output_type": "stream",
     "name": "stdout",
     "text": "pygame 1.9.6\nHello from the pygame community. https://www.pygame.org/contribute.html\nLoading chipmunk for Windows (64bit) [c:\\Data\\Projects\\phd\\cdl\\env\\lib\\site-packages\\pymunk\\chipmunk.dll]\n2020-10-01 18:47:30 RedSky exlogger:c[10616] INFO [modular] Module &#39;PlaygroundEnvironment&#39; has been started\n2020-10-01 18:47:30 RedSky exlogger:c[10616] INFO [modular] Module &#39;ModelDataset&#39; has been started\n2020-10-01 18:47:30 RedSky exlogger:c[10616] INFO [modular] Module &#39;ModelDataset&#39; has been started\n2020-10-01 18:47:30 RedSky exlogger:c[10616] INFO [modular] Module &#39;Agent&#39; has been started\n2020-10-01 18:47:30 RedSky exlogger:c[10616] INFO [modular] Module &#39;Performer&#39; has been started\n2020-10-01 18:47:30 RedSky exlogger:c[10616] INFO [modular] Module &#39;planner&#39; has been started\n2020-10-01 18:47:30 RedSky exlogger:c[10616] INFO [modular] Module &#39;ModelDataset&#39; has been attached to &#39;Agent&#39;\n2020-10-01 18:47:30 RedSky exlogger:c[10616] INFO [modular] Module &#39;InterestModelManager&#39; has been started\n2020-10-01 18:47:30 RedSky exlogger:c[10616] INFO [modular] Module &#39;Strategy autonomousStrategy&#39; has been started\n2020-10-01 18:47:30 RedSky exlogger:c[10616] INFO [modular] Module &#39;Strategy autonomousStrategy&#39; has been started\n(@#0→👁&#39;#Agent.position&#39;↕2, @#0→👁&#39;#Agent.position&#39;↕2)\n(@#0→👁&#39;#Agent.position&#39;↕2, @#0→👁&#39;#Agent.position&#39;↕2)\n(@#0→👁&#39;#Agent.position&#39;↕2, @#0→👁&#39;#Agent.position&#39;↕2)\n(@#0→👁&#39;#Agent.position&#39;↕2, @#0→👁&#39;#Agent.position&#39;↕2)\n"
    }
   ],
   "source": [
    "from dino.environments.playground import PlaygroundEnvironment\n",
    "from cdl.agents.learners.curiosity.saggriac import SAGGLearner\n",
    "from exlab.interface.graph import display\n",
    "from dino.utils.move import MoveConfig\n",
    "env = PlaygroundEnvironment()\n",
    "env.threading = False\n",
    "learner = SAGGLearner(env.world.findHost())"
   ]
  },
  {
   "cell_type": "code",
   "execution_count": 3,
   "metadata": {
    "tags": []
   },
   "outputs": [],
   "source": [
    "for space in env.spaces:\n",
    "    space.convertTo(learner.dataset)"
   ]
  },
  {
   "cell_type": "code",
   "execution_count": 4,
   "metadata": {},
   "outputs": [
    {
     "output_type": "execute_result",
     "data": {
      "text/plain": "SpaceManager(8 spaces and 1 entities)"
     },
     "metadata": {},
     "execution_count": 4
    }
   ],
   "source": [
    "learner.dataset"
   ]
  }
 ]
}