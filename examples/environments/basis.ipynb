{
 "metadata": {
  "language_info": {
   "codemirror_mode": {
    "name": "ipython",
    "version": 3
   },
   "file_extension": ".py",
   "mimetype": "text/x-python",
   "name": "python",
   "nbconvert_exporter": "python",
   "pygments_lexer": "ipython3",
   "version": "3.7.3-final"
  },
  "orig_nbformat": 2,
  "kernelspec": {
   "name": "python_defaultSpec_1600161929299",
   "display_name": "Python 3.7.3 64-bit ('env': venv)"
  }
 },
 "nbformat": 4,
 "nbformat_minor": 2,
 "cells": [
  {
   "cell_type": "code",
   "execution_count": 1,
   "metadata": {
    "tags": []
   },
   "outputs": [
    {
     "output_type": "execute_result",
     "data": {
      "text/plain": "'c:\\\\Data\\\\Projects\\\\phd\\\\dino\\\\env\\\\Scripts\\\\python.exe'"
     },
     "metadata": {},
     "execution_count": 1
    }
   ],
   "source": [
    "%load_ext autoreload\n",
    "%autoreload 2\n",
    "\n",
    "import sys\n",
    "sys.executable"
   ]
  },
  {
   "cell_type": "code",
   "execution_count": 3,
   "metadata": {
    "tags": []
   },
   "outputs": [],
   "source": [
    "from dino.environments.playground import PlaygroundEnvironment"
   ]
  },
  {
   "cell_type": "code",
   "execution_count": 4,
   "metadata": {
    "tags": []
   },
   "outputs": [
    {
     "output_type": "stream",
     "name": "stderr",
     "text": "2020-09-15 17:51:04 RedSky m:PlaygroundEnvironment:c[10612] INFO Module 'PlaygroundEnvironment' has been started\nSpaceManager(5 spaces and 4 entities)\n[Agent:0#Agent bound to root:0, Cylinder:0#Cylinder1 bound to root:0, Cylinder:1#Cylinder2 bound to root:0]\n[👁'#Agent.position', 👁'#Agent.lidar', 🕹'#Agent.move', 👁'#Cylinder1.position', 👁'#Cylinder2.position']\n"
    }
   ],
   "source": [
    "env = PlaygroundEnvironment()\n",
    "print(env)\n",
    "print(env.world.cascadingChildren())\n",
    "print(env.world.cascadingProperties())"
   ]
  },
  {
   "cell_type": "code",
   "execution_count": 18,
   "metadata": {},
   "outputs": [
    {
     "output_type": "execute_result",
     "data": {
      "text/plain": "<PIL.Image.Image image mode=RGBA size=300x300 at 0x2AE8D187E80>",
      "image/png": "[encoded data removed]"
     },
     "metadata": {},
     "execution_count": 18
    }
   ],
   "source": [
    "env.image()"
   ]
  },
  {
   "cell_type": "code",
   "execution_count": 6,
   "metadata": {},
   "outputs": [
    {
     "output_type": "execute_result",
     "data": {
      "text/plain": "{Agent RandomAgent: <function dino.agents.agent.Agent.schedule.<locals>.func()>}"
     },
     "metadata": {},
     "execution_count": 6
    }
   ],
   "source": [
    "env.scheduledActions()"
   ]
  },
  {
   "cell_type": "code",
   "execution_count": 4,
   "metadata": {
    "tags": []
   },
   "outputs": [
    {
     "output_type": "stream",
     "name": "stderr",
     "text": "2020-09-15 15:08:29 RedSky m:PlaygroundEnvironment:c[32] INFO Module 'Agent' has been started\n2020-09-15 15:08:29 RedSky m:PlaygroundEnvironment:c[32] INFO Module 'Performer' has been started\n2020-09-15 15:08:29 RedSky m:PlaygroundEnvironment:c[32] INFO Module 'Strategy randomStrategy' has been started\n"
    }
   ],
   "source": [
    "from dino.agents.agent import Agent\n",
    "from dino.agents.random import RandomAgent\n",
    "agent = RandomAgent(env.world.findHost())"
   ]
  },
  {
   "cell_type": "code",
   "execution_count": 15,
   "metadata": {
    "tags": []
   },
   "outputs": [
    {
     "output_type": "stream",
     "name": "stderr",
     "text": "2020-09-15 18:00:09 RedSky m:PlaygroundEnvironment:c[10612] INFO Module 'ModelDataset' has been started\n2020-09-15 18:00:09 RedSky m:PlaygroundEnvironment:c[10612] INFO Module 'ModelDataset' has been started\n2020-09-15 18:00:09 RedSky m:PlaygroundEnvironment:c[10612] INFO Module 'Agent' has been started\n2020-09-15 18:00:09 RedSky m:PlaygroundEnvironment:c[10612] INFO Module 'Performer' has been started\n2020-09-15 18:00:09 RedSky m:PlaygroundEnvironment:c[10612] INFO Module 'Strategy randomStrategy' has been started\n"
    }
   ],
   "source": [
    "from dino.agents.agent import Agent\n",
    "from dino.agents.learners.model.random import RandomLearner\n",
    "learner = RandomLearner(env.world.findHost())"
   ]
  },
  {
   "cell_type": "code",
   "execution_count": 7,
   "metadata": {},
   "outputs": [
    {
     "output_type": "execute_result",
     "data": {
      "text/plain": "[🕹'Agent:0#Agent.move']"
     },
     "metadata": {},
     "execution_count": 7
    }
   ],
   "source": [
    "agent.actions()"
   ]
  },
  {
   "cell_type": "code",
   "execution_count": 5,
   "metadata": {
    "tags": []
   },
   "outputs": [],
   "source": [
    "agent.test()"
   ]
  },
  {
   "cell_type": "code",
   "execution_count": 54,
   "metadata": {
    "tags": []
   },
   "outputs": [],
   "source": [
    "learner.train(1000)"
   ]
  },
  {
   "cell_type": "code",
   "execution_count": 55,
   "metadata": {
    "tags": []
   },
   "outputs": [],
   "source": [
    "env.run()"
   ]
  },
  {
   "cell_type": "code",
   "execution_count": 56,
   "metadata": {},
   "outputs": [
    {
     "output_type": "display_data",
     "data": {
      "text/plain": "<Figure size 432x288 with 1 Axes>",
      "image/svg+xml": "<?xml version=\"1.0\" encoding=\"utf-8\" standalone=\"no\"?>\r\n<!DOCTYPE svg PUBLIC \"-//W3C//DTD SVG 1.1//EN\"\r\n  \"http://www.w3.org/Graphics/SVG/1.1/DTD/svg11.dtd\">\r\n<!-- Created with matplotlib (https://matplotlib.org/) -->\r\n<svg height=\"262.19625pt\" version=\"1.1\" viewBox=\"0 0 384.828125 262.19625\" width=\"384.828125pt\" xmlns=\"http://www.w3.org/2000/svg\" xmlns:xlink=\"http://www.w3.org/1999/xlink\">\r\n <metadata>\r\n  <rdf:RDF xmlns:cc=\"http://creativecommons.org/ns#\" xmlns:dc=\"http://purl.org/dc/elements/1.1/\" xmlns:rdf=\"http://www.w3.org/1999/02/22-rdf-syntax-ns#\">\r\n   <cc:Work>\r\n    <dc:type rdf:resource=\"http://purl.org/dc/dcmitype/StillImage\"/>\r\n    <dc:date>2020-09-15T18:14:46.116344</dc:date>\r\n    <dc:format>image/svg+xml</dc:format>\r\n    <dc:creator>\r\n     <cc:Agent>\r\n      <dc:title>Matplotlib v3.3.2, https://matplotlib.org/</dc:title>\r\n     </cc:Agent>\r\n    </dc:creator>\r\n   </cc:Work>\r\n  </rdf:RDF>\r\n </metadata>\r\n <defs>\r\n  <style type=\"text/css\">*{stroke-linecap:butt;stroke-linejoin:round;}</style>\r\n </defs>\r\n <g id=\"figure_1\">\r\n  <g id=\"patch_1\">\r\n   <path d=\"M 0 262.19625 \r\nL 384.828125 262.19625 \r\nL 384.828125 0 \r\nL 0 0 \r\nz\r\n\" style=\"fill:none;\"/>\r\n  </g>\r\n  <g id=\"axes_1\">\r\n   <g id=\"patch_2\">\r\n    <path d=\"M 42.828125 224.64 \r\nL 377.628125 224.64 \r\nL 377.628125 7.2 \r\nL 42.828125 7.2 \r\nz\r\n\" style=\"fill:#ffffff;\"/>\r\n   </g>\r\n   <g id=\"matplotlib.axis_1\">\r\n    <g id=\"xtick_1\">\r\n     <g id=\"line2d_1\">\r\n      <defs>\r\n       <path d=\"M 0 0 \r\nL 0 3.5 \r\n\" id=\"mde1dbbb897\" style=\"stroke:#000000;stroke-width:0.8;\"/>\r\n      </defs>\r\n      <g>\r\n       <use style=\"stroke:#000000;stroke-width:0.8;\" x=\"58.046307\" xlink:href=\"#mde1dbbb897\" y=\"224.64\"/>\r\n      </g>\r\n     </g>\r\n     <g id=\"text_1\">\r\n      <!-- 0 -->\r\n      <g transform=\"translate(54.865057 239.238437)scale(0.1 -0.1)\">\r\n       <defs>\r\n        <path d=\"M 31.78125 66.40625 \r\nQ 24.171875 66.40625 20.328125 58.90625 \r\nQ 16.5 51.421875 16.5 36.375 \r\nQ 16.5 21.390625 20.328125 13.890625 \r\nQ 24.171875 6.390625 31.78125 6.390625 \r\nQ 39.453125 6.390625 43.28125 13.890625 \r\nQ 47.125 21.390625 47.125 36.375 \r\nQ 47.125 51.421875 43.28125 58.90625 \r\nQ 39.453125 66.40625 31.78125 66.40625 \r\nz\r\nM 31.78125 74.21875 \r\nQ 44.046875 74.21875 50.515625 64.515625 \r\nQ 56.984375 54.828125 56.984375 36.375 \r\nQ 56.984375 17.96875 50.515625 8.265625 \r\nQ 44.046875 -1.421875 31.78125 -1.421875 \r\nQ 19.53125 -1.421875 13.0625 8.265625 \r\nQ 6.59375 17.96875 6.59375 36.375 \r\nQ 6.59375 54.828125 13.0625 64.515625 \r\nQ 19.53125 74.21875 31.78125 74.21875 \r\nz\r\n\" id=\"DejaVuSans-48\"/>\r\n       </defs>\r\n       <use xlink:href=\"#DejaVuSans-48\"/>\r\n      </g>\r\n     </g>\r\n    </g>\r\n    <g id=\"xtick_2\">\r\n     <g id=\"line2d_2\">\r\n      <g>\r\n       <use style=\"stroke:#000000;stroke-width:0.8;\" x=\"100.108722\" xlink:href=\"#mde1dbbb897\" y=\"224.64\"/>\r\n      </g>\r\n     </g>\r\n     <g id=\"text_2\">\r\n      <!-- 250 -->\r\n      <g transform=\"translate(90.564972 239.238437)scale(0.1 -0.1)\">\r\n       <defs>\r\n        <path d=\"M 19.1875 8.296875 \r\nL 53.609375 8.296875 \r\nL 53.609375 0 \r\nL 7.328125 0 \r\nL 7.328125 8.296875 \r\nQ 12.9375 14.109375 22.625 23.890625 \r\nQ 32.328125 33.6875 34.8125 36.53125 \r\nQ 39.546875 41.84375 41.421875 45.53125 \r\nQ 43.3125 49.21875 43.3125 52.78125 \r\nQ 43.3125 58.59375 39.234375 62.25 \r\nQ 35.15625 65.921875 28.609375 65.921875 \r\nQ 23.96875 65.921875 18.8125 64.3125 \r\nQ 13.671875 62.703125 7.8125 59.421875 \r\nL 7.8125 69.390625 \r\nQ 13.765625 71.78125 18.9375 73 \r\nQ 24.125 74.21875 28.421875 74.21875 \r\nQ 39.75 74.21875 46.484375 68.546875 \r\nQ 53.21875 62.890625 53.21875 53.421875 \r\nQ 53.21875 48.921875 51.53125 44.890625 \r\nQ 49.859375 40.875 45.40625 35.40625 \r\nQ 44.1875 33.984375 37.640625 27.21875 \r\nQ 31.109375 20.453125 19.1875 8.296875 \r\nz\r\n\" id=\"DejaVuSans-50\"/>\r\n        <path d=\"M 10.796875 72.90625 \r\nL 49.515625 72.90625 \r\nL 49.515625 64.59375 \r\nL 19.828125 64.59375 \r\nL 19.828125 46.734375 \r\nQ 21.96875 47.46875 24.109375 47.828125 \r\nQ 26.265625 48.1875 28.421875 48.1875 \r\nQ 40.625 48.1875 47.75 41.5 \r\nQ 54.890625 34.8125 54.890625 23.390625 \r\nQ 54.890625 11.625 47.5625 5.09375 \r\nQ 40.234375 -1.421875 26.90625 -1.421875 \r\nQ 22.3125 -1.421875 17.546875 -0.640625 \r\nQ 12.796875 0.140625 7.71875 1.703125 \r\nL 7.71875 11.625 \r\nQ 12.109375 9.234375 16.796875 8.0625 \r\nQ 21.484375 6.890625 26.703125 6.890625 \r\nQ 35.15625 6.890625 40.078125 11.328125 \r\nQ 45.015625 15.765625 45.015625 23.390625 \r\nQ 45.015625 31 40.078125 35.4375 \r\nQ 35.15625 39.890625 26.703125 39.890625 \r\nQ 22.75 39.890625 18.8125 39.015625 \r\nQ 14.890625 38.140625 10.796875 36.28125 \r\nz\r\n\" id=\"DejaVuSans-53\"/>\r\n       </defs>\r\n       <use xlink:href=\"#DejaVuSans-50\"/>\r\n       <use x=\"63.623047\" xlink:href=\"#DejaVuSans-53\"/>\r\n       <use x=\"127.246094\" xlink:href=\"#DejaVuSans-48\"/>\r\n      </g>\r\n     </g>\r\n    </g>\r\n    <g id=\"xtick_3\">\r\n     <g id=\"line2d_3\">\r\n      <g>\r\n       <use style=\"stroke:#000000;stroke-width:0.8;\" x=\"142.171137\" xlink:href=\"#mde1dbbb897\" y=\"224.64\"/>\r\n      </g>\r\n     </g>\r\n     <g id=\"text_3\">\r\n      <!-- 500 -->\r\n      <g transform=\"translate(132.627387 239.238437)scale(0.1 -0.1)\">\r\n       <use xlink:href=\"#DejaVuSans-53\"/>\r\n       <use x=\"63.623047\" xlink:href=\"#DejaVuSans-48\"/>\r\n       <use x=\"127.246094\" xlink:href=\"#DejaVuSans-48\"/>\r\n      </g>\r\n     </g>\r\n    </g>\r\n    <g id=\"xtick_4\">\r\n     <g id=\"line2d_4\">\r\n      <g>\r\n       <use style=\"stroke:#000000;stroke-width:0.8;\" x=\"184.233552\" xlink:href=\"#mde1dbbb897\" y=\"224.64\"/>\r\n      </g>\r\n     </g>\r\n     <g id=\"text_4\">\r\n      <!-- 750 -->\r\n      <g transform=\"translate(174.689802 239.238437)scale(0.1 -0.1)\">\r\n       <defs>\r\n        <path d=\"M 8.203125 72.90625 \r\nL 55.078125 72.90625 \r\nL 55.078125 68.703125 \r\nL 28.609375 0 \r\nL 18.3125 0 \r\nL 43.21875 64.59375 \r\nL 8.203125 64.59375 \r\nz\r\n\" id=\"DejaVuSans-55\"/>\r\n       </defs>\r\n       <use xlink:href=\"#DejaVuSans-55\"/>\r\n       <use x=\"63.623047\" xlink:href=\"#DejaVuSans-53\"/>\r\n       <use x=\"127.246094\" xlink:href=\"#DejaVuSans-48\"/>\r\n      </g>\r\n     </g>\r\n    </g>\r\n    <g id=\"xtick_5\">\r\n     <g id=\"line2d_5\">\r\n      <g>\r\n       <use style=\"stroke:#000000;stroke-width:0.8;\" x=\"226.295968\" xlink:href=\"#mde1dbbb897\" y=\"224.64\"/>\r\n      </g>\r\n     </g>\r\n     <g id=\"text_5\">\r\n      <!-- 1000 -->\r\n      <g transform=\"translate(213.570968 239.238437)scale(0.1 -0.1)\">\r\n       <defs>\r\n        <path d=\"M 12.40625 8.296875 \r\nL 28.515625 8.296875 \r\nL 28.515625 63.921875 \r\nL 10.984375 60.40625 \r\nL 10.984375 69.390625 \r\nL 28.421875 72.90625 \r\nL 38.28125 72.90625 \r\nL 38.28125 8.296875 \r\nL 54.390625 8.296875 \r\nL 54.390625 0 \r\nL 12.40625 0 \r\nz\r\n\" id=\"DejaVuSans-49\"/>\r\n       </defs>\r\n       <use xlink:href=\"#DejaVuSans-49\"/>\r\n       <use x=\"63.623047\" xlink:href=\"#DejaVuSans-48\"/>\r\n       <use x=\"127.246094\" xlink:href=\"#DejaVuSans-48\"/>\r\n       <use x=\"190.869141\" xlink:href=\"#DejaVuSans-48\"/>\r\n      </g>\r\n     </g>\r\n    </g>\r\n    <g id=\"xtick_6\">\r\n     <g id=\"line2d_6\">\r\n      <g>\r\n       <use style=\"stroke:#000000;stroke-width:0.8;\" x=\"268.358383\" xlink:href=\"#mde1dbbb897\" y=\"224.64\"/>\r\n      </g>\r\n     </g>\r\n     <g id=\"text_6\">\r\n      <!-- 1250 -->\r\n      <g transform=\"translate(255.633383 239.238437)scale(0.1 -0.1)\">\r\n       <use xlink:href=\"#DejaVuSans-49\"/>\r\n       <use x=\"63.623047\" xlink:href=\"#DejaVuSans-50\"/>\r\n       <use x=\"127.246094\" xlink:href=\"#DejaVuSans-53\"/>\r\n       <use x=\"190.869141\" xlink:href=\"#DejaVuSans-48\"/>\r\n      </g>\r\n     </g>\r\n    </g>\r\n    <g id=\"xtick_7\">\r\n     <g id=\"line2d_7\">\r\n      <g>\r\n       <use style=\"stroke:#000000;stroke-width:0.8;\" x=\"310.420798\" xlink:href=\"#mde1dbbb897\" y=\"224.64\"/>\r\n      </g>\r\n     </g>\r\n     <g id=\"text_7\">\r\n      <!-- 1500 -->\r\n      <g transform=\"translate(297.695798 239.238437)scale(0.1 -0.1)\">\r\n       <use xlink:href=\"#DejaVuSans-49\"/>\r\n       <use x=\"63.623047\" xlink:href=\"#DejaVuSans-53\"/>\r\n       <use x=\"127.246094\" xlink:href=\"#DejaVuSans-48\"/>\r\n       <use x=\"190.869141\" xlink:href=\"#DejaVuSans-48\"/>\r\n      </g>\r\n     </g>\r\n    </g>\r\n    <g id=\"xtick_8\">\r\n     <g id=\"line2d_8\">\r\n      <g>\r\n       <use style=\"stroke:#000000;stroke-width:0.8;\" x=\"352.483213\" xlink:href=\"#mde1dbbb897\" y=\"224.64\"/>\r\n      </g>\r\n     </g>\r\n     <g id=\"text_8\">\r\n      <!-- 1750 -->\r\n      <g transform=\"translate(339.758213 239.238437)scale(0.1 -0.1)\">\r\n       <use xlink:href=\"#DejaVuSans-49\"/>\r\n       <use x=\"63.623047\" xlink:href=\"#DejaVuSans-55\"/>\r\n       <use x=\"127.246094\" xlink:href=\"#DejaVuSans-53\"/>\r\n       <use x=\"190.869141\" xlink:href=\"#DejaVuSans-48\"/>\r\n      </g>\r\n     </g>\r\n    </g>\r\n    <g id=\"text_9\">\r\n     <!-- Iteration -->\r\n     <g transform=\"translate(189.019531 252.916562)scale(0.1 -0.1)\">\r\n      <defs>\r\n       <path d=\"M 9.8125 72.90625 \r\nL 19.671875 72.90625 \r\nL 19.671875 0 \r\nL 9.8125 0 \r\nz\r\n\" id=\"DejaVuSans-73\"/>\r\n       <path d=\"M 18.3125 70.21875 \r\nL 18.3125 54.6875 \r\nL 36.8125 54.6875 \r\nL 36.8125 47.703125 \r\nL 18.3125 47.703125 \r\nL 18.3125 18.015625 \r\nQ 18.3125 11.328125 20.140625 9.421875 \r\nQ 21.96875 7.515625 27.59375 7.515625 \r\nL 36.8125 7.515625 \r\nL 36.8125 0 \r\nL 27.59375 0 \r\nQ 17.1875 0 13.234375 3.875 \r\nQ 9.28125 7.765625 9.28125 18.015625 \r\nL 9.28125 47.703125 \r\nL 2.6875 47.703125 \r\nL 2.6875 54.6875 \r\nL 9.28125 54.6875 \r\nL 9.28125 70.21875 \r\nz\r\n\" id=\"DejaVuSans-116\"/>\r\n       <path d=\"M 56.203125 29.59375 \r\nL 56.203125 25.203125 \r\nL 14.890625 25.203125 \r\nQ 15.484375 15.921875 20.484375 11.0625 \r\nQ 25.484375 6.203125 34.421875 6.203125 \r\nQ 39.59375 6.203125 44.453125 7.46875 \r\nQ 49.3125 8.734375 54.109375 11.28125 \r\nL 54.109375 2.78125 \r\nQ 49.265625 0.734375 44.1875 -0.34375 \r\nQ 39.109375 -1.421875 33.890625 -1.421875 \r\nQ 20.796875 -1.421875 13.15625 6.1875 \r\nQ 5.515625 13.8125 5.515625 26.8125 \r\nQ 5.515625 40.234375 12.765625 48.109375 \r\nQ 20.015625 56 32.328125 56 \r\nQ 43.359375 56 49.78125 48.890625 \r\nQ 56.203125 41.796875 56.203125 29.59375 \r\nz\r\nM 47.21875 32.234375 \r\nQ 47.125 39.59375 43.09375 43.984375 \r\nQ 39.0625 48.390625 32.421875 48.390625 \r\nQ 24.90625 48.390625 20.390625 44.140625 \r\nQ 15.875 39.890625 15.1875 32.171875 \r\nz\r\n\" id=\"DejaVuSans-101\"/>\r\n       <path d=\"M 41.109375 46.296875 \r\nQ 39.59375 47.171875 37.8125 47.578125 \r\nQ 36.03125 48 33.890625 48 \r\nQ 26.265625 48 22.1875 43.046875 \r\nQ 18.109375 38.09375 18.109375 28.8125 \r\nL 18.109375 0 \r\nL 9.078125 0 \r\nL 9.078125 54.6875 \r\nL 18.109375 54.6875 \r\nL 18.109375 46.1875 \r\nQ 20.953125 51.171875 25.484375 53.578125 \r\nQ 30.03125 56 36.53125 56 \r\nQ 37.453125 56 38.578125 55.875 \r\nQ 39.703125 55.765625 41.0625 55.515625 \r\nz\r\n\" id=\"DejaVuSans-114\"/>\r\n       <path d=\"M 34.28125 27.484375 \r\nQ 23.390625 27.484375 19.1875 25 \r\nQ 14.984375 22.515625 14.984375 16.5 \r\nQ 14.984375 11.71875 18.140625 8.90625 \r\nQ 21.296875 6.109375 26.703125 6.109375 \r\nQ 34.1875 6.109375 38.703125 11.40625 \r\nQ 43.21875 16.703125 43.21875 25.484375 \r\nL 43.21875 27.484375 \r\nz\r\nM 52.203125 31.203125 \r\nL 52.203125 0 \r\nL 43.21875 0 \r\nL 43.21875 8.296875 \r\nQ 40.140625 3.328125 35.546875 0.953125 \r\nQ 30.953125 -1.421875 24.3125 -1.421875 \r\nQ 15.921875 -1.421875 10.953125 3.296875 \r\nQ 6 8.015625 6 15.921875 \r\nQ 6 25.140625 12.171875 29.828125 \r\nQ 18.359375 34.515625 30.609375 34.515625 \r\nL 43.21875 34.515625 \r\nL 43.21875 35.40625 \r\nQ 43.21875 41.609375 39.140625 45 \r\nQ 35.0625 48.390625 27.6875 48.390625 \r\nQ 23 48.390625 18.546875 47.265625 \r\nQ 14.109375 46.140625 10.015625 43.890625 \r\nL 10.015625 52.203125 \r\nQ 14.9375 54.109375 19.578125 55.046875 \r\nQ 24.21875 56 28.609375 56 \r\nQ 40.484375 56 46.34375 49.84375 \r\nQ 52.203125 43.703125 52.203125 31.203125 \r\nz\r\n\" id=\"DejaVuSans-97\"/>\r\n       <path d=\"M 9.421875 54.6875 \r\nL 18.40625 54.6875 \r\nL 18.40625 0 \r\nL 9.421875 0 \r\nz\r\nM 9.421875 75.984375 \r\nL 18.40625 75.984375 \r\nL 18.40625 64.59375 \r\nL 9.421875 64.59375 \r\nz\r\n\" id=\"DejaVuSans-105\"/>\r\n       <path d=\"M 30.609375 48.390625 \r\nQ 23.390625 48.390625 19.1875 42.75 \r\nQ 14.984375 37.109375 14.984375 27.296875 \r\nQ 14.984375 17.484375 19.15625 11.84375 \r\nQ 23.34375 6.203125 30.609375 6.203125 \r\nQ 37.796875 6.203125 41.984375 11.859375 \r\nQ 46.1875 17.53125 46.1875 27.296875 \r\nQ 46.1875 37.015625 41.984375 42.703125 \r\nQ 37.796875 48.390625 30.609375 48.390625 \r\nz\r\nM 30.609375 56 \r\nQ 42.328125 56 49.015625 48.375 \r\nQ 55.71875 40.765625 55.71875 27.296875 \r\nQ 55.71875 13.875 49.015625 6.21875 \r\nQ 42.328125 -1.421875 30.609375 -1.421875 \r\nQ 18.84375 -1.421875 12.171875 6.21875 \r\nQ 5.515625 13.875 5.515625 27.296875 \r\nQ 5.515625 40.765625 12.171875 48.375 \r\nQ 18.84375 56 30.609375 56 \r\nz\r\n\" id=\"DejaVuSans-111\"/>\r\n       <path d=\"M 54.890625 33.015625 \r\nL 54.890625 0 \r\nL 45.90625 0 \r\nL 45.90625 32.71875 \r\nQ 45.90625 40.484375 42.875 44.328125 \r\nQ 39.84375 48.1875 33.796875 48.1875 \r\nQ 26.515625 48.1875 22.3125 43.546875 \r\nQ 18.109375 38.921875 18.109375 30.90625 \r\nL 18.109375 0 \r\nL 9.078125 0 \r\nL 9.078125 54.6875 \r\nL 18.109375 54.6875 \r\nL 18.109375 46.1875 \r\nQ 21.34375 51.125 25.703125 53.5625 \r\nQ 30.078125 56 35.796875 56 \r\nQ 45.21875 56 50.046875 50.171875 \r\nQ 54.890625 44.34375 54.890625 33.015625 \r\nz\r\n\" id=\"DejaVuSans-110\"/>\r\n      </defs>\r\n      <use xlink:href=\"#DejaVuSans-73\"/>\r\n      <use x=\"29.492188\" xlink:href=\"#DejaVuSans-116\"/>\r\n      <use x=\"68.701172\" xlink:href=\"#DejaVuSans-101\"/>\r\n      <use x=\"130.224609\" xlink:href=\"#DejaVuSans-114\"/>\r\n      <use x=\"171.337891\" xlink:href=\"#DejaVuSans-97\"/>\r\n      <use x=\"232.617188\" xlink:href=\"#DejaVuSans-116\"/>\r\n      <use x=\"271.826172\" xlink:href=\"#DejaVuSans-105\"/>\r\n      <use x=\"299.609375\" xlink:href=\"#DejaVuSans-111\"/>\r\n      <use x=\"360.791016\" xlink:href=\"#DejaVuSans-110\"/>\r\n     </g>\r\n    </g>\r\n   </g>\r\n   <g id=\"matplotlib.axis_2\">\r\n    <g id=\"ytick_1\">\r\n     <g id=\"line2d_9\">\r\n      <defs>\r\n       <path d=\"M 0 0 \r\nL -3.5 0 \r\n\" id=\"m02a6adf0f6\" style=\"stroke:#000000;stroke-width:0.8;\"/>\r\n      </defs>\r\n      <g>\r\n       <use style=\"stroke:#000000;stroke-width:0.8;\" x=\"42.828125\" xlink:href=\"#m02a6adf0f6\" y=\"221.202013\"/>\r\n      </g>\r\n     </g>\r\n     <g id=\"text_10\">\r\n      <!-- 0.000 -->\r\n      <g transform=\"translate(7.2 225.001232)scale(0.1 -0.1)\">\r\n       <defs>\r\n        <path d=\"M 10.6875 12.40625 \r\nL 21 12.40625 \r\nL 21 0 \r\nL 10.6875 0 \r\nz\r\n\" id=\"DejaVuSans-46\"/>\r\n       </defs>\r\n       <use xlink:href=\"#DejaVuSans-48\"/>\r\n       <use x=\"63.623047\" xlink:href=\"#DejaVuSans-46\"/>\r\n       <use x=\"95.410156\" xlink:href=\"#DejaVuSans-48\"/>\r\n       <use x=\"159.033203\" xlink:href=\"#DejaVuSans-48\"/>\r\n       <use x=\"222.65625\" xlink:href=\"#DejaVuSans-48\"/>\r\n      </g>\r\n     </g>\r\n    </g>\r\n    <g id=\"ytick_2\">\r\n     <g id=\"line2d_10\">\r\n      <g>\r\n       <use style=\"stroke:#000000;stroke-width:0.8;\" x=\"42.828125\" xlink:href=\"#m02a6adf0f6\" y=\"178.268849\"/>\r\n      </g>\r\n     </g>\r\n     <g id=\"text_11\">\r\n      <!-- 0.020 -->\r\n      <g transform=\"translate(7.2 182.068068)scale(0.1 -0.1)\">\r\n       <use xlink:href=\"#DejaVuSans-48\"/>\r\n       <use x=\"63.623047\" xlink:href=\"#DejaVuSans-46\"/>\r\n       <use x=\"95.410156\" xlink:href=\"#DejaVuSans-48\"/>\r\n       <use x=\"159.033203\" xlink:href=\"#DejaVuSans-50\"/>\r\n       <use x=\"222.65625\" xlink:href=\"#DejaVuSans-48\"/>\r\n      </g>\r\n     </g>\r\n    </g>\r\n    <g id=\"ytick_3\">\r\n     <g id=\"line2d_11\">\r\n      <g>\r\n       <use style=\"stroke:#000000;stroke-width:0.8;\" x=\"42.828125\" xlink:href=\"#m02a6adf0f6\" y=\"135.335684\"/>\r\n      </g>\r\n     </g>\r\n     <g id=\"text_12\">\r\n      <!-- 0.040 -->\r\n      <g transform=\"translate(7.2 139.134903)scale(0.1 -0.1)\">\r\n       <defs>\r\n        <path d=\"M 37.796875 64.3125 \r\nL 12.890625 25.390625 \r\nL 37.796875 25.390625 \r\nz\r\nM 35.203125 72.90625 \r\nL 47.609375 72.90625 \r\nL 47.609375 25.390625 \r\nL 58.015625 25.390625 \r\nL 58.015625 17.1875 \r\nL 47.609375 17.1875 \r\nL 47.609375 0 \r\nL 37.796875 0 \r\nL 37.796875 17.1875 \r\nL 4.890625 17.1875 \r\nL 4.890625 26.703125 \r\nz\r\n\" id=\"DejaVuSans-52\"/>\r\n       </defs>\r\n       <use xlink:href=\"#DejaVuSans-48\"/>\r\n       <use x=\"63.623047\" xlink:href=\"#DejaVuSans-46\"/>\r\n       <use x=\"95.410156\" xlink:href=\"#DejaVuSans-48\"/>\r\n       <use x=\"159.033203\" xlink:href=\"#DejaVuSans-52\"/>\r\n       <use x=\"222.65625\" xlink:href=\"#DejaVuSans-48\"/>\r\n      </g>\r\n     </g>\r\n    </g>\r\n    <g id=\"ytick_4\">\r\n     <g id=\"line2d_12\">\r\n      <g>\r\n       <use style=\"stroke:#000000;stroke-width:0.8;\" x=\"42.828125\" xlink:href=\"#m02a6adf0f6\" y=\"92.40252\"/>\r\n      </g>\r\n     </g>\r\n     <g id=\"text_13\">\r\n      <!-- 0.060 -->\r\n      <g transform=\"translate(7.2 96.201739)scale(0.1 -0.1)\">\r\n       <defs>\r\n        <path d=\"M 33.015625 40.375 \r\nQ 26.375 40.375 22.484375 35.828125 \r\nQ 18.609375 31.296875 18.609375 23.390625 \r\nQ 18.609375 15.53125 22.484375 10.953125 \r\nQ 26.375 6.390625 33.015625 6.390625 \r\nQ 39.65625 6.390625 43.53125 10.953125 \r\nQ 47.40625 15.53125 47.40625 23.390625 \r\nQ 47.40625 31.296875 43.53125 35.828125 \r\nQ 39.65625 40.375 33.015625 40.375 \r\nz\r\nM 52.59375 71.296875 \r\nL 52.59375 62.3125 \r\nQ 48.875 64.0625 45.09375 64.984375 \r\nQ 41.3125 65.921875 37.59375 65.921875 \r\nQ 27.828125 65.921875 22.671875 59.328125 \r\nQ 17.53125 52.734375 16.796875 39.40625 \r\nQ 19.671875 43.65625 24.015625 45.921875 \r\nQ 28.375 48.1875 33.59375 48.1875 \r\nQ 44.578125 48.1875 50.953125 41.515625 \r\nQ 57.328125 34.859375 57.328125 23.390625 \r\nQ 57.328125 12.15625 50.6875 5.359375 \r\nQ 44.046875 -1.421875 33.015625 -1.421875 \r\nQ 20.359375 -1.421875 13.671875 8.265625 \r\nQ 6.984375 17.96875 6.984375 36.375 \r\nQ 6.984375 53.65625 15.1875 63.9375 \r\nQ 23.390625 74.21875 37.203125 74.21875 \r\nQ 40.921875 74.21875 44.703125 73.484375 \r\nQ 48.484375 72.75 52.59375 71.296875 \r\nz\r\n\" id=\"DejaVuSans-54\"/>\r\n       </defs>\r\n       <use xlink:href=\"#DejaVuSans-48\"/>\r\n       <use x=\"63.623047\" xlink:href=\"#DejaVuSans-46\"/>\r\n       <use x=\"95.410156\" xlink:href=\"#DejaVuSans-48\"/>\r\n       <use x=\"159.033203\" xlink:href=\"#DejaVuSans-54\"/>\r\n       <use x=\"222.65625\" xlink:href=\"#DejaVuSans-48\"/>\r\n      </g>\r\n     </g>\r\n    </g>\r\n    <g id=\"ytick_5\">\r\n     <g id=\"line2d_13\">\r\n      <g>\r\n       <use style=\"stroke:#000000;stroke-width:0.8;\" x=\"42.828125\" xlink:href=\"#m02a6adf0f6\" y=\"49.469356\"/>\r\n      </g>\r\n     </g>\r\n     <g id=\"text_14\">\r\n      <!-- 0.080 -->\r\n      <g transform=\"translate(7.2 53.268574)scale(0.1 -0.1)\">\r\n       <defs>\r\n        <path d=\"M 31.78125 34.625 \r\nQ 24.75 34.625 20.71875 30.859375 \r\nQ 16.703125 27.09375 16.703125 20.515625 \r\nQ 16.703125 13.921875 20.71875 10.15625 \r\nQ 24.75 6.390625 31.78125 6.390625 \r\nQ 38.8125 6.390625 42.859375 10.171875 \r\nQ 46.921875 13.96875 46.921875 20.515625 \r\nQ 46.921875 27.09375 42.890625 30.859375 \r\nQ 38.875 34.625 31.78125 34.625 \r\nz\r\nM 21.921875 38.8125 \r\nQ 15.578125 40.375 12.03125 44.71875 \r\nQ 8.5 49.078125 8.5 55.328125 \r\nQ 8.5 64.0625 14.71875 69.140625 \r\nQ 20.953125 74.21875 31.78125 74.21875 \r\nQ 42.671875 74.21875 48.875 69.140625 \r\nQ 55.078125 64.0625 55.078125 55.328125 \r\nQ 55.078125 49.078125 51.53125 44.71875 \r\nQ 48 40.375 41.703125 38.8125 \r\nQ 48.828125 37.15625 52.796875 32.3125 \r\nQ 56.78125 27.484375 56.78125 20.515625 \r\nQ 56.78125 9.90625 50.3125 4.234375 \r\nQ 43.84375 -1.421875 31.78125 -1.421875 \r\nQ 19.734375 -1.421875 13.25 4.234375 \r\nQ 6.78125 9.90625 6.78125 20.515625 \r\nQ 6.78125 27.484375 10.78125 32.3125 \r\nQ 14.796875 37.15625 21.921875 38.8125 \r\nz\r\nM 18.3125 54.390625 \r\nQ 18.3125 48.734375 21.84375 45.5625 \r\nQ 25.390625 42.390625 31.78125 42.390625 \r\nQ 38.140625 42.390625 41.71875 45.5625 \r\nQ 45.3125 48.734375 45.3125 54.390625 \r\nQ 45.3125 60.0625 41.71875 63.234375 \r\nQ 38.140625 66.40625 31.78125 66.40625 \r\nQ 25.390625 66.40625 21.84375 63.234375 \r\nQ 18.3125 60.0625 18.3125 54.390625 \r\nz\r\n\" id=\"DejaVuSans-56\"/>\r\n       </defs>\r\n       <use xlink:href=\"#DejaVuSans-48\"/>\r\n       <use x=\"63.623047\" xlink:href=\"#DejaVuSans-46\"/>\r\n       <use x=\"95.410156\" xlink:href=\"#DejaVuSans-48\"/>\r\n       <use x=\"159.033203\" xlink:href=\"#DejaVuSans-56\"/>\r\n       <use x=\"222.65625\" xlink:href=\"#DejaVuSans-48\"/>\r\n      </g>\r\n     </g>\r\n    </g>\r\n   </g>\r\n   <g id=\"line2d_14\">\r\n    <path clip-path=\"url(#p8097c9f25a)\" d=\"M 58.046307 173.931869 \r\nL 65.617542 173.932893 \r\nL 65.785791 173.882224 \r\nL 65.954041 171.835012 \r\nL 66.122291 173.932381 \r\nL 70.328532 173.932893 \r\nL 70.496782 171.784343 \r\nL 70.665031 173.932381 \r\nL 93.210486 173.932893 \r\nL 93.378736 171.784343 \r\nL 104.314964 171.697337 \r\nL 104.483213 169.722288 \r\nL 104.651463 171.784343 \r\nL 107.679957 171.784855 \r\nL 107.848206 169.63477 \r\nL 108.016456 171.783831 \r\nL 110.035452 171.784343 \r\nL 110.203702 210.45824 \r\nL 110.371951 208.310714 \r\nL 110.540201 210.459776 \r\nL 110.708451 208.30969 \r\nL 110.8767 208.30969 \r\nL 111.04495 210.459776 \r\nL 111.381449 210.45824 \r\nL 111.549699 208.310202 \r\nL 111.717949 210.458752 \r\nL 112.390947 210.458752 \r\nL 112.559197 208.30969 \r\nL 112.727447 208.311738 \r\nL 112.895696 210.459264 \r\nL 113.063946 208.310202 \r\nL 113.232196 210.45824 \r\nL 113.568695 210.459264 \r\nL 113.736945 208.30969 \r\nL 113.905194 210.459264 \r\nL 114.578193 210.459264 \r\nL 114.746443 208.310714 \r\nL 114.914692 210.459264 \r\nL 115.251191 206.161652 \r\nL 115.419441 210.458752 \r\nL 115.587691 208.311226 \r\nL 115.75594 208.30969 \r\nL 115.92419 210.458752 \r\nL 116.765438 210.458752 \r\nL 116.933688 208.310202 \r\nL 117.101938 208.310202 \r\nL 117.270187 210.460288 \r\nL 117.438437 210.457217 \r\nL 117.606687 42.868794 \r\nL 117.774936 208.30969 \r\nL 117.943186 208.310714 \r\nL 118.111436 210.459264 \r\nL 118.279685 210.457729 \r\nL 118.447935 208.311226 \r\nL 118.784434 208.310202 \r\nL 118.952684 210.459264 \r\nL 119.120934 210.459264 \r\nL 119.289183 208.310202 \r\nL 119.457433 210.458752 \r\nL 119.625683 208.310714 \r\nL 119.793932 210.458752 \r\nL 119.962182 210.458752 \r\nL 120.130432 208.310714 \r\nL 120.298681 210.458752 \r\nL 120.466931 210.459264 \r\nL 120.635181 208.310202 \r\nL 120.80343 210.458752 \r\nL 120.97168 210.45824 \r\nL 121.13993 208.311738 \r\nL 121.308179 210.45824 \r\nL 121.981178 210.459264 \r\nL 122.149428 208.310714 \r\nL 122.317677 210.45824 \r\nL 122.485927 208.310202 \r\nL 122.654177 210.459776 \r\nL 122.822426 208.30969 \r\nL 122.990676 208.310714 \r\nL 123.158926 210.45824 \r\nL 123.327175 210.459776 \r\nL 123.495425 208.310714 \r\nL 123.663675 210.45824 \r\nL 123.831924 210.459776 \r\nL 124.000174 208.310202 \r\nL 124.168424 210.45824 \r\nL 124.336673 208.310202 \r\nL 124.504923 210.459776 \r\nL 124.673172 208.30969 \r\nL 124.841422 210.459264 \r\nL 125.177921 210.458752 \r\nL 125.346171 208.310202 \r\nL 125.514421 210.45824 \r\nL 125.68267 208.31225 \r\nL 125.85092 210.45824 \r\nL 126.01917 208.30969 \r\nL 126.187419 208.310714 \r\nL 126.355669 210.459264 \r\nL 126.523919 208.310202 \r\nL 126.692168 210.459264 \r\nL 127.028668 210.45824 \r\nL 127.196917 208.310714 \r\nL 127.533417 208.310202 \r\nL 127.701666 210.459264 \r\nL 127.869916 210.459264 \r\nL 128.038166 208.310202 \r\nL 128.206415 210.458752 \r\nL 128.374665 208.309179 \r\nL 128.711164 208.311226 \r\nL 128.879414 210.45824 \r\nL 129.047664 210.459264 \r\nL 129.215913 208.310202 \r\nL 129.384163 210.459264 \r\nL 129.888912 210.45824 \r\nL 130.057162 208.310714 \r\nL 130.225411 210.459264 \r\nL 130.89841 210.458752 \r\nL 131.06666 208.310714 \r\nL 131.403159 208.310202 \r\nL 131.571409 210.459264 \r\nL 131.739658 208.310714 \r\nL 132.244407 208.311738 \r\nL 132.412657 210.458752 \r\nL 132.580907 208.310202 \r\nL 132.917406 208.310202 \r\nL 133.085656 210.459264 \r\nL 133.253905 210.458752 \r\nL 133.422155 208.310714 \r\nL 133.590405 210.458752 \r\nL 133.758654 210.458752 \r\nL 133.926904 208.310714 \r\nL 134.095153 208.310714 \r\nL 134.263403 210.459264 \r\nL 134.431653 210.458752 \r\nL 134.599902 208.270793 \r\nL 134.936402 210.458752 \r\nL 135.104651 208.310202 \r\nL 135.441151 208.310202 \r\nL 135.6094 206.162164 \r\nL 135.77765 210.458752 \r\nL 135.9459 210.459776 \r\nL 136.114149 208.309179 \r\nL 136.282399 210.459264 \r\nL 136.618898 210.457729 \r\nL 136.787148 208.310714 \r\nL 137.460147 208.310202 \r\nL 137.628396 210.459776 \r\nL 137.796646 210.45824 \r\nL 137.964896 208.310202 \r\nL 138.133145 208.310714 \r\nL 138.301395 210.459264 \r\nL 138.469645 208.310202 \r\nL 139.142643 208.30969 \r\nL 139.310893 210.458752 \r\nL 139.647392 206.161652 \r\nL 139.983892 210.458752 \r\nL 140.152141 208.310202 \r\nL 140.82514 208.310202 \r\nL 140.99339 210.458752 \r\nL 141.161639 208.310714 \r\nL 141.329889 210.459264 \r\nL 141.498139 208.30969 \r\nL 141.666388 208.310714 \r\nL 141.834638 210.459264 \r\nL 142.002888 208.30969 \r\nL 142.171137 208.310714 \r\nL 142.339387 210.459264 \r\nL 142.507637 210.45824 \r\nL 142.675886 208.31225 \r\nL 143.180635 208.30969 \r\nL 143.348885 210.458752 \r\nL 143.517134 208.311738 \r\nL 143.685384 210.45824 \r\nL 143.853634 208.30969 \r\nL 144.021883 210.459776 \r\nL 144.190133 208.310202 \r\nL 144.358383 208.310714 \r\nL 144.526632 210.458752 \r\nL 144.694882 208.310202 \r\nL 144.863132 208.310202 \r\nL 145.031381 210.459264 \r\nL 145.199631 208.310714 \r\nL 145.367881 208.310714 \r\nL 145.53613 210.457729 \r\nL 145.70438 208.310714 \r\nL 146.377379 208.311226 \r\nL 146.545628 206.161141 \r\nL 146.882128 210.458752 \r\nL 147.050377 208.309179 \r\nL 147.218627 204.014638 \r\nL 147.386877 208.310202 \r\nL 148.059875 208.310714 \r\nL 148.228125 206.161652 \r\nL 148.396375 206.161652 \r\nL 148.564624 208.310202 \r\nL 148.732874 208.311226 \r\nL 148.901124 204.012079 \r\nL 149.069373 208.311738 \r\nL 149.405873 208.310714 \r\nL 149.574122 210.458752 \r\nL 149.742372 208.310202 \r\nL 149.910622 208.310714 \r\nL 150.078871 210.459264 \r\nL 150.247121 208.30969 \r\nL 150.415371 208.310714 \r\nL 150.58362 210.459776 \r\nL 150.75187 210.45824 \r\nL 150.92012 208.310202 \r\nL 151.088369 210.456705 \r\nL 151.593118 210.460288 \r\nL 151.761368 208.310714 \r\nL 151.929618 210.45824 \r\nL 152.097867 210.459264 \r\nL 152.266117 206.161141 \r\nL 152.434367 210.458752 \r\nL 152.602616 208.310714 \r\nL 152.770866 208.310202 \r\nL 152.939116 210.458752 \r\nL 153.443864 210.459264 \r\nL 153.612114 208.311226 \r\nL 153.780364 210.457729 \r\nL 153.948613 208.31225 \r\nL 154.116863 208.309179 \r\nL 154.285113 210.458752 \r\nL 154.453362 208.311226 \r\nL 154.621612 208.30969 \r\nL 154.789862 206.161652 \r\nL 154.958111 210.458752 \r\nL 155.126361 208.309179 \r\nL 155.294611 208.31225 \r\nL 155.46286 210.45824 \r\nL 155.63111 208.311226 \r\nL 155.79936 210.457729 \r\nL 155.967609 210.459776 \r\nL 156.135859 208.310202 \r\nL 156.304109 208.310202 \r\nL 156.472358 210.460288 \r\nL 156.640608 208.309179 \r\nL 156.808858 210.459264 \r\nL 156.977107 208.309179 \r\nL 157.145357 210.459264 \r\nL 157.313607 210.459264 \r\nL 157.481856 208.310714 \r\nL 157.650106 210.459264 \r\nL 157.818356 210.458752 \r\nL 157.986605 208.310202 \r\nL 158.154855 210.459776 \r\nL 158.323105 208.310202 \r\nL 158.491354 210.458752 \r\nL 158.659604 208.310202 \r\nL 158.827854 210.459264 \r\nL 158.996103 210.458752 \r\nL 159.332603 206.161652 \r\nL 159.669102 210.459264 \r\nL 159.837352 208.310714 \r\nL 160.51035 208.309179 \r\nL 160.6786 210.458752 \r\nL 160.84685 208.311226 \r\nL 161.351599 208.30969 \r\nL 161.519848 210.459264 \r\nL 161.856348 210.459264 \r\nL 162.024597 208.310202 \r\nL 162.192847 210.459264 \r\nL 162.529346 210.459264 \r\nL 162.697596 208.310202 \r\nL 162.865845 210.458752 \r\nL 163.034095 208.311226 \r\nL 163.202345 210.458752 \r\nL 163.538844 210.458752 \r\nL 163.707094 208.310202 \r\nL 163.875343 204.013614 \r\nL 164.043593 210.459264 \r\nL 164.380092 210.458752 \r\nL 164.548342 208.310714 \r\nL 164.716592 210.459264 \r\nL 164.884841 210.45824 \r\nL 165.053091 208.310714 \r\nL 165.221341 208.310714 \r\nL 165.38959 210.458752 \r\nL 165.55784 204.012079 \r\nL 165.72609 208.310714 \r\nL 165.894339 208.310714 \r\nL 166.062589 210.459264 \r\nL 166.230839 208.310202 \r\nL 166.567338 208.310714 \r\nL 166.735588 210.459264 \r\nL 166.903837 210.459264 \r\nL 167.072087 208.310202 \r\nL 167.240337 201.864041 \r\nL 167.408586 210.459264 \r\nL 167.576836 208.311226 \r\nL 168.081585 208.309179 \r\nL 168.249835 210.458752 \r\nL 168.418084 208.311226 \r\nL 168.586334 208.310202 \r\nL 168.754584 210.459776 \r\nL 168.922833 208.30969 \r\nL 169.091083 201.864553 \r\nL 169.259333 210.459264 \r\nL 169.595832 210.459776 \r\nL 169.764082 208.310202 \r\nL 169.932331 208.310202 \r\nL 170.100581 210.45824 \r\nL 170.268831 210.459776 \r\nL 170.43708 208.310202 \r\nL 170.60533 210.459264 \r\nL 170.941829 210.459264 \r\nL 171.110079 208.30969 \r\nL 171.278329 208.310202 \r\nL 171.446578 210.459264 \r\nL 171.614828 208.311226 \r\nL 171.783078 210.457729 \r\nL 171.951327 210.460799 \r\nL 172.119577 206.161141 \r\nL 172.287826 210.458752 \r\nL 172.456076 208.310714 \r\nL 172.624326 210.457729 \r\nL 172.792575 208.311226 \r\nL 172.960825 210.459264 \r\nL 173.129075 208.309179 \r\nL 173.297324 208.30969 \r\nL 173.465574 210.460799 \r\nL 173.802073 210.458752 \r\nL 174.138573 206.161652 \r\nL 174.306822 210.459264 \r\nL 174.643322 210.459264 \r\nL 174.811571 204.013103 \r\nL 174.979821 210.459264 \r\nL 175.148071 208.310202 \r\nL 175.65282 208.310714 \r\nL 175.821069 210.45824 \r\nL 175.989319 208.310714 \r\nL 176.157569 210.459264 \r\nL 176.662318 210.424973 \r\nL 176.830567 208.310202 \r\nL 176.998817 210.416272 \r\nL 177.335316 210.427532 \r\nL 177.503566 212.645687 \r\nL 177.671816 210.458752 \r\nL 177.840065 210.458752 \r\nL 178.008315 212.607814 \r\nL 178.344814 212.608326 \r\nL 178.513064 210.459776 \r\nL 178.681314 212.606278 \r\nL 178.849563 212.608326 \r\nL 179.017813 210.458752 \r\nL 179.354312 210.459264 \r\nL 179.522562 212.608326 \r\nL 179.690812 210.457729 \r\nL 179.859061 212.607814 \r\nL 180.195561 212.607814 \r\nL 180.36381 210.458752 \r\nL 180.53206 212.607814 \r\nL 181.205059 212.590412 \r\nL 181.373308 210.475642 \r\nL 181.541558 212.607814 \r\nL 181.709807 210.459264 \r\nL 181.878057 212.607302 \r\nL 183.055805 212.607814 \r\nL 183.224054 206.161652 \r\nL 183.560554 210.457729 \r\nL 183.728803 210.459264 \r\nL 183.897053 212.607814 \r\nL 184.065303 210.459264 \r\nL 184.233552 212.607814 \r\nL 185.4113 212.607814 \r\nL 185.57955 210.45824 \r\nL 185.747799 212.607814 \r\nL 186.084299 212.607814 \r\nL 186.252548 210.45824 \r\nL 186.420798 212.608326 \r\nL 186.757297 212.607814 \r\nL 186.925547 210.458752 \r\nL 187.093797 212.607302 \r\nL 187.598546 212.607814 \r\nL 187.766795 210.45824 \r\nL 187.935045 212.607814 \r\nL 188.271544 212.607302 \r\nL 188.439794 210.459264 \r\nL 188.776293 210.458752 \r\nL 189.112793 214.756364 \r\nL 189.281042 210.459264 \r\nL 189.449292 212.60679 \r\nL 193.319034 212.60679 \r\nL 193.487284 210.459776 \r\nL 193.655533 212.607302 \r\nL 194.328532 212.608326 \r\nL 194.496782 210.459264 \r\nL 194.665031 212.607302 \r\nL 194.833281 210.459264 \r\nL 195.001531 212.607814 \r\nL 195.16978 210.458752 \r\nL 195.33803 212.607302 \r\nL 195.50628 212.607302 \r\nL 195.674529 210.459264 \r\nL 195.842779 212.608326 \r\nL 199.376022 212.607302 \r\nL 199.544272 210.459776 \r\nL 199.712521 212.60679 \r\nL 200.722019 212.607302 \r\nL 200.890269 210.459776 \r\nL 201.058518 210.458752 \r\nL 201.226768 212.607302 \r\nL 204.928261 212.605255 \r\nL 205.09651 210.462335 \r\nL 205.26476 212.607814 \r\nL 205.601259 212.607302 \r\nL 205.769509 210.459264 \r\nL 205.937759 212.607814 \r\nL 206.947257 212.608326 \r\nL 207.115506 210.45824 \r\nL 207.283756 212.607814 \r\nL 207.620255 212.607302 \r\nL 207.788505 210.458752 \r\nL 207.956755 212.60679 \r\nL 208.125004 212.608326 \r\nL 208.293254 210.459264 \r\nL 208.461504 212.60679 \r\nL 209.471002 212.607814 \r\nL 209.639251 210.458752 \r\nL 209.807501 212.607814 \r\nL 211.994746 212.608326 \r\nL 212.162996 210.459264 \r\nL 212.331246 212.60679 \r\nL 213.004244 212.607302 \r\nL 213.172494 210.459264 \r\nL 213.340744 212.607814 \r\nL 218.892983 212.607302 \r\nL 219.061232 214.754828 \r\nL 219.397732 210.45824 \r\nL 219.565981 212.607814 \r\nL 220.23898 212.607302 \r\nL 220.407229 210.458752 \r\nL 220.575479 210.458752 \r\nL 220.743729 212.608837 \r\nL 220.911978 212.606278 \r\nL 221.080228 210.460288 \r\nL 221.248478 212.60679 \r\nL 221.416727 210.45824 \r\nL 221.584977 212.607814 \r\nL 221.753227 212.608326 \r\nL 221.921476 210.458752 \r\nL 222.089726 212.607814 \r\nL 222.257976 210.459776 \r\nL 222.426225 212.60679 \r\nL 222.594475 210.458752 \r\nL 222.762725 212.607814 \r\nL 225.11822 212.607302 \r\nL 225.28647 214.75534 \r\nL 225.454719 210.459776 \r\nL 225.622969 212.607814 \r\nL 225.959468 212.608326 \r\nL 226.127718 210.45824 \r\nL 226.295968 212.607814 \r\nL 227.305466 212.607814 \r\nL 227.473715 210.45824 \r\nL 227.641965 212.608326 \r\nL 228.146714 212.607814 \r\nL 228.314964 210.459264 \r\nL 228.819713 210.459264 \r\nL 228.987962 212.607302 \r\nL 229.156212 212.607302 \r\nL 229.324461 210.459264 \r\nL 229.660961 210.459264 \r\nL 229.82921 212.607814 \r\nL 231.006958 212.607302 \r\nL 231.175208 210.459264 \r\nL 231.343457 212.608326 \r\nL 232.521205 212.608326 \r\nL 232.689455 210.457729 \r\nL 232.857704 212.608326 \r\nL 235.886198 212.607302 \r\nL 236.054448 210.459264 \r\nL 236.222698 210.45824 \r\nL 236.390947 212.608326 \r\nL 236.727447 212.607302 \r\nL 236.895696 210.459776 \r\nL 237.063946 212.60679 \r\nL 237.400445 212.60679 \r\nL 237.568695 210.458752 \r\nL 237.736945 212.608326 \r\nL 242.616185 212.60679 \r\nL 242.784434 210.459776 \r\nL 242.952684 210.45824 \r\nL 243.120934 212.607302 \r\nL 243.457433 212.60679 \r\nL 243.625683 210.459264 \r\nL 243.793932 212.608326 \r\nL 243.962182 212.606278 \r\nL 244.130432 210.459776 \r\nL 244.298681 212.608837 \r\nL 244.466931 212.605255 \r\nL 244.635181 210.460288 \r\nL 244.80343 210.458752 \r\nL 244.97168 212.608326 \r\nL 245.13993 210.45824 \r\nL 245.476429 210.45824 \r\nL 245.644679 212.607814 \r\nL 246.822426 212.608326 \r\nL 246.990676 210.45824 \r\nL 247.158926 212.607814 \r\nL 247.495425 212.607814 \r\nL 247.663675 210.45824 \r\nL 247.831924 212.608326 \r\nL 248.673172 212.606278 \r\nL 248.841422 210.459776 \r\nL 249.009672 212.607814 \r\nL 249.177921 212.607302 \r\nL 249.346171 210.459264 \r\nL 249.514421 210.458752 \r\nL 249.68267 212.607302 \r\nL 250.860418 212.607302 \r\nL 251.028668 210.459776 \r\nL 251.196917 212.607302 \r\nL 253.215913 212.607814 \r\nL 253.384163 210.458752 \r\nL 253.552413 212.607814 \r\nL 254.393661 212.607302 \r\nL 254.561911 210.458752 \r\nL 254.73016 212.607302 \r\nL 256.749156 212.607302 \r\nL 256.917406 210.459264 \r\nL 257.085656 212.60679 \r\nL 257.590405 212.60679 \r\nL 257.758654 210.459264 \r\nL 257.926904 212.607814 \r\nL 258.095153 210.458752 \r\nL 258.263403 210.459264 \r\nL 258.431653 17.083636 \r\nL 258.599902 212.607814 \r\nL 258.768152 210.459776 \r\nL 258.936402 212.607302 \r\nL 259.272901 212.608326 \r\nL 259.441151 210.459264 \r\nL 259.6094 210.45824 \r\nL 259.77765 212.607814 \r\nL 259.9459 208.30969 \r\nL 260.114149 212.607814 \r\nL 260.282399 210.460288 \r\nL 260.450649 212.606278 \r\nL 260.618898 210.458752 \r\nL 260.787148 212.608326 \r\nL 261.123647 212.608326 \r\nL 261.291897 210.458752 \r\nL 261.460147 212.607814 \r\nL 261.628396 210.459264 \r\nL 261.796646 212.60679 \r\nL 261.964896 210.459776 \r\nL 262.133145 212.607814 \r\nL 262.301395 210.45824 \r\nL 262.469645 212.607302 \r\nL 262.637894 212.607814 \r\nL 262.806144 210.459264 \r\nL 262.974394 212.60679 \r\nL 263.142643 210.459776 \r\nL 263.479143 210.458752 \r\nL 263.647392 212.608837 \r\nL 263.815642 210.45824 \r\nL 263.983892 212.608326 \r\nL 264.152141 210.45824 \r\nL 264.320391 210.459264 \r\nL 264.488641 212.607302 \r\nL 265.329889 212.607814 \r\nL 265.498139 208.310202 \r\nL 265.666388 212.608326 \r\nL 266.002888 212.607814 \r\nL 266.171137 210.459264 \r\nL 266.339387 210.458752 \r\nL 266.507637 212.607814 \r\nL 266.675886 210.45824 \r\nL 266.844136 212.607814 \r\nL 267.012386 212.607814 \r\nL 267.348885 208.310202 \r\nL 267.685384 212.607302 \r\nL 267.853634 208.310714 \r\nL 268.190133 212.607814 \r\nL 268.694882 212.607302 \r\nL 268.863132 210.460288 \r\nL 269.199631 210.45824 \r\nL 269.367881 212.608326 \r\nL 269.53613 212.608326 \r\nL 269.70438 210.457729 \r\nL 269.87263 212.607302 \r\nL 270.377379 212.607302 \r\nL 270.545628 210.459264 \r\nL 270.713878 212.607302 \r\nL 271.555126 212.607814 \r\nL 271.723376 210.459264 \r\nL 271.891626 210.458752 \r\nL 272.059875 212.607814 \r\nL 272.228125 212.607302 \r\nL 272.396375 210.459264 \r\nL 272.564624 210.459264 \r\nL 272.732874 212.607302 \r\nL 272.901124 212.607814 \r\nL 273.069373 210.45824 \r\nL 273.237623 212.607814 \r\nL 273.405873 212.606278 \r\nL 273.574122 210.460288 \r\nL 273.742372 212.608326 \r\nL 273.910622 210.457729 \r\nL 274.078871 212.608326 \r\nL 274.247121 212.608326 \r\nL 274.415371 210.457729 \r\nL 274.58362 210.459264 \r\nL 274.75187 212.607814 \r\nL 275.593118 212.607814 \r\nL 275.761368 210.457729 \r\nL 276.770866 210.459264 \r\nL 276.939116 212.607814 \r\nL 277.107365 212.607302 \r\nL 277.275615 210.459776 \r\nL 277.443864 210.45824 \r\nL 277.612114 212.607814 \r\nL 277.780364 210.45824 \r\nL 277.948613 212.607302 \r\nL 278.116863 210.459264 \r\nL 278.621612 210.458752 \r\nL 278.789862 212.607814 \r\nL 278.958111 210.458752 \r\nL 279.294611 210.459776 \r\nL 279.46286 212.60679 \r\nL 279.63111 210.459776 \r\nL 279.79936 212.607814 \r\nL 280.640608 212.607814 \r\nL 280.808858 210.458752 \r\nL 280.977107 212.607302 \r\nL 281.145357 212.608326 \r\nL 281.313607 210.458752 \r\nL 281.481856 210.459264 \r\nL 281.650106 212.607302 \r\nL 282.996103 212.60679 \r\nL 283.164353 210.458752 \r\nL 283.332603 210.459776 \r\nL 283.500852 212.607302 \r\nL 284.342101 212.607302 \r\nL 284.51035 210.458752 \r\nL 284.6786 212.608326 \r\nL 284.84685 210.458752 \r\nL 285.015099 212.606278 \r\nL 285.183349 212.608837 \r\nL 285.351599 210.458752 \r\nL 285.519848 212.607814 \r\nL 286.529346 212.607814 \r\nL 286.697596 210.458752 \r\nL 286.865845 212.607814 \r\nL 287.034095 212.607814 \r\nL 287.202345 210.45824 \r\nL 287.370594 212.607814 \r\nL 288.211843 212.607302 \r\nL 288.380092 210.459264 \r\nL 288.548342 210.458752 \r\nL 288.716592 212.606278 \r\nL 290.399088 212.60679 \r\nL 290.567338 210.459264 \r\nL 290.735588 212.606278 \r\nL 290.903837 210.460288 \r\nL 291.072087 212.607302 \r\nL 292.922833 212.607302 \r\nL 293.091083 210.459264 \r\nL 293.259333 212.607814 \r\nL 293.595832 212.607302 \r\nL 293.764082 210.458752 \r\nL 293.932331 212.607814 \r\nL 300.662318 212.607302 \r\nL 300.830567 210.459776 \r\nL 300.998817 212.60679 \r\nL 302.008315 212.607814 \r\nL 302.176565 210.459264 \r\nL 302.513064 210.457729 \r\nL 302.681314 212.607814 \r\nL 305.373308 212.608326 \r\nL 305.541558 210.45824 \r\nL 305.709807 210.459264 \r\nL 305.878057 212.60679 \r\nL 306.046307 210.458752 \r\nL 306.214556 212.607814 \r\nL 310.084299 212.60679 \r\nL 310.252548 210.459776 \r\nL 310.420798 212.60679 \r\nL 312.103295 212.60679 \r\nL 312.271544 210.459776 \r\nL 312.439794 210.459264 \r\nL 312.608044 212.60679 \r\nL 312.776293 210.459264 \r\nL 312.944543 212.60679 \r\nL 313.617542 212.60679 \r\nL 313.785791 210.460288 \r\nL 313.954041 210.457729 \r\nL 314.122291 212.607814 \r\nL 314.29054 210.459776 \r\nL 314.62704 212.607302 \r\nL 314.795289 212.607302 \r\nL 314.963539 210.459264 \r\nL 315.131789 212.607302 \r\nL 315.468288 212.608837 \r\nL 315.636537 210.457729 \r\nL 315.804787 212.608326 \r\nL 319.001531 212.607814 \r\nL 319.16978 210.45824 \r\nL 319.33803 212.607814 \r\nL 319.50628 212.608326 \r\nL 319.674529 210.457729 \r\nL 319.842779 210.459776 \r\nL 320.011029 212.608326 \r\nL 320.179278 210.45824 \r\nL 320.347528 212.607814 \r\nL 322.198274 212.607814 \r\nL 322.366524 210.458752 \r\nL 322.534774 212.60679 \r\nL 323.376022 212.608326 \r\nL 323.544272 214.75534 \r\nL 323.712521 210.459264 \r\nL 323.880771 212.608326 \r\nL 324.55377 212.607302 \r\nL 324.722019 210.459264 \r\nL 324.890269 212.60679 \r\nL 325.058518 210.459776 \r\nL 325.226768 212.606278 \r\nL 325.563267 212.607814 \r\nL 325.731517 210.458752 \r\nL 325.899767 212.607814 \r\nL 327.077514 212.607814 \r\nL 327.245764 210.459776 \r\nL 327.414014 210.457729 \r\nL 327.582263 212.608326 \r\nL 327.750513 210.459264 \r\nL 327.918763 210.457217 \r\nL 328.087012 212.608837 \r\nL 328.255262 210.458752 \r\nL 328.423512 212.60679 \r\nL 328.591761 210.459264 \r\nL 328.760011 212.608326 \r\nL 328.928261 210.458752 \r\nL 329.09651 212.607814 \r\nL 329.26476 210.459264 \r\nL 329.43301 212.60679 \r\nL 329.601259 210.45824 \r\nL 329.769509 212.608837 \r\nL 329.937759 210.459776 \r\nL 330.106008 212.605767 \r\nL 330.274258 210.459776 \r\nL 330.442508 212.607302 \r\nL 330.779007 212.608326 \r\nL 330.947257 208.310202 \r\nL 331.115506 212.607814 \r\nL 331.283756 212.607302 \r\nL 331.452006 210.459264 \r\nL 331.620255 212.607302 \r\nL 331.788505 212.607814 \r\nL 331.956755 210.459264 \r\nL 332.125004 212.60679 \r\nL 332.966253 212.608326 \r\nL 333.134502 210.458752 \r\nL 333.302752 212.607302 \r\nL 335.489997 212.607302 \r\nL 335.658247 210.458752 \r\nL 335.826497 212.607814 \r\nL 336.331246 212.60679 \r\nL 336.499495 210.459264 \r\nL 336.667745 212.608326 \r\nL 336.835995 210.457729 \r\nL 337.004244 210.459776 \r\nL 337.172494 212.60679 \r\nL 337.340744 212.607814 \r\nL 337.508993 210.459264 \r\nL 337.677243 212.607814 \r\nL 339.696239 212.607814 \r\nL 339.864489 210.458752 \r\nL 340.032738 212.607814 \r\nL 340.200988 210.45824 \r\nL 340.369238 212.608326 \r\nL 340.705737 212.607814 \r\nL 340.873987 210.458752 \r\nL 341.042236 212.607814 \r\nL 343.565981 212.608326 \r\nL 343.734231 210.45824 \r\nL 343.90248 210.459264 \r\nL 344.07073 212.60679 \r\nL 344.743729 212.607302 \r\nL 344.911978 210.458752 \r\nL 345.080228 212.608837 \r\nL 347.435723 212.607814 \r\nL 347.603973 210.417808 \r\nL 347.772223 212.648758 \r\nL 348.276972 212.60679 \r\nL 348.445221 210.458752 \r\nL 348.613471 212.608326 \r\nL 352.314964 212.607302 \r\nL 352.483213 210.458752 \r\nL 352.651463 212.607814 \r\nL 352.819713 210.458752 \r\nL 352.987962 212.607302 \r\nL 353.82921 212.607814 \r\nL 353.99746 210.458752 \r\nL 354.16571 210.458752 \r\nL 354.333959 212.607814 \r\nL 356.352955 212.607814 \r\nL 356.521205 210.459264 \r\nL 356.689455 212.60679 \r\nL 357.362453 212.608326 \r\nL 357.530703 210.459264 \r\nL 357.698953 212.606278 \r\nL 357.867202 212.607814 \r\nL 358.035452 210.459776 \r\nL 358.203702 212.607302 \r\nL 358.371951 212.607302 \r\nL 358.540201 210.459264 \r\nL 358.708451 212.607814 \r\nL 359.549699 212.608326 \r\nL 359.717949 210.45824 \r\nL 359.886198 212.607814 \r\nL 360.727447 212.607814 \r\nL 360.895696 210.45824 \r\nL 361.063946 212.607302 \r\nL 361.232196 212.607814 \r\nL 361.400445 210.459264 \r\nL 361.568695 212.607302 \r\nL 361.736945 210.458752 \r\nL 361.905194 210.459776 \r\nL 362.073444 212.60679 \r\nL 362.409943 212.607814 \r\nL 362.409943 212.607814 \r\n\" style=\"fill:none;stroke:#1f77b4;stroke-linecap:square;stroke-width:1.5;\"/>\r\n   </g>\r\n   <g id=\"patch_3\">\r\n    <path d=\"M 42.828125 224.64 \r\nL 42.828125 7.2 \r\n\" style=\"fill:none;stroke:#000000;stroke-linecap:square;stroke-linejoin:miter;stroke-width:0.8;\"/>\r\n   </g>\r\n   <g id=\"patch_4\">\r\n    <path d=\"M 377.628125 224.64 \r\nL 377.628125 7.2 \r\n\" style=\"fill:none;stroke:#000000;stroke-linecap:square;stroke-linejoin:miter;stroke-width:0.8;\"/>\r\n   </g>\r\n   <g id=\"patch_5\">\r\n    <path d=\"M 42.828125 224.64 \r\nL 377.628125 224.64 \r\n\" style=\"fill:none;stroke:#000000;stroke-linecap:square;stroke-linejoin:miter;stroke-width:0.8;\"/>\r\n   </g>\r\n   <g id=\"patch_6\">\r\n    <path d=\"M 42.828125 7.2 \r\nL 377.628125 7.2 \r\n\" style=\"fill:none;stroke:#000000;stroke-linecap:square;stroke-linejoin:miter;stroke-width:0.8;\"/>\r\n   </g>\r\n  </g>\r\n </g>\r\n <defs>\r\n  <clipPath id=\"p8097c9f25a\">\r\n   <rect height=\"217.44\" width=\"334.8\" x=\"42.828125\" y=\"7.2\"/>\r\n  </clipPath>\r\n </defs>\r\n</svg>\r\n",
      "image/png": "[encoded data removed]"
     },
     "metadata": {
      "needs_background": "light"
     }
    }
   ],
   "source": [
    "from exlab.interface.graph import Visual\n",
    "v = Visual()\n",
    "v.display(env.visualizeTimeByIteration())"
   ]
  },
  {
   "cell_type": "code",
   "execution_count": 11,
   "metadata": {},
   "outputs": [
    {
     "output_type": "execute_result",
     "data": {
      "text/plain": "([],)"
     },
     "metadata": {},
     "execution_count": 11
    }
   ],
   "source": [
    "env.visualizeTimeByIteration().items[0].data"
   ]
  },
  {
   "cell_type": "code",
   "execution_count": 38,
   "metadata": {},
   "outputs": [
    {
     "output_type": "execute_result",
     "data": {
      "text/plain": "2.201986312866211"
     },
     "metadata": {},
     "execution_count": 38
    }
   ],
   "source": [
    "env.timeByIteration[-1]*100"
   ]
  },
  {
   "cell_type": "code",
   "execution_count": 11,
   "metadata": {},
   "outputs": [
    {
     "output_type": "execute_result",
     "data": {
      "text/plain": "[@☰#5↝🕹'#Agent.move'↕2,\n @☰#12↝👁'#Agent.position'↕2,\n @☰#13↝👁'#Agent.lidar'↕8,\n @☰#14↝👁'#Cylinder1.position'↕2,\n @☰#15↝👁'#Cylinder2.position'↕2,\n @☰∥#16⇉👁[↝👁'#Agent.position' ↝👁'#Cylinder1.position' ↝👁'#Cylinder2.position' ↝👁'#Agent.lidar']↕14,\n @☰#17↝👁'#Agent.position':PRE↕2,\n @☰#18↝👁'#Agent.lidar':PRE↕8,\n @☰#19↝👁'#Cylinder1.position':PRE↕2,\n @☰#20↝👁'#Cylinder2.position':PRE↕2,\n @☰∥#21⇉👁[↝👁'#Agent.lidar' ↝👁'#Cylinder1.position' ↝👁'#Agent.position' ↝👁'#Cylinder2.position']↕14]"
     },
     "metadata": {},
     "execution_count": 11
    }
   ],
   "source": [
    "learner.dataset.spaces"
   ]
  },
  {
   "cell_type": "code",
   "execution_count": 26,
   "metadata": {},
   "outputs": [
    {
     "output_type": "execute_result",
     "data": {
      "text/plain": "array([[-17.97570257,  11.02197518],\n       [  2.92439576, -13.98706326],\n       [  0.        ,   0.        ],\n       ...,\n       [  0.        ,   0.        ],\n       [  0.        ,   0.        ],\n       [  0.        ,   0.        ]])"
     },
     "metadata": {},
     "execution_count": 26
    }
   ],
   "source": [
    "learner.dataset.space(12).data"
   ]
  },
  {
   "cell_type": "code",
   "execution_count": null,
   "metadata": {},
   "outputs": [],
   "source": [
    "agent.train(iterations=10)\n",
    "env.run()"
   ]
  },
  {
   "cell_type": "code",
   "execution_count": 8,
   "metadata": {
    "tags": []
   },
   "outputs": [],
   "source": [
    "agent.perform(agent.actions().sample().point([1., 1.]))"
   ]
  },
  {
   "cell_type": "code",
   "execution_count": 8,
   "metadata": {},
   "outputs": [
    {
     "output_type": "execute_result",
     "data": {
      "text/plain": "SpaceManager(0 spaces and 1 entities)"
     },
     "metadata": {},
     "execution_count": 8
    }
   ],
   "source": [
    "from dino.data.spacemanager import SpaceManager\n",
    "ds = SpaceManager(storesData=True)\n",
    "ds"
   ]
  },
  {
   "cell_type": "code",
   "execution_count": 9,
   "metadata": {
    "tags": []
   },
   "outputs": [],
   "source": [
    "obs = env.world.observe().convertTo(ds)\n",
    "for o in obs:\n",
    "    o.space.addPoint(o, 0)"
   ]
  },
  {
   "cell_type": "code",
   "execution_count": 12,
   "metadata": {},
   "outputs": [
    {
     "output_type": "execute_result",
     "data": {
      "text/plain": "[@⛁#7↝👁'Agent:1#Agent.position'(↕2),\n @⛁#8↝👁'Agent:1#Agent.lidar'(↕8),\n @⛁#9↝👁'Cylinder:2#Cylinder1.position'(↕2),\n @⛁#10↝👁'Cylinder:3#Cylinder2.position'(↕2),\n @⛁⏸#11⇉👁[↝👁'Agent:1#Agent.position'+↝👁'Cylinder:2#Cylinder1.position'+↝👁'Cylinder:3#Cylinder2.position'+↝👁'Agent:1#Agent.lidar'](↕14)]"
     },
     "metadata": {},
     "execution_count": 12
    }
   ],
   "source": [
    "ds.spaces"
   ]
  },
  {
   "cell_type": "code",
   "execution_count": 21,
   "metadata": {},
   "outputs": [
    {
     "output_type": "execute_result",
     "data": {
      "text/plain": "0"
     },
     "metadata": {},
     "execution_count": 21
    }
   ],
   "source": [
    "from dino.data.dataspace import DataSpace\n",
    "A = DataSpace(ds, 2)\n",
    "B = DataSpace(ds, 2)\n",
    "C = DataSpace(ds, 2)\n",
    "A.addPoint(A.point([1, 2]), 0)\n",
    "B.addPoint(B.point([3, 4]), 0)\n",
    "C.addPoint(C.point([5, 6]), 0)"
   ]
  },
  {
   "cell_type": "code",
   "execution_count": 26,
   "metadata": {},
   "outputs": [],
   "source": [
    "Z = ds.multiColSpace([A, B])\n",
    "Y = ds.multiColSpace([Z, C])"
   ]
  },
  {
   "cell_type": "code",
   "execution_count": 31,
   "metadata": {},
   "outputs": [
    {
     "output_type": "execute_result",
     "data": {
      "text/plain": "array([[1., 2., 3., 4.]])"
     },
     "metadata": {},
     "execution_count": 31
    }
   ],
   "source": [
    "Z.data"
   ]
  },
  {
   "cell_type": "code",
   "execution_count": 15,
   "metadata": {},
   "outputs": [
    {
     "output_type": "execute_result",
     "data": {
      "text/plain": "👁'Cylinder:2#Cylinder1.position'"
     },
     "metadata": {},
     "execution_count": 15
    }
   ],
   "source": [
    "env.world.cascadingProperty('.position')"
   ]
  },
  {
   "cell_type": "code",
   "execution_count": 13,
   "metadata": {
    "tags": []
   },
   "outputs": [
    {
     "output_type": "stream",
     "name": "stdout",
     "text": "hello\nhello\n"
    }
   ],
   "source": [
    "from dino.data.abstract import *\n",
    "amt = AMT()\n",
    "test = amt.abstractProperty(env.world.cascadingProperty('#Cylinder1.position'), appendToChildren=True)"
   ]
  },
  {
   "cell_type": "code",
   "execution_count": 14,
   "metadata": {
    "tags": []
   },
   "outputs": [
    {
     "output_type": "stream",
     "name": "stdout",
     "text": "hello\n"
    }
   ],
   "source": [
    "test.entity.assignable(env.world.cascadingChild('#Cylinder2'))"
   ]
  },
  {
   "cell_type": "code",
   "execution_count": 15,
   "metadata": {},
   "outputs": [
    {
     "output_type": "execute_result",
     "data": {
      "text/plain": "{'position'}"
     },
     "metadata": {},
     "execution_count": 15
    }
   ],
   "source": [
    "test.element.assignables"
   ]
  },
  {
   "cell_type": "code",
   "execution_count": 16,
   "metadata": {},
   "outputs": [
    {
     "output_type": "execute_result",
     "data": {
      "text/plain": "{Entity (A): {Cylinder:2#Cylinder1 bound to root:1,\n  Cylinder:3#Cylinder2 bound to root:1}}"
     },
     "metadata": {},
     "execution_count": 16
    }
   ],
   "source": [
    "test.assignableElements()"
   ]
  },
  {
   "cell_type": "code",
   "execution_count": 18,
   "metadata": {
    "tags": []
   },
   "outputs": [
    {
     "output_type": "execute_result",
     "data": {
      "text/plain": "2"
     },
     "metadata": {},
     "execution_count": 18
    }
   ],
   "source": [
    "test.get(ds).number"
   ]
  },
  {
   "cell_type": "code",
   "execution_count": 19,
   "metadata": {},
   "outputs": [
    {
     "output_type": "execute_result",
     "data": {
      "text/plain": "[@⛁#7↝👁'Agent:1#Agent.position'(↕2),\n @⛁#8↝👁'Agent:1#Agent.lidar'(↕8),\n @⛁#9↝👁'Cylinder:2#Cylinder1.position'(↕2),\n @⛁#10↝👁'Cylinder:3#Cylinder2.position'(↕2),\n @⛁⏸#11⇉👁[↝👁'Agent:1#Agent.position'+↝👁'Cylinder:2#Cylinder1.position'+↝👁'Cylinder:3#Cylinder2.position'+↝👁'Agent:1#Agent.lidar'](↕14),\n @⛁(↝👁'Cylinder:3#Cylinder2.position'>↝👁'Cylinder:2#Cylinder1.position')(2)]"
     },
     "metadata": {},
     "execution_count": 19
    }
   ],
   "source": [
    "ds.spaces"
   ]
  },
  {
   "cell_type": "code",
   "execution_count": 21,
   "metadata": {},
   "outputs": [
    {
     "output_type": "execute_result",
     "data": {
      "text/plain": "array([[3., 4.],\n       [0., 0.],\n       [0., 0.],\n       ...,\n       [0., 0.],\n       [0., 0.],\n       [0., 0.]])"
     },
     "metadata": {},
     "execution_count": 21
    }
   ],
   "source": [
    "B.data"
   ]
  },
  {
   "cell_type": "code",
   "execution_count": 7,
   "metadata": {},
   "outputs": [],
   "source": [
    "cyl = env.world.cascadingChild('Cylinder')\n",
    "prop = env.world.cascadingProperty('Cylinder.position')\n",
    "obs = prop.observe()"
   ]
  },
  {
   "cell_type": "code",
   "execution_count": 10,
   "metadata": {},
   "outputs": [
    {
     "output_type": "execute_result",
     "data": {
      "text/plain": "@#0→👁'Cylinder:0.position':BASIC(↕2)"
     },
     "metadata": {},
     "execution_count": 10
    }
   ],
   "source": [
    "obs.space"
   ]
  },
  {
   "cell_type": "code",
   "execution_count": 9,
   "metadata": {},
   "outputs": [
    {
     "output_type": "error",
     "ename": "AttributeError",
     "evalue": "'SpaceManager' object has no attribute 'multiColSpace'",
     "traceback": [
      "\u001b[1;31m---------------------------------------------------------------------------\u001b[0m",
      "\u001b[1;31mAttributeError\u001b[0m                            Traceback (most recent call last)",
      "\u001b[1;32m<ipython-input-9-1be92ccad142>\u001b[0m in \u001b[0;36m<module>\u001b[1;34m\u001b[0m\n\u001b[1;32m----> 1\u001b[1;33m \u001b[0mobs\u001b[0m\u001b[1;33m.\u001b[0m\u001b[0mconvertTo\u001b[0m\u001b[1;33m(\u001b[0m\u001b[0mds\u001b[0m\u001b[1;33m)\u001b[0m\u001b[1;33m\u001b[0m\u001b[1;33m\u001b[0m\u001b[0m\n\u001b[0m",
      "\u001b[1;32mc:\\data\\projects\\phd\\dino\\dino\\data\\data.py\u001b[0m in \u001b[0;36mconvertTo\u001b[1;34m(self, spaceManager, kind, toData)\u001b[0m\n\u001b[0;32m    222\u001b[0m     \u001b[1;32mdef\u001b[0m \u001b[0mconvertTo\u001b[0m\u001b[1;33m(\u001b[0m\u001b[0mself\u001b[0m\u001b[1;33m,\u001b[0m \u001b[0mspaceManager\u001b[0m\u001b[1;33m=\u001b[0m\u001b[1;32mNone\u001b[0m\u001b[1;33m,\u001b[0m \u001b[0mkind\u001b[0m\u001b[1;33m=\u001b[0m\u001b[1;32mNone\u001b[0m\u001b[1;33m,\u001b[0m \u001b[0mtoData\u001b[0m\u001b[1;33m=\u001b[0m\u001b[1;32mNone\u001b[0m\u001b[1;33m)\u001b[0m\u001b[1;33m:\u001b[0m\u001b[1;33m\u001b[0m\u001b[1;33m\u001b[0m\u001b[0m\n\u001b[0;32m    223\u001b[0m         return self.__class__(*[part.convertTo(spaceManager=spaceManager, kind=kind, toData=toData)\n\u001b[1;32m--> 224\u001b[1;33m                                 for part in self._parts])\n\u001b[0m\u001b[0;32m    225\u001b[0m \u001b[1;33m\u001b[0m\u001b[0m\n\u001b[0;32m    226\u001b[0m     \u001b[1;32mdef\u001b[0m \u001b[0msetRelative\u001b[0m\u001b[1;33m(\u001b[0m\u001b[0mself\u001b[0m\u001b[1;33m,\u001b[0m \u001b[0mrelative\u001b[0m\u001b[1;33m=\u001b[0m\u001b[1;32mNone\u001b[0m\u001b[1;33m)\u001b[0m\u001b[1;33m:\u001b[0m\u001b[1;33m\u001b[0m\u001b[1;33m\u001b[0m\u001b[0m\n",
      "\u001b[1;32mc:\\data\\projects\\phd\\dino\\dino\\data\\data.py\u001b[0m in \u001b[0;36m__init__\u001b[1;34m(self, *args)\u001b[0m\n\u001b[0;32m     32\u001b[0m                 \u001b[1;31m# Data(Data#0, Data#1, ...)\u001b[0m\u001b[1;33m\u001b[0m\u001b[1;33m\u001b[0m\u001b[1;33m\u001b[0m\u001b[0m\n\u001b[0;32m     33\u001b[0m                 \u001b[0mself\u001b[0m\u001b[1;33m.\u001b[0m\u001b[0m_parts\u001b[0m \u001b[1;33m=\u001b[0m \u001b[0mlist\u001b[0m\u001b[1;33m(\u001b[0m\u001b[0margs\u001b[0m\u001b[1;33m)\u001b[0m\u001b[1;33m\u001b[0m\u001b[1;33m\u001b[0m\u001b[0m\n\u001b[1;32m---> 34\u001b[1;33m                 self.space = self._parts[0].space.spaceManager.multiColSpace(\n\u001b[0m\u001b[0;32m     35\u001b[0m                     [p.space for p in self._parts])\n\u001b[0;32m     36\u001b[0m \u001b[1;33m\u001b[0m\u001b[0m\n",
      "\u001b[1;31mAttributeError\u001b[0m: 'SpaceManager' object has no attribute 'multiColSpace'"
     ]
    }
   ],
   "source": [
    "obs.convertTo(ds)"
   ]
  },
  {
   "cell_type": "code",
   "execution_count": 13,
   "metadata": {},
   "outputs": [
    {
     "output_type": "execute_result",
     "data": {
      "text/plain": "Cylinder:1 bound to root:2"
     },
     "metadata": {},
     "execution_count": 13
    }
   ],
   "source": [
    "cyl.convertTo(ds)"
   ]
  },
  {
   "cell_type": "code",
   "execution_count": 7,
   "metadata": {},
   "outputs": [],
   "source": [
    "cyl = env.world.cascadingChild('Cylinder')"
   ]
  },
  {
   "cell_type": "code",
   "execution_count": 26,
   "metadata": {
    "tags": []
   },
   "outputs": [
    {
     "output_type": "execute_result",
     "data": {
      "text/plain": "Cylinder:1 bound to root:2"
     },
     "metadata": {},
     "execution_count": 26
    }
   ],
   "source": [
    "cyl.convertTo(ds)"
   ]
  },
  {
   "cell_type": "code",
   "execution_count": 25,
   "metadata": {},
   "outputs": [
    {
     "output_type": "execute_result",
     "data": {
      "text/plain": "Cylinder:0 bound to root:0"
     },
     "metadata": {},
     "execution_count": 25
    }
   ],
   "source": [
    "ds.world.cascadingChildren()[0].native"
   ]
  },
  {
   "cell_type": "code",
   "execution_count": 37,
   "metadata": {},
   "outputs": [
    {
     "output_type": "execute_result",
     "data": {
      "text/plain": "[]"
     },
     "metadata": {},
     "execution_count": 37
    }
   ],
   "source": [
    "[e for e in ds.world.cascadingChildren() if e.linkedTo(cyl)]"
   ]
  },
  {
   "cell_type": "code",
   "execution_count": 39,
   "metadata": {},
   "outputs": [
    {
     "output_type": "execute_result",
     "data": {
      "text/plain": "[👁'Cylinder:0.position']"
     },
     "metadata": {},
     "execution_count": 39
    }
   ],
   "source": [
    "env.world.cascadingProperties()"
   ]
  },
  {
   "cell_type": "code",
   "execution_count": 23,
   "metadata": {},
   "outputs": [
    {
     "output_type": "execute_result",
     "data": {
      "text/plain": "Observation[#3→👁'Cylinder:3.position'(↕2)@±200.000, 400.000]"
     },
     "metadata": {},
     "execution_count": 23
    }
   ],
   "source": [
    "env.world.cascadingProperty('.position').observe()"
   ]
  },
  {
   "cell_type": "code",
   "execution_count": 7,
   "metadata": {
    "tags": []
   },
   "outputs": [],
   "source": [
    "env.show()"
   ]
  },
  {
   "cell_type": "code",
   "execution_count": 8,
   "metadata": {},
   "outputs": [],
   "source": [
    "env.hide()"
   ]
  }
 ]
}