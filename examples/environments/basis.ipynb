{
 "cells": [
  {
   "cell_type": "code",
   "execution_count": 1,
   "metadata": {
    "tags": []
   },
   "outputs": [
    {
     "data": {
      "text/plain": [
       "'c:\\\\Data\\\\Projects\\\\phd\\\\dino\\\\env\\\\Scripts\\\\python.exe'"
      ]
     },
     "execution_count": 1,
     "metadata": {},
     "output_type": "execute_result"
    }
   ],
   "source": [
    "%load_ext autoreload\n",
    "%autoreload 2\n",
    "\n",
    "import sys\n",
    "sys.executable"
   ]
  },
  {
   "cell_type": "code",
   "execution_count": 2,
   "metadata": {},
   "outputs": [],
   "source": [
    "import matplotlib.pyplot as plt"
   ]
  },
  {
   "cell_type": "code",
   "execution_count": 2,
   "metadata": {
    "tags": []
   },
   "outputs": [
    {
     "name": "stdout",
     "output_type": "stream",
     "text": [
      "Loading chipmunk for Windows (64bit) [c:\\Data\\Projects\\phd\\dino\\env\\lib\\site-packages\\pymunk\\chipmunk.dll]\n",
      "pygame 1.9.6\n",
      "Hello from the pygame community. https://www.pygame.org/contribute.html\n"
     ]
    },
    {
     "name": "stderr",
     "output_type": "stream",
     "text": [
      "\u001b[32m2021-10-15 16:08:44\u001b[0m \u001b[35mRedSky\u001b[0m \u001b[34mexlogger:c[21344]\u001b[0m \u001b[1;30mINFO\u001b[0m [modular] Module 'PlaygroundEnvironment' has been started\n"
     ]
    },
    {
     "name": "stdout",
     "output_type": "stream",
     "text": [
      "SpaceManager(5 spaces) and EntityManager(2 entities)\n",
      "[Agent:0#Agent bound to root:1]\n",
      "[👁'#Agent.position', 👁'#Agent.positionToAgent', 👁'#Agent.color', 👁'#Agent.lidar', 🕹'#Agent.move']\n"
     ]
    }
   ],
   "source": [
    "from dinos.environments.playground import PlaygroundEnvironment\n",
    "env = PlaygroundEnvironment()\n",
    "print(env)\n",
    "print(env.world.cascadingChildren())\n",
    "print(env.world.cascadingProperties())"
   ]
  },
  {
   "cell_type": "code",
   "execution_count": 3,
   "metadata": {},
   "outputs": [
    {
     "data": {
      "image/png": "[encoded data removed]",
      "text/plain": [
       "<PIL.Image.Image image mode=RGBA size=300x300 at 0x12AFFBD9C40>"
      ]
     },
     "execution_count": 3,
     "metadata": {},
     "output_type": "execute_result"
    }
   ],
   "source": [
    "env.image()"
   ]
  },
  {
   "cell_type": "code",
   "execution_count": 5,
   "metadata": {},
   "outputs": [
    {
     "data": {
      "text/plain": [
       "{}"
      ]
     },
     "execution_count": 5,
     "metadata": {},
     "output_type": "execute_result"
    }
   ],
   "source": [
    "env.scheduledActions()"
   ]
  },
  {
   "cell_type": "code",
   "execution_count": 6,
   "metadata": {
    "tags": []
   },
   "outputs": [
    {
     "name": "stderr",
     "output_type": "stream",
     "text": [
      "\u001b[32m2021-10-15 16:08:51\u001b[0m \u001b[35mRedSky\u001b[0m \u001b[34mexlogger:c[21344]\u001b[0m \u001b[1;30mINFO\u001b[0m [modular] Module 'Agent' has been started\n",
      "\u001b[32m2021-10-15 16:08:51\u001b[0m \u001b[35mRedSky\u001b[0m \u001b[34mexlogger:c[21344]\u001b[0m \u001b[1;30mINFO\u001b[0m [modular] Module 'Performer' has been started\n",
      "\u001b[32m2021-10-15 16:08:51\u001b[0m \u001b[35mRedSky\u001b[0m \u001b[34mexlogger:c[21344]\u001b[0m \u001b[1;30mINFO\u001b[0m [modular] Module 'planner' has been started\n",
      "\u001b[32m2021-10-15 16:08:51\u001b[0m \u001b[35mRedSky\u001b[0m \u001b[34mexlogger:c[21344]\u001b[0m \u001b[1;30mINFO\u001b[0m [modular] Module 'Strategy randomStrategy' has been started\n"
     ]
    }
   ],
   "source": [
    "from dinos.agents.agent import Agent\n",
    "from dinos.agents.random import RandomAgent\n",
    "agent = RandomAgent(env.world.findHost())"
   ]
  },
  {
   "cell_type": "code",
   "execution_count": 7,
   "metadata": {
    "tags": []
   },
   "outputs": [
    {
     "name": "stderr",
     "output_type": "stream",
     "text": [
      "\u001b[32m2021-10-15 16:08:51\u001b[0m \u001b[35mRedSky\u001b[0m \u001b[34mexlogger:c[21344]\u001b[0m \u001b[1;30mINFO\u001b[0m [modular] Module 'Evaluator' has been started\n",
      "\u001b[32m2021-10-15 16:08:51\u001b[0m \u001b[35mRedSky\u001b[0m \u001b[34mexlogger:c[21344]\u001b[0m \u001b[1;30mINFO\u001b[0m [evaluation] Test evaluation results: Result Test #Agent.position-0 @t=0 µ=1.0 σ=0.0 (8 point(s))\n",
      "\u001b[32m2021-10-15 16:08:51\u001b[0m \u001b[35mRedSky\u001b[0m \u001b[34mexlogger:c[21344]\u001b[0m \u001b[1;30mINFO\u001b[0m [evaluation] Global evaluation results: Evaluation @t=0 µ=1.000 σ=0.000 (1 test(s))\n"
     ]
    }
   ],
   "source": [
    "env.evaluate()"
   ]
  },
  {
   "cell_type": "code",
   "execution_count": 8,
   "metadata": {},
   "outputs": [
    {
     "data": {
      "text/plain": [
       "[(1.0,\n",
       "  Goal[#0→👁'#Agent.position'↕2 @ 300.000,  300.000],\n",
       "  Goal[#0→👁'#Agent.position'↕2 @ 403.194,  306.680]),\n",
       " (1.0,\n",
       "  Goal[#0→👁'#Agent.position'↕2 @ 500.000,  300.000],\n",
       "  Goal[#0→👁'#Agent.position'↕2 @ 420.620,  310.196]),\n",
       " (1.0,\n",
       "  Goal[#0→👁'#Agent.position'↕2 @ 400.000,  200.000],\n",
       "  Goal[#0→👁'#Agent.position'↕2 @ 402.654,  301.519]),\n",
       " (1.0,\n",
       "  Goal[#0→👁'#Agent.position'↕2 @ 400.000,  400.000],\n",
       "  Goal[#0→👁'#Agent.position'↕2 @ 410.239,  283.829]),\n",
       " (1.0,\n",
       "  Goal[#0→👁'#Agent.position'↕2 @ 300.000,  200.000],\n",
       "  Goal[#0→👁'#Agent.position'↕2 @ 422.327,  319.392]),\n",
       " (1.0,\n",
       "  Goal[#0→👁'#Agent.position'↕2 @ 300.000,  400.000],\n",
       "  Goal[#0→👁'#Agent.position'↕2 @ 392.729,  319.212]),\n",
       " (1.0,\n",
       "  Goal[#0→👁'#Agent.position'↕2 @ 500.000,  400.000],\n",
       "  Goal[#0→👁'#Agent.position'↕2 @ 389.961,  296.709]),\n",
       " (1.0,\n",
       "  Goal[#0→👁'#Agent.position'↕2 @ 500.000,  200.000],\n",
       "  Goal[#0→👁'#Agent.position'↕2 @ 374.235,  286.714])]"
      ]
     },
     "execution_count": 8,
     "metadata": {},
     "output_type": "execute_result"
    }
   ],
   "source": [
    "env.evaluators[0].evaluations[0].results[0].results"
   ]
  },
  {
   "cell_type": "code",
   "execution_count": 9,
   "metadata": {},
   "outputs": [
    {
     "data": {
      "text/plain": [
       "0"
      ]
     },
     "execution_count": 9,
     "metadata": {},
     "output_type": "execute_result"
    }
   ],
   "source": [
    "env.iteration"
   ]
  },
  {
   "cell_type": "code",
   "execution_count": 10,
   "metadata": {
    "tags": []
   },
   "outputs": [
    {
     "name": "stderr",
     "output_type": "stream",
     "text": [
      "\u001b[32m2021-10-15 16:08:51\u001b[0m \u001b[35mRedSky\u001b[0m \u001b[34mexlogger:c[21344]\u001b[0m \u001b[1;30mINFO\u001b[0m [modular] Module 'ModelDataset' has been started\n",
      "\u001b[32m2021-10-15 16:08:51\u001b[0m \u001b[35mRedSky\u001b[0m \u001b[34mexlogger:c[21344]\u001b[0m \u001b[1;30mINFO\u001b[0m [modular] Module 'ModelDataset' has been started\n",
      "\u001b[32m2021-10-15 16:08:51\u001b[0m \u001b[35mRedSky\u001b[0m \u001b[34mexlogger:c[21344]\u001b[0m \u001b[1;30mINFO\u001b[0m [modular] Module 'Agent' has been started\n",
      "\u001b[32m2021-10-15 16:08:51\u001b[0m \u001b[35mRedSky\u001b[0m \u001b[34mexlogger:c[21344]\u001b[0m \u001b[1;30mINFO\u001b[0m [modular] Module 'Performer' has been started\n",
      "\u001b[32m2021-10-15 16:08:51\u001b[0m \u001b[35mRedSky\u001b[0m \u001b[34mexlogger:c[21344]\u001b[0m \u001b[1;30mINFO\u001b[0m [modular] Module 'planner' has been started\n",
      "\u001b[32m2021-10-15 16:08:51\u001b[0m \u001b[35mRedSky\u001b[0m \u001b[34mexlogger:c[21344]\u001b[0m \u001b[1;30mINFO\u001b[0m [modular] Module 'ModelDataset' has been attached to 'Agent'\n",
      "\u001b[32m2021-10-15 16:08:51\u001b[0m \u001b[35mRedSky\u001b[0m \u001b[34mexlogger:c[21344]\u001b[0m \u001b[1;30mINFO\u001b[0m [modular] Module 'Strategy randomStrategy' has been started\n"
     ]
    }
   ],
   "source": [
    "from dinos.agents.agent import Agent\n",
    "from dinos.agents.learners.model.random import RandomLearner\n",
    "learner = RandomLearner(env.world.findHost())"
   ]
  },
  {
   "cell_type": "code",
   "execution_count": 11,
   "metadata": {},
   "outputs": [
    {
     "data": {
      "text/plain": [
       "[🕹'#Agent.move']"
      ]
     },
     "execution_count": 11,
     "metadata": {},
     "output_type": "execute_result"
    }
   ],
   "source": [
    "agent.actions()"
   ]
  },
  {
   "cell_type": "code",
   "execution_count": 12,
   "metadata": {
    "tags": []
   },
   "outputs": [],
   "source": [
    "agent.test()"
   ]
  },
  {
   "cell_type": "code",
   "execution_count": 13,
   "metadata": {
    "tags": []
   },
   "outputs": [
    {
     "name": "stderr",
     "output_type": "stream",
     "text": [
      "\u001b[32m2021-10-15 16:08:52\u001b[0m \u001b[35mRedSky\u001b[0m \u001b[34mexlogger:c[21344]\u001b[0m \u001b[1;30mINFO\u001b[0m 10...\n",
      "\u001b[32m2021-10-15 16:08:52\u001b[0m \u001b[35mRedSky\u001b[0m \u001b[34mexlogger:c[21344]\u001b[0m \u001b[1;30mINFO\u001b[0m 20...\n",
      "\u001b[32m2021-10-15 16:08:52\u001b[0m \u001b[35mRedSky\u001b[0m \u001b[34mexlogger:c[21344]\u001b[0m \u001b[1;30mINFO\u001b[0m 30...\n",
      "\u001b[32m2021-10-15 16:08:52\u001b[0m \u001b[35mRedSky\u001b[0m \u001b[34mexlogger:c[21344]\u001b[0m \u001b[1;30mINFO\u001b[0m 40...\n",
      "\u001b[32m2021-10-15 16:08:52\u001b[0m \u001b[35mRedSky\u001b[0m \u001b[34mexlogger:c[21344]\u001b[0m \u001b[1;30mINFO\u001b[0m 50...\n",
      "\u001b[32m2021-10-15 16:08:52\u001b[0m \u001b[35mRedSky\u001b[0m \u001b[34mexlogger:c[21344]\u001b[0m \u001b[1;30mINFO\u001b[0m 60...\n",
      "\u001b[32m2021-10-15 16:08:52\u001b[0m \u001b[35mRedSky\u001b[0m \u001b[34mexlogger:c[21344]\u001b[0m \u001b[1;30mINFO\u001b[0m 70...\n",
      "\u001b[32m2021-10-15 16:08:52\u001b[0m \u001b[35mRedSky\u001b[0m \u001b[34mexlogger:c[21344]\u001b[0m \u001b[1;30mINFO\u001b[0m 80...\n",
      "\u001b[32m2021-10-15 16:08:52\u001b[0m \u001b[35mRedSky\u001b[0m \u001b[34mexlogger:c[21344]\u001b[0m \u001b[1;30mINFO\u001b[0m 90...\n",
      "\u001b[32m2021-10-15 16:08:52\u001b[0m \u001b[35mRedSky\u001b[0m \u001b[34mexlogger:c[21344]\u001b[0m \u001b[1;30mINFO\u001b[0m 100...\n",
      "\u001b[32m2021-10-15 16:08:52\u001b[0m \u001b[35mRedSky\u001b[0m \u001b[34mexlogger:c[21344]\u001b[0m \u001b[1;30mINFO\u001b[0m 110...\n",
      "\u001b[32m2021-10-15 16:08:52\u001b[0m \u001b[35mRedSky\u001b[0m \u001b[34mexlogger:c[21344]\u001b[0m \u001b[1;30mINFO\u001b[0m 120...\n",
      "\u001b[32m2021-10-15 16:08:52\u001b[0m \u001b[35mRedSky\u001b[0m \u001b[34mexlogger:c[21344]\u001b[0m \u001b[1;30mINFO\u001b[0m 130...\n",
      "\u001b[32m2021-10-15 16:08:52\u001b[0m \u001b[35mRedSky\u001b[0m \u001b[34mexlogger:c[21344]\u001b[0m \u001b[1;30mINFO\u001b[0m 140...\n",
      "\u001b[32m2021-10-15 16:08:52\u001b[0m \u001b[35mRedSky\u001b[0m \u001b[34mexlogger:c[21344]\u001b[0m \u001b[1;30mINFO\u001b[0m 150...\n",
      "\u001b[32m2021-10-15 16:08:52\u001b[0m \u001b[35mRedSky\u001b[0m \u001b[34mexlogger:c[21344]\u001b[0m \u001b[1;30mINFO\u001b[0m 160...\n",
      "\u001b[32m2021-10-15 16:08:53\u001b[0m \u001b[35mRedSky\u001b[0m \u001b[34mexlogger:c[21344]\u001b[0m \u001b[1;30mINFO\u001b[0m 170...\n",
      "\u001b[32m2021-10-15 16:08:53\u001b[0m \u001b[35mRedSky\u001b[0m \u001b[34mexlogger:c[21344]\u001b[0m \u001b[1;30mINFO\u001b[0m 180...\n",
      "\u001b[32m2021-10-15 16:08:53\u001b[0m \u001b[35mRedSky\u001b[0m \u001b[34mexlogger:c[21344]\u001b[0m \u001b[1;30mINFO\u001b[0m 190...\n",
      "\u001b[32m2021-10-15 16:08:53\u001b[0m \u001b[35mRedSky\u001b[0m \u001b[34mexlogger:c[21344]\u001b[0m \u001b[1;30mINFO\u001b[0m 200...\n",
      "\u001b[32m2021-10-15 16:08:53\u001b[0m \u001b[35mRedSky\u001b[0m \u001b[34mexlogger:c[21344]\u001b[0m \u001b[1;30mINFO\u001b[0m 210...\n",
      "\u001b[32m2021-10-15 16:08:53\u001b[0m \u001b[35mRedSky\u001b[0m \u001b[34mexlogger:c[21344]\u001b[0m \u001b[1;30mINFO\u001b[0m 220...\n",
      "\u001b[32m2021-10-15 16:08:53\u001b[0m \u001b[35mRedSky\u001b[0m \u001b[34mexlogger:c[21344]\u001b[0m \u001b[1;30mINFO\u001b[0m 230...\n",
      "\u001b[32m2021-10-15 16:08:53\u001b[0m \u001b[35mRedSky\u001b[0m \u001b[34mexlogger:c[21344]\u001b[0m \u001b[1;30mINFO\u001b[0m 240...\n",
      "\u001b[32m2021-10-15 16:08:53\u001b[0m \u001b[35mRedSky\u001b[0m \u001b[34mexlogger:c[21344]\u001b[0m \u001b[1;30mINFO\u001b[0m 250...\n",
      "\u001b[32m2021-10-15 16:08:53\u001b[0m \u001b[35mRedSky\u001b[0m \u001b[34mexlogger:c[21344]\u001b[0m \u001b[1;30mINFO\u001b[0m 260...\n",
      "\u001b[32m2021-10-15 16:08:53\u001b[0m \u001b[35mRedSky\u001b[0m \u001b[34mexlogger:c[21344]\u001b[0m \u001b[1;30mINFO\u001b[0m 270...\n",
      "\u001b[32m2021-10-15 16:08:53\u001b[0m \u001b[35mRedSky\u001b[0m \u001b[34mexlogger:c[21344]\u001b[0m \u001b[1;30mINFO\u001b[0m 280...\n",
      "\u001b[32m2021-10-15 16:08:53\u001b[0m \u001b[35mRedSky\u001b[0m \u001b[34mexlogger:c[21344]\u001b[0m \u001b[1;30mINFO\u001b[0m 290...\n",
      "\u001b[32m2021-10-15 16:08:53\u001b[0m \u001b[35mRedSky\u001b[0m \u001b[34mexlogger:c[21344]\u001b[0m \u001b[1;30mINFO\u001b[0m 300...\n",
      "\u001b[32m2021-10-15 16:08:53\u001b[0m \u001b[35mRedSky\u001b[0m \u001b[34mexlogger:c[21344]\u001b[0m \u001b[1;30mINFO\u001b[0m 310...\n",
      "\u001b[32m2021-10-15 16:08:53\u001b[0m \u001b[35mRedSky\u001b[0m \u001b[34mexlogger:c[21344]\u001b[0m \u001b[1;30mINFO\u001b[0m 320...\n",
      "\u001b[32m2021-10-15 16:08:54\u001b[0m \u001b[35mRedSky\u001b[0m \u001b[34mexlogger:c[21344]\u001b[0m \u001b[1;30mINFO\u001b[0m 330...\n",
      "\u001b[32m2021-10-15 16:08:54\u001b[0m \u001b[35mRedSky\u001b[0m \u001b[34mexlogger:c[21344]\u001b[0m \u001b[1;30mINFO\u001b[0m 340...\n",
      "\u001b[32m2021-10-15 16:08:54\u001b[0m \u001b[35mRedSky\u001b[0m \u001b[34mexlogger:c[21344]\u001b[0m \u001b[1;30mINFO\u001b[0m 350...\n",
      "\u001b[32m2021-10-15 16:08:54\u001b[0m \u001b[35mRedSky\u001b[0m \u001b[34mexlogger:c[21344]\u001b[0m \u001b[1;30mINFO\u001b[0m 360...\n",
      "\u001b[32m2021-10-15 16:08:54\u001b[0m \u001b[35mRedSky\u001b[0m \u001b[34mexlogger:c[21344]\u001b[0m \u001b[1;30mINFO\u001b[0m 370...\n",
      "\u001b[32m2021-10-15 16:08:54\u001b[0m \u001b[35mRedSky\u001b[0m \u001b[34mexlogger:c[21344]\u001b[0m \u001b[1;30mINFO\u001b[0m 380...\n",
      "\u001b[32m2021-10-15 16:08:54\u001b[0m \u001b[35mRedSky\u001b[0m \u001b[34mexlogger:c[21344]\u001b[0m \u001b[1;30mINFO\u001b[0m 390...\n",
      "\u001b[32m2021-10-15 16:08:54\u001b[0m \u001b[35mRedSky\u001b[0m \u001b[34mexlogger:c[21344]\u001b[0m \u001b[1;30mINFO\u001b[0m 400...\n",
      "\u001b[32m2021-10-15 16:08:54\u001b[0m \u001b[35mRedSky\u001b[0m \u001b[34mexlogger:c[21344]\u001b[0m \u001b[1;30mINFO\u001b[0m 410...\n",
      "\u001b[32m2021-10-15 16:08:54\u001b[0m \u001b[35mRedSky\u001b[0m \u001b[34mexlogger:c[21344]\u001b[0m \u001b[1;30mINFO\u001b[0m 420...\n",
      "\u001b[32m2021-10-15 16:08:54\u001b[0m \u001b[35mRedSky\u001b[0m \u001b[34mexlogger:c[21344]\u001b[0m \u001b[1;30mINFO\u001b[0m 430...\n",
      "\u001b[32m2021-10-15 16:08:54\u001b[0m \u001b[35mRedSky\u001b[0m \u001b[34mexlogger:c[21344]\u001b[0m \u001b[1;30mINFO\u001b[0m 440...\n",
      "\u001b[32m2021-10-15 16:08:54\u001b[0m \u001b[35mRedSky\u001b[0m \u001b[34mexlogger:c[21344]\u001b[0m \u001b[1;30mINFO\u001b[0m 450...\n",
      "\u001b[32m2021-10-15 16:08:54\u001b[0m \u001b[35mRedSky\u001b[0m \u001b[34mexlogger:c[21344]\u001b[0m \u001b[1;30mINFO\u001b[0m 460...\n",
      "\u001b[32m2021-10-15 16:08:54\u001b[0m \u001b[35mRedSky\u001b[0m \u001b[34mexlogger:c[21344]\u001b[0m \u001b[1;30mINFO\u001b[0m 470...\n",
      "\u001b[32m2021-10-15 16:08:54\u001b[0m \u001b[35mRedSky\u001b[0m \u001b[34mexlogger:c[21344]\u001b[0m \u001b[1;30mINFO\u001b[0m 480...\n",
      "\u001b[32m2021-10-15 16:08:54\u001b[0m \u001b[35mRedSky\u001b[0m \u001b[34mexlogger:c[21344]\u001b[0m \u001b[1;30mINFO\u001b[0m 490...\n",
      "\u001b[32m2021-10-15 16:08:55\u001b[0m \u001b[35mRedSky\u001b[0m \u001b[34mexlogger:c[21344]\u001b[0m \u001b[1;30mINFO\u001b[0m 500...\n",
      "\u001b[32m2021-10-15 16:08:55\u001b[0m \u001b[35mRedSky\u001b[0m \u001b[34mexlogger:c[21344]\u001b[0m \u001b[1;30mINFO\u001b[0m 510...\n",
      "\u001b[32m2021-10-15 16:08:55\u001b[0m \u001b[35mRedSky\u001b[0m \u001b[34mexlogger:c[21344]\u001b[0m \u001b[1;30mINFO\u001b[0m 520...\n",
      "\u001b[32m2021-10-15 16:08:55\u001b[0m \u001b[35mRedSky\u001b[0m \u001b[34mexlogger:c[21344]\u001b[0m \u001b[1;30mINFO\u001b[0m 530...\n",
      "\u001b[32m2021-10-15 16:08:55\u001b[0m \u001b[35mRedSky\u001b[0m \u001b[34mexlogger:c[21344]\u001b[0m \u001b[1;30mINFO\u001b[0m 540...\n",
      "\u001b[32m2021-10-15 16:08:55\u001b[0m \u001b[35mRedSky\u001b[0m \u001b[34mexlogger:c[21344]\u001b[0m \u001b[1;30mINFO\u001b[0m 550...\n",
      "\u001b[32m2021-10-15 16:08:55\u001b[0m \u001b[35mRedSky\u001b[0m \u001b[34mexlogger:c[21344]\u001b[0m \u001b[1;30mINFO\u001b[0m 560...\n",
      "\u001b[32m2021-10-15 16:08:55\u001b[0m \u001b[35mRedSky\u001b[0m \u001b[34mexlogger:c[21344]\u001b[0m \u001b[1;30mINFO\u001b[0m 570...\n",
      "\u001b[32m2021-10-15 16:08:55\u001b[0m \u001b[35mRedSky\u001b[0m \u001b[34mexlogger:c[21344]\u001b[0m \u001b[1;30mINFO\u001b[0m 580...\n",
      "\u001b[32m2021-10-15 16:08:55\u001b[0m \u001b[35mRedSky\u001b[0m \u001b[34mexlogger:c[21344]\u001b[0m \u001b[1;30mINFO\u001b[0m 590...\n",
      "\u001b[32m2021-10-15 16:08:55\u001b[0m \u001b[35mRedSky\u001b[0m \u001b[34mexlogger:c[21344]\u001b[0m \u001b[1;30mINFO\u001b[0m 600...\n",
      "\u001b[32m2021-10-15 16:08:55\u001b[0m \u001b[35mRedSky\u001b[0m \u001b[34mexlogger:c[21344]\u001b[0m \u001b[1;30mINFO\u001b[0m 610...\n",
      "\u001b[32m2021-10-15 16:08:55\u001b[0m \u001b[35mRedSky\u001b[0m \u001b[34mexlogger:c[21344]\u001b[0m \u001b[1;30mINFO\u001b[0m 620...\n",
      "\u001b[32m2021-10-15 16:08:55\u001b[0m \u001b[35mRedSky\u001b[0m \u001b[34mexlogger:c[21344]\u001b[0m \u001b[1;30mINFO\u001b[0m 630...\n",
      "\u001b[32m2021-10-15 16:08:55\u001b[0m \u001b[35mRedSky\u001b[0m \u001b[34mexlogger:c[21344]\u001b[0m \u001b[1;30mINFO\u001b[0m 640...\n",
      "\u001b[32m2021-10-15 16:08:55\u001b[0m \u001b[35mRedSky\u001b[0m \u001b[34mexlogger:c[21344]\u001b[0m \u001b[1;30mINFO\u001b[0m 650...\n",
      "\u001b[32m2021-10-15 16:08:55\u001b[0m \u001b[35mRedSky\u001b[0m \u001b[34mexlogger:c[21344]\u001b[0m \u001b[1;30mINFO\u001b[0m 660...\n",
      "\u001b[32m2021-10-15 16:08:56\u001b[0m \u001b[35mRedSky\u001b[0m \u001b[34mexlogger:c[21344]\u001b[0m \u001b[1;30mINFO\u001b[0m 670...\n",
      "\u001b[32m2021-10-15 16:08:56\u001b[0m \u001b[35mRedSky\u001b[0m \u001b[34mexlogger:c[21344]\u001b[0m \u001b[1;30mINFO\u001b[0m 680...\n",
      "\u001b[32m2021-10-15 16:08:56\u001b[0m \u001b[35mRedSky\u001b[0m \u001b[34mexlogger:c[21344]\u001b[0m \u001b[1;30mINFO\u001b[0m 690...\n",
      "\u001b[32m2021-10-15 16:08:56\u001b[0m \u001b[35mRedSky\u001b[0m \u001b[34mexlogger:c[21344]\u001b[0m \u001b[1;30mINFO\u001b[0m 700...\n",
      "\u001b[32m2021-10-15 16:08:56\u001b[0m \u001b[35mRedSky\u001b[0m \u001b[34mexlogger:c[21344]\u001b[0m \u001b[1;30mINFO\u001b[0m 710...\n",
      "\u001b[32m2021-10-15 16:08:56\u001b[0m \u001b[35mRedSky\u001b[0m \u001b[34mexlogger:c[21344]\u001b[0m \u001b[1;30mINFO\u001b[0m 720...\n",
      "\u001b[32m2021-10-15 16:08:56\u001b[0m \u001b[35mRedSky\u001b[0m \u001b[34mexlogger:c[21344]\u001b[0m \u001b[1;30mINFO\u001b[0m 730...\n",
      "\u001b[32m2021-10-15 16:08:56\u001b[0m \u001b[35mRedSky\u001b[0m \u001b[34mexlogger:c[21344]\u001b[0m \u001b[1;30mINFO\u001b[0m 740...\n",
      "\u001b[32m2021-10-15 16:08:56\u001b[0m \u001b[35mRedSky\u001b[0m \u001b[34mexlogger:c[21344]\u001b[0m \u001b[1;30mINFO\u001b[0m 750...\n",
      "\u001b[32m2021-10-15 16:08:56\u001b[0m \u001b[35mRedSky\u001b[0m \u001b[34mexlogger:c[21344]\u001b[0m \u001b[1;30mINFO\u001b[0m 760...\n",
      "\u001b[32m2021-10-15 16:08:56\u001b[0m \u001b[35mRedSky\u001b[0m \u001b[34mexlogger:c[21344]\u001b[0m \u001b[1;30mINFO\u001b[0m 770...\n",
      "\u001b[32m2021-10-15 16:08:56\u001b[0m \u001b[35mRedSky\u001b[0m \u001b[34mexlogger:c[21344]\u001b[0m \u001b[1;30mINFO\u001b[0m 780...\n",
      "\u001b[32m2021-10-15 16:08:56\u001b[0m \u001b[35mRedSky\u001b[0m \u001b[34mexlogger:c[21344]\u001b[0m \u001b[1;30mINFO\u001b[0m 790...\n",
      "\u001b[32m2021-10-15 16:08:56\u001b[0m \u001b[35mRedSky\u001b[0m \u001b[34mexlogger:c[21344]\u001b[0m \u001b[1;30mINFO\u001b[0m 800...\n",
      "\u001b[32m2021-10-15 16:08:56\u001b[0m \u001b[35mRedSky\u001b[0m \u001b[34mexlogger:c[21344]\u001b[0m \u001b[1;30mINFO\u001b[0m 810...\n",
      "\u001b[32m2021-10-15 16:08:57\u001b[0m \u001b[35mRedSky\u001b[0m \u001b[34mexlogger:c[21344]\u001b[0m \u001b[1;30mINFO\u001b[0m 820...\n",
      "\u001b[32m2021-10-15 16:08:57\u001b[0m \u001b[35mRedSky\u001b[0m \u001b[34mexlogger:c[21344]\u001b[0m \u001b[1;30mINFO\u001b[0m 830...\n",
      "\u001b[32m2021-10-15 16:08:57\u001b[0m \u001b[35mRedSky\u001b[0m \u001b[34mexlogger:c[21344]\u001b[0m \u001b[1;30mINFO\u001b[0m 840...\n",
      "\u001b[32m2021-10-15 16:08:57\u001b[0m \u001b[35mRedSky\u001b[0m \u001b[34mexlogger:c[21344]\u001b[0m \u001b[1;30mINFO\u001b[0m 850...\n",
      "\u001b[32m2021-10-15 16:08:57\u001b[0m \u001b[35mRedSky\u001b[0m \u001b[34mexlogger:c[21344]\u001b[0m \u001b[1;30mINFO\u001b[0m 860...\n",
      "\u001b[32m2021-10-15 16:08:57\u001b[0m \u001b[35mRedSky\u001b[0m \u001b[34mexlogger:c[21344]\u001b[0m \u001b[1;30mINFO\u001b[0m 870...\n",
      "\u001b[32m2021-10-15 16:08:57\u001b[0m \u001b[35mRedSky\u001b[0m \u001b[34mexlogger:c[21344]\u001b[0m \u001b[1;30mINFO\u001b[0m 880...\n",
      "\u001b[32m2021-10-15 16:08:57\u001b[0m \u001b[35mRedSky\u001b[0m \u001b[34mexlogger:c[21344]\u001b[0m \u001b[1;30mINFO\u001b[0m 890...\n",
      "\u001b[32m2021-10-15 16:08:57\u001b[0m \u001b[35mRedSky\u001b[0m \u001b[34mexlogger:c[21344]\u001b[0m \u001b[1;30mINFO\u001b[0m 900...\n",
      "\u001b[32m2021-10-15 16:08:57\u001b[0m \u001b[35mRedSky\u001b[0m \u001b[34mexlogger:c[21344]\u001b[0m \u001b[1;30mINFO\u001b[0m 910...\n",
      "\u001b[32m2021-10-15 16:08:57\u001b[0m \u001b[35mRedSky\u001b[0m \u001b[34mexlogger:c[21344]\u001b[0m \u001b[1;30mINFO\u001b[0m 920...\n",
      "\u001b[32m2021-10-15 16:08:57\u001b[0m \u001b[35mRedSky\u001b[0m \u001b[34mexlogger:c[21344]\u001b[0m \u001b[1;30mINFO\u001b[0m 930...\n",
      "\u001b[32m2021-10-15 16:08:57\u001b[0m \u001b[35mRedSky\u001b[0m \u001b[34mexlogger:c[21344]\u001b[0m \u001b[1;30mINFO\u001b[0m 940...\n",
      "\u001b[32m2021-10-15 16:08:57\u001b[0m \u001b[35mRedSky\u001b[0m \u001b[34mexlogger:c[21344]\u001b[0m \u001b[1;30mINFO\u001b[0m 950...\n",
      "\u001b[32m2021-10-15 16:08:57\u001b[0m \u001b[35mRedSky\u001b[0m \u001b[34mexlogger:c[21344]\u001b[0m \u001b[1;30mINFO\u001b[0m 960...\n",
      "\u001b[32m2021-10-15 16:08:57\u001b[0m \u001b[35mRedSky\u001b[0m \u001b[34mexlogger:c[21344]\u001b[0m \u001b[1;30mINFO\u001b[0m 970...\n",
      "\u001b[32m2021-10-15 16:08:58\u001b[0m \u001b[35mRedSky\u001b[0m \u001b[34mexlogger:c[21344]\u001b[0m \u001b[1;30mINFO\u001b[0m 980...\n",
      "\u001b[32m2021-10-15 16:08:58\u001b[0m \u001b[35mRedSky\u001b[0m \u001b[34mexlogger:c[21344]\u001b[0m \u001b[1;30mINFO\u001b[0m 990...\n",
      "\u001b[32m2021-10-15 16:08:58\u001b[0m \u001b[35mRedSky\u001b[0m \u001b[34mexlogger:c[21344]\u001b[0m \u001b[1;30mINFO\u001b[0m 1000...\n"
     ]
    }
   ],
   "source": [
    "learner.train(1000)"
   ]
  },
  {
   "cell_type": "code",
   "execution_count": 14,
   "metadata": {
    "tags": []
   },
   "outputs": [],
   "source": [
    "env.run()"
   ]
  },
  {
   "cell_type": "code",
   "execution_count": 15,
   "metadata": {},
   "outputs": [
    {
     "name": "stderr",
     "output_type": "stream",
     "text": [
      "No handles with labels found to put in legend.\n"
     ]
    },
    {
     "data": {
      "image/png": "[encoded data removed]",
      "text/plain": [
       "<Figure size 576x576 with 1 Axes>"
      ]
     },
     "metadata": {
      "needs_background": "light"
     },
     "output_type": "display_data"
    }
   ],
   "source": [
    "from exlab.interface.graph import display\n",
    "display(env.visualizeTimeByIteration())"
   ]
  },
  {
   "cell_type": "code",
   "execution_count": 16,
   "metadata": {},
   "outputs": [
    {
     "name": "stderr",
     "output_type": "stream",
     "text": [
      "No handles with labels found to put in legend.\n"
     ]
    },
    {
     "data": {
      "image/png": "[encoded data removed]",
      "text/plain": [
       "<Figure size 576x576 with 1 Axes>"
      ]
     },
     "metadata": {
      "needs_background": "light"
     },
     "output_type": "display_data"
    }
   ],
   "source": [
    "from exlab.interface.graph import display\n",
    "display(env.visualizeEvaluations())"
   ]
  },
  {
   "cell_type": "code",
   "execution_count": 17,
   "metadata": {},
   "outputs": [
    {
     "data": {
      "text/plain": [
       "[]"
      ]
     },
     "execution_count": 17,
     "metadata": {},
     "output_type": "execute_result"
    }
   ],
   "source": [
    "learner.dataset.models"
   ]
  },
  {
   "cell_type": "code",
   "execution_count": 18,
   "metadata": {},
   "outputs": [
    {
     "data": {
      "text/plain": [
       "([0.004003763198852539,\n",
       "  0.004003047943115234,\n",
       "  0.0030028820037841797,\n",
       "  0.003002166748046875,\n",
       "  0.003003358840942383,\n",
       "  0.0030028820037841797,\n",
       "  0.004004001617431641,\n",
       "  0.003002643585205078,\n",
       "  0.004002571105957031,\n",
       "  0.004002809524536133,\n",
       "  0.005005836486816406,\n",
       "  0.003001689910888672,\n",
       "  0.0030024051666259766,\n",
       "  0.003002166748046875,\n",
       "  0.0030024051666259766,\n",
       "  0.0030031204223632812,\n",
       "  0.004004240036010742,\n",
       "  0.0030031204223632812,\n",
       "  0.0030028820037841797,\n",
       "  0.005004167556762695,\n",
       "  0.004003286361694336,\n",
       "  0.003003358840942383,\n",
       "  0.004003286361694336,\n",
       "  0.003002166748046875,\n",
       "  0.004003047943115234,\n",
       "  0.004003763198852539,\n",
       "  0.004003763198852539,\n",
       "  0.004004001617431641,\n",
       "  0.0040035247802734375,\n",
       "  0.0050048828125,\n",
       "  0.005004405975341797,\n",
       "  0.003002643585205078,\n",
       "  0.004002809524536133,\n",
       "  0.004003047943115234,\n",
       "  0.004003047943115234,\n",
       "  0.003003835678100586,\n",
       "  0.0030035972595214844,\n",
       "  0.0040035247802734375,\n",
       "  0.004004478454589844,\n",
       "  0.004003286361694336,\n",
       "  0.0040035247802734375,\n",
       "  0.005004405975341797,\n",
       "  0.0030028820037841797,\n",
       "  0.0040035247802734375,\n",
       "  0.004003763198852539,\n",
       "  0.0030019283294677734,\n",
       "  0.004003763198852539,\n",
       "  0.0030035972595214844,\n",
       "  0.004003763198852539,\n",
       "  0.005003690719604492,\n",
       "  0.004004240036010742,\n",
       "  0.0030014514923095703,\n",
       "  0.004003047943115234,\n",
       "  0.0030024051666259766,\n",
       "  0.004004478454589844,\n",
       "  0.004002809524536133,\n",
       "  0.003003358840942383,\n",
       "  0.0040035247802734375,\n",
       "  0.003002643585205078,\n",
       "  0.004004001617431641,\n",
       "  0.005003690719604492,\n",
       "  0.003003358840942383,\n",
       "  0.0030031204223632812,\n",
       "  0.004002809524536133,\n",
       "  0.0030024051666259766,\n",
       "  0.0030024051666259766,\n",
       "  0.004004001617431641,\n",
       "  0.003002166748046875,\n",
       "  0.004004478454589844,\n",
       "  0.004003047943115234,\n",
       "  0.0050046443939208984,\n",
       "  0.004003763198852539,\n",
       "  0.003003358840942383,\n",
       "  0.004003763198852539,\n",
       "  0.0030028820037841797,\n",
       "  0.0030028820037841797,\n",
       "  0.004004478454589844,\n",
       "  0.003002643585205078,\n",
       "  0.004002094268798828,\n",
       "  0.004003763198852539,\n",
       "  0.005004167556762695,\n",
       "  0.004004001617431641,\n",
       "  0.004004240036010742,\n",
       "  0.003002643585205078,\n",
       "  0.0030028820037841797,\n",
       "  0.0040035247802734375,\n",
       "  0.0030024051666259766,\n",
       "  0.003002643585205078,\n",
       "  0.004003763198852539,\n",
       "  0.004003286361694336,\n",
       "  0.0050046443939208984,\n",
       "  0.004003286361694336,\n",
       "  0.0030019283294677734,\n",
       "  0.004003286361694336,\n",
       "  0.0030028820037841797,\n",
       "  0.004004478454589844,\n",
       "  0.003002643585205078,\n",
       "  0.004003763198852539,\n",
       "  0.0030031204223632812,\n",
       "  0.0040035247802734375,\n",
       "  0.004003763198852539,\n",
       "  0.004003763198852539,\n",
       "  0.0030024051666259766,\n",
       "  0.003002643585205078,\n",
       "  0.003001689910888672,\n",
       "  0.004003286361694336,\n",
       "  0.0030031204223632812,\n",
       "  0.0030028820037841797,\n",
       "  0.004003763198852539,\n",
       "  0.004003763198852539,\n",
       "  0.005005359649658203,\n",
       "  0.004003286361694336,\n",
       "  0.004004240036010742,\n",
       "  0.0030031204223632812,\n",
       "  0.0030035972595214844,\n",
       "  0.0040035247802734375,\n",
       "  0.004001140594482422,\n",
       "  0.0030028820037841797,\n",
       "  0.004002094268798828,\n",
       "  0.004004478454589844,\n",
       "  0.005004405975341797,\n",
       "  0.004003286361694336,\n",
       "  0.003002643585205078,\n",
       "  0.004003286361694336,\n",
       "  0.004002571105957031,\n",
       "  0.003002643585205078,\n",
       "  0.0040035247802734375,\n",
       "  0.004004478454589844,\n",
       "  0.0030024051666259766,\n",
       "  0.004003047943115234,\n",
       "  0.0060062408447265625,\n",
       "  0.004003047943115234,\n",
       "  0.0030024051666259766,\n",
       "  0.0030028820037841797,\n",
       "  0.0030024051666259766,\n",
       "  0.004004001617431641,\n",
       "  0.0030024051666259766,\n",
       "  0.004004716873168945,\n",
       "  0.004004240036010742,\n",
       "  0.005004167556762695,\n",
       "  0.005003690719604492,\n",
       "  0.003001689910888672,\n",
       "  0.004004001617431641,\n",
       "  0.003003835678100586,\n",
       "  0.0040035247802734375,\n",
       "  0.0030031204223632812,\n",
       "  0.004003763198852539,\n",
       "  0.005004405975341797,\n",
       "  0.0030028820037841797,\n",
       "  0.0040035247802734375,\n",
       "  0.0050048828125,\n",
       "  0.004004478454589844,\n",
       "  0.0030024051666259766,\n",
       "  0.0040035247802734375,\n",
       "  0.003003835678100586,\n",
       "  0.004002094268798828,\n",
       "  0.0030031204223632812,\n",
       "  0.004003047943115234,\n",
       "  0.004004001617431641,\n",
       "  0.004002571105957031,\n",
       "  0.005005359649658203,\n",
       "  0.004002809524536133,\n",
       "  0.0030024051666259766,\n",
       "  0.003002643585205078,\n",
       "  0.0030024051666259766,\n",
       "  0.004003763198852539,\n",
       "  0.004004716873168945,\n",
       "  0.003002643585205078,\n",
       "  0.0030024051666259766,\n",
       "  0.0040035247802734375,\n",
       "  0.0050051212310791016,\n",
       "  0.0030045509338378906,\n",
       "  0.0030024051666259766,\n",
       "  0.004003047943115234,\n",
       "  0.004004001617431641,\n",
       "  0.0030024051666259766,\n",
       "  0.004002809524536133,\n",
       "  0.004003763198852539,\n",
       "  0.0030035972595214844,\n",
       "  0.0050051212310791016,\n",
       "  0.004002571105957031,\n",
       "  0.003001689910888672,\n",
       "  0.0040035247802734375,\n",
       "  0.0030024051666259766,\n",
       "  0.003002643585205078,\n",
       "  0.0030028820037841797,\n",
       "  0.0030031204223632812,\n",
       "  0.003003358840942383,\n",
       "  0.004003047943115234,\n",
       "  0.004003763198852539,\n",
       "  0.005003929138183594,\n",
       "  0.003002643585205078,\n",
       "  0.004004001617431641,\n",
       "  0.0030028820037841797,\n",
       "  0.004003763198852539,\n",
       "  0.003002643585205078,\n",
       "  0.004004955291748047,\n",
       "  0.0040035247802734375,\n",
       "  0.004003047943115234,\n",
       "  0.004003286361694336,\n",
       "  0.0050048828125,\n",
       "  0.005004167556762695,\n",
       "  0.0030028820037841797,\n",
       "  0.003002643585205078,\n",
       "  0.004003763198852539,\n",
       "  0.004004001617431641,\n",
       "  0.005005359649658203,\n",
       "  0.004002571105957031,\n",
       "  0.003002166748046875,\n",
       "  0.005003929138183594,\n",
       "  0.0050046443939208984,\n",
       "  0.004002571105957031,\n",
       "  0.0030028820037841797,\n",
       "  0.004003286361694336,\n",
       "  0.0030024051666259766,\n",
       "  0.0040035247802734375,\n",
       "  0.004003763198852539,\n",
       "  0.003001689910888672,\n",
       "  0.003003358840942383,\n",
       "  0.004004716873168945,\n",
       "  0.005004405975341797,\n",
       "  0.004003286361694336,\n",
       "  0.005004167556762695,\n",
       "  0.0040035247802734375,\n",
       "  0.004004240036010742,\n",
       "  0.004003047943115234,\n",
       "  0.004003763198852539,\n",
       "  0.004003763198852539,\n",
       "  0.005004405975341797,\n",
       "  0.005005359649658203,\n",
       "  0.0050048828125,\n",
       "  0.003002643585205078,\n",
       "  0.0040035247802734375,\n",
       "  0.0030024051666259766,\n",
       "  0.0030028820037841797,\n",
       "  0.004003763198852539,\n",
       "  0.0030028820037841797,\n",
       "  0.003002643585205078,\n",
       "  0.004003286361694336,\n",
       "  0.004002809524536133,\n",
       "  0.006005048751831055,\n",
       "  0.0030028820037841797,\n",
       "  0.0030024051666259766,\n",
       "  0.004003286361694336,\n",
       "  0.0030031204223632812,\n",
       "  0.0030028820037841797,\n",
       "  0.0040035247802734375,\n",
       "  0.0040035247802734375,\n",
       "  0.0030031204223632812,\n",
       "  0.004003286361694336,\n",
       "  0.005004405975341797,\n",
       "  0.004004001617431641,\n",
       "  0.003001689910888672,\n",
       "  0.0030019283294677734,\n",
       "  0.0030035972595214844,\n",
       "  0.004003047943115234,\n",
       "  0.0030031204223632812,\n",
       "  0.003003358840942383,\n",
       "  0.003002643585205078,\n",
       "  0.004003286361694336,\n",
       "  0.004004240036010742,\n",
       "  0.004002571105957031,\n",
       "  0.004002809524536133,\n",
       "  0.003002166748046875,\n",
       "  0.003002643585205078,\n",
       "  0.0030024051666259766,\n",
       "  0.0030028820037841797,\n",
       "  0.0030014514923095703,\n",
       "  0.0030028820037841797,\n",
       "  0.004003286361694336,\n",
       "  0.004004001617431641,\n",
       "  0.0030028820037841797,\n",
       "  0.003002643585205078,\n",
       "  0.003002166748046875,\n",
       "  0.003002643585205078,\n",
       "  0.0040035247802734375,\n",
       "  0.0030028820037841797,\n",
       "  0.0030024051666259766,\n",
       "  0.0030028820037841797,\n",
       "  0.003002166748046875,\n",
       "  0.006006002426147461,\n",
       "  0.0050046443939208984,\n",
       "  0.0040035247802734375,\n",
       "  0.003002166748046875,\n",
       "  0.0040035247802734375,\n",
       "  0.003002643585205078,\n",
       "  0.004003286361694336,\n",
       "  0.0030031204223632812,\n",
       "  0.0030019283294677734,\n",
       "  0.004003763198852539,\n",
       "  0.006005525588989258,\n",
       "  0.004004001617431641,\n",
       "  0.003001689910888672,\n",
       "  0.004004001617431641,\n",
       "  0.003002166748046875,\n",
       "  0.0030014514923095703,\n",
       "  0.004004478454589844,\n",
       "  0.003002643585205078,\n",
       "  0.004003286361694336,\n",
       "  0.004004240036010742,\n",
       "  0.004004478454589844,\n",
       "  0.004003047943115234,\n",
       "  0.003001689910888672,\n",
       "  0.004003286361694336,\n",
       "  0.0030028820037841797,\n",
       "  0.0030028820037841797,\n",
       "  0.003002166748046875,\n",
       "  0.004003763198852539,\n",
       "  0.004003763198852539,\n",
       "  0.004002809524536133,\n",
       "  0.005003929138183594,\n",
       "  0.004003763198852539,\n",
       "  0.0030028820037841797,\n",
       "  0.003002643585205078,\n",
       "  0.003002166748046875,\n",
       "  0.0030028820037841797,\n",
       "  0.003004312515258789,\n",
       "  0.003003358840942383,\n",
       "  0.004004240036010742,\n",
       "  0.0050046443939208984,\n",
       "  0.0060062408447265625,\n",
       "  0.0030024051666259766,\n",
       "  0.003002166748046875,\n",
       "  0.0030028820037841797,\n",
       "  0.0030019283294677734,\n",
       "  0.0030035972595214844,\n",
       "  0.004004001617431641,\n",
       "  0.004003763198852539,\n",
       "  0.004004240036010742,\n",
       "  0.0050048828125,\n",
       "  0.006005048751831055,\n",
       "  0.004003047943115234,\n",
       "  0.0030028820037841797,\n",
       "  0.0030024051666259766,\n",
       "  0.005003452301025391,\n",
       "  0.0040035247802734375,\n",
       "  0.0030028820037841797,\n",
       "  0.0030031204223632812,\n",
       "  0.003003358840942383,\n",
       "  0.0050046443939208984,\n",
       "  0.006005764007568359,\n",
       "  0.0030031204223632812,\n",
       "  0.004004955291748047,\n",
       "  0.003002166748046875,\n",
       "  0.003003358840942383,\n",
       "  0.003003358840942383,\n",
       "  0.003002643585205078,\n",
       "  0.004003286361694336,\n",
       "  0.004004001617431641,\n",
       "  0.004003286361694336,\n",
       "  0.0050048828125,\n",
       "  0.005005359649658203,\n",
       "  0.0030028820037841797,\n",
       "  0.003003835678100586,\n",
       "  0.003002643585205078,\n",
       "  0.0030024051666259766,\n",
       "  0.0030019283294677734,\n",
       "  0.003003358840942383,\n",
       "  0.0030028820037841797,\n",
       "  0.004003047943115234,\n",
       "  0.0050051212310791016,\n",
       "  0.0030031204223632812,\n",
       "  0.0030019283294677734,\n",
       "  0.003003358840942383,\n",
       "  0.003002166748046875,\n",
       "  0.003003358840942383,\n",
       "  0.004002571105957031,\n",
       "  0.0030024051666259766,\n",
       "  0.0030035972595214844,\n",
       "  0.004003286361694336,\n",
       "  0.006005287170410156,\n",
       "  0.0040035247802734375,\n",
       "  0.004003763198852539,\n",
       "  0.004003763198852539,\n",
       "  0.004003763198852539,\n",
       "  0.004004001617431641,\n",
       "  0.0030031204223632812,\n",
       "  0.003003358840942383,\n",
       "  0.0030024051666259766,\n",
       "  0.004003286361694336,\n",
       "  0.004004001617431641,\n",
       "  0.004002809524536133,\n",
       "  0.0030028820037841797,\n",
       "  0.003002166748046875,\n",
       "  0.003002643585205078,\n",
       "  0.0030014514923095703,\n",
       "  0.0030031204223632812,\n",
       "  0.0030031204223632812,\n",
       "  0.003003835678100586,\n",
       "  0.004004001617431641,\n",
       "  0.005005598068237305,\n",
       "  0.004002809524536133,\n",
       "  0.0030028820037841797,\n",
       "  0.0030024051666259766,\n",
       "  0.003002166748046875,\n",
       "  0.0030024051666259766,\n",
       "  0.0040035247802734375,\n",
       "  0.0050046443939208984,\n",
       "  0.003002643585205078,\n",
       "  0.004003763198852539,\n",
       "  0.0050046443939208984,\n",
       "  0.0030024051666259766,\n",
       "  0.0040035247802734375,\n",
       "  0.003003358840942383,\n",
       "  0.004004716873168945,\n",
       "  0.004004001617431641,\n",
       "  0.0030024051666259766,\n",
       "  0.0030028820037841797,\n",
       "  0.003003358840942383,\n",
       "  0.0050051212310791016,\n",
       "  0.0060062408447265625,\n",
       "  0.004003047943115234,\n",
       "  0.004004955291748047,\n",
       "  0.0030019283294677734,\n",
       "  0.004004001617431641,\n",
       "  0.003002643585205078,\n",
       "  0.0040051937103271484,\n",
       "  0.0030035972595214844,\n",
       "  0.003002643585205078,\n",
       "  0.0050048828125,\n",
       "  0.006005764007568359,\n",
       "  0.004003047943115234,\n",
       "  0.0030031204223632812,\n",
       "  0.004002809524536133,\n",
       "  0.0030031204223632812,\n",
       "  0.0030028820037841797,\n",
       "  0.003003835678100586,\n",
       "  0.0030028820037841797,\n",
       "  0.004004716873168945,\n",
       "  0.004003286361694336,\n",
       "  0.005004405975341797,\n",
       "  0.003002166748046875,\n",
       "  0.0030028820037841797,\n",
       "  0.0030031204223632812,\n",
       "  0.0030019283294677734,\n",
       "  0.004003763198852539,\n",
       "  0.003003835678100586,\n",
       "  0.003003358840942383,\n",
       "  0.003003358840942383,\n",
       "  0.004003763198852539,\n",
       "  0.006003856658935547,\n",
       "  0.004003047943115234,\n",
       "  0.0030024051666259766,\n",
       "  0.0030014514923095703,\n",
       "  0.0030031204223632812,\n",
       "  0.004004001617431641,\n",
       "  0.003002643585205078,\n",
       "  0.0040035247802734375,\n",
       "  0.0030024051666259766,\n",
       "  0.004004240036010742,\n",
       "  0.006005764007568359,\n",
       "  0.0040035247802734375,\n",
       "  0.004003286361694336,\n",
       "  0.005004405975341797,\n",
       "  0.0040035247802734375,\n",
       "  0.004003286361694336,\n",
       "  0.0030014514923095703,\n",
       "  0.004003763198852539,\n",
       "  0.003002166748046875,\n",
       "  0.004004955291748047,\n",
       "  0.006004810333251953,\n",
       "  0.004004240036010742,\n",
       "  0.004004001617431641,\n",
       "  0.0030024051666259766,\n",
       "  0.004003763198852539,\n",
       "  0.0030028820037841797,\n",
       "  0.0030024051666259766,\n",
       "  0.0030019283294677734,\n",
       "  0.0040035247802734375,\n",
       "  0.004003047943115234,\n",
       "  0.005004167556762695,\n",
       "  0.003001689910888672,\n",
       "  0.003002643585205078,\n",
       "  0.0030031204223632812,\n",
       "  0.003002166748046875,\n",
       "  0.004003286361694336,\n",
       "  0.003002643585205078,\n",
       "  0.0030035972595214844,\n",
       "  0.0030024051666259766,\n",
       "  0.004003286361694336,\n",
       "  0.007007122039794922,\n",
       "  0.003002643585205078,\n",
       "  0.004003286361694336,\n",
       "  0.0030028820037841797,\n",
       "  0.0030024051666259766,\n",
       "  0.003002166748046875,\n",
       "  0.0030035972595214844,\n",
       "  0.0030028820037841797,\n",
       "  0.004003047943115234,\n",
       "  0.004003763198852539,\n",
       "  0.0050048828125,\n",
       "  0.004004240036010742,\n",
       "  0.004003763198852539,\n",
       "  0.004003286361694336,\n",
       "  0.004004478454589844,\n",
       "  0.0030024051666259766,\n",
       "  0.003001689910888672,\n",
       "  0.004004001617431641,\n",
       "  0.003002643585205078,\n",
       "  0.004004001617431641,\n",
       "  0.0050051212310791016,\n",
       "  0.003002643585205078,\n",
       "  0.003003358840942383,\n",
       "  0.003003358840942383,\n",
       "  0.0030024051666259766,\n",
       "  0.003003358840942383,\n",
       "  0.0030024051666259766,\n",
       "  0.0035080909729003906,\n",
       "  0.004003286361694336,\n",
       "  0.004004001617431641,\n",
       "  0.004003286361694336,\n",
       "  0.0030031204223632812,\n",
       "  0.004003286361694336,\n",
       "  0.003002166748046875,\n",
       "  0.003002643585205078,\n",
       "  0.0040035247802734375,\n",
       "  0.004003047943115234,\n",
       "  0.004002809524536133,\n",
       "  0.005005359649658203,\n",
       "  0.0050051212310791016,\n",
       "  0.0040035247802734375,\n",
       "  0.0030028820037841797,\n",
       "  0.0030035972595214844,\n",
       "  0.0030035972595214844,\n",
       "  0.0030045509338378906,\n",
       "  0.003002166748046875,\n",
       "  0.003002643585205078,\n",
       "  0.0030024051666259766,\n",
       "  0.004003047943115234,\n",
       "  0.0050048828125,\n",
       "  0.005004167556762695,\n",
       "  0.004004001617431641,\n",
       "  0.003002166748046875,\n",
       "  0.003003835678100586,\n",
       "  0.0030028820037841797,\n",
       "  0.003002643585205078,\n",
       "  0.0030028820037841797,\n",
       "  0.0040035247802734375,\n",
       "  0.004004001617431641,\n",
       "  0.0040035247802734375,\n",
       "  0.004003047943115234,\n",
       "  0.004659891128540039,\n",
       "  0.003002643585205078,\n",
       "  0.003002643585205078,\n",
       "  0.004004240036010742,\n",
       "  0.0030028820037841797,\n",
       "  0.0030028820037841797,\n",
       "  0.004004240036010742,\n",
       "  0.0030024051666259766,\n",
       "  0.003927469253540039,\n",
       "  0.004004716873168945,\n",
       "  0.003002643585205078,\n",
       "  0.003003358840942383,\n",
       "  0.003002643585205078,\n",
       "  0.004003047943115234,\n",
       "  0.004003763198852539,\n",
       "  0.0040035247802734375,\n",
       "  0.0040035247802734375,\n",
       "  0.003001689910888672,\n",
       "  0.0040035247802734375,\n",
       "  0.006006002426147461,\n",
       "  0.0030031204223632812,\n",
       "  0.0030024051666259766,\n",
       "  0.0030024051666259766,\n",
       "  0.003003358840942383,\n",
       "  0.003002643585205078,\n",
       "  0.004004955291748047,\n",
       "  0.003002643585205078,\n",
       "  0.004004955291748047,\n",
       "  0.0050048828125,\n",
       "  0.0050051212310791016,\n",
       "  0.003002643585205078,\n",
       "  0.0030028820037841797,\n",
       "  0.0030035972595214844,\n",
       "  0.004003286361694336,\n",
       "  0.0030028820037841797,\n",
       "  0.0040035247802734375,\n",
       "  0.0040035247802734375,\n",
       "  0.0040035247802734375,\n",
       "  0.005003690719604492,\n",
       "  0.004003763198852539,\n",
       "  0.004003763198852539,\n",
       "  0.0030028820037841797,\n",
       "  0.0030019283294677734,\n",
       "  0.0030028820037841797,\n",
       "  0.0030035972595214844,\n",
       "  0.0030028820037841797,\n",
       "  0.003003835678100586,\n",
       "  0.0030028820037841797,\n",
       "  0.005004405975341797,\n",
       "  0.0040035247802734375,\n",
       "  0.0030028820037841797,\n",
       "  0.004003286361694336,\n",
       "  0.004002809524536133,\n",
       "  0.0030024051666259766,\n",
       "  0.003003358840942383,\n",
       "  0.004002809524536133,\n",
       "  0.0030028820037841797,\n",
       "  0.004003047943115234,\n",
       "  0.005004405975341797,\n",
       "  0.0060040950775146484,\n",
       "  0.004004001617431641,\n",
       "  0.005002260208129883,\n",
       "  0.004004001617431641,\n",
       "  0.006005048751831055,\n",
       "  0.004003763198852539,\n",
       "  0.004004240036010742,\n",
       "  0.004003763198852539,\n",
       "  0.0050048828125,\n",
       "  0.005002737045288086,\n",
       "  0.005004405975341797,\n",
       "  0.003002643585205078,\n",
       "  0.0030028820037841797,\n",
       "  0.004003286361694336,\n",
       "  0.004003763198852539,\n",
       "  0.003003835678100586,\n",
       "  0.004004001617431641,\n",
       "  0.0030031204223632812,\n",
       "  0.0030031204223632812,\n",
       "  0.004004001617431641,\n",
       "  0.006005287170410156,\n",
       "  0.0030012130737304688,\n",
       "  0.004002809524536133,\n",
       "  0.0040035247802734375,\n",
       "  0.003003835678100586,\n",
       "  0.0030028820037841797,\n",
       "  0.0030028820037841797,\n",
       "  0.0030028820037841797,\n",
       "  0.0039348602294921875,\n",
       "  0.004002809524536133,\n",
       "  0.005003213882446289,\n",
       "  0.005003929138183594,\n",
       "  0.0040051937103271484,\n",
       "  0.004003763198852539,\n",
       "  0.0030019283294677734,\n",
       "  0.005003929138183594,\n",
       "  0.004003286361694336,\n",
       "  0.004006862640380859,\n",
       "  0.004003763198852539,\n",
       "  0.005004167556762695,\n",
       "  0.0050048828125,\n",
       "  0.004003286361694336,\n",
       "  0.003002166748046875,\n",
       "  0.0030012130737304688,\n",
       "  0.0030019283294677734,\n",
       "  0.003002643585205078,\n",
       "  0.0030024051666259766,\n",
       "  0.0030035972595214844,\n",
       "  0.003002643585205078,\n",
       "  0.0050048828125,\n",
       "  0.0050046443939208984,\n",
       "  0.0030019283294677734,\n",
       "  0.003001689910888672,\n",
       "  0.004002094268798828,\n",
       "  0.003002166748046875,\n",
       "  0.0030019283294677734,\n",
       "  0.004003763198852539,\n",
       "  0.004003763198852539,\n",
       "  0.0030024051666259766,\n",
       "  0.0040035247802734375,\n",
       "  0.005003690719604492,\n",
       "  0.006004810333251953,\n",
       "  0.004003047943115234,\n",
       "  0.0030031204223632812,\n",
       "  0.0030024051666259766,\n",
       "  0.0030024051666259766,\n",
       "  0.003002643585205078,\n",
       "  0.003002643585205078,\n",
       "  0.0030028820037841797,\n",
       "  0.004004001617431641,\n",
       "  0.005004167556762695,\n",
       "  0.004426479339599609,\n",
       "  0.0030019283294677734,\n",
       "  0.0030019283294677734,\n",
       "  0.0040035247802734375,\n",
       "  0.0030031204223632812,\n",
       "  0.003002643585205078,\n",
       "  0.0030028820037841797,\n",
       "  0.004003047943115234,\n",
       "  0.004003286361694336,\n",
       "  0.0050046443939208984,\n",
       "  0.004003763198852539,\n",
       "  0.0030024051666259766,\n",
       "  0.0030028820037841797,\n",
       "  0.0030019283294677734,\n",
       "  0.0030028820037841797,\n",
       "  0.0030028820037841797,\n",
       "  0.0030024051666259766,\n",
       "  0.003002643585205078,\n",
       "  0.004931926727294922,\n",
       "  0.005004167556762695,\n",
       "  0.004004001617431641,\n",
       "  0.0030028820037841797,\n",
       "  0.0030028820037841797,\n",
       "  0.003002643585205078,\n",
       "  0.0030028820037841797,\n",
       "  0.003918647766113281,\n",
       "  0.003002643585205078,\n",
       "  0.003002643585205078,\n",
       "  0.004002809524536133,\n",
       "  0.006005525588989258,\n",
       "  0.004003286361694336,\n",
       "  0.0030012130737304688,\n",
       "  0.0040035247802734375,\n",
       "  0.0030019283294677734,\n",
       "  0.003002643585205078,\n",
       "  0.0030031204223632812,\n",
       "  0.004004240036010742,\n",
       "  0.0040035247802734375,\n",
       "  0.004004240036010742,\n",
       "  0.005004167556762695,\n",
       "  0.004003286361694336,\n",
       "  0.003002643585205078,\n",
       "  0.0030035972595214844,\n",
       "  0.00400233268737793,\n",
       "  0.003002166748046875,\n",
       "  0.004004240036010742,\n",
       "  0.0030028820037841797,\n",
       "  0.004003286361694336,\n",
       "  0.005005359649658203,\n",
       "  0.004003763198852539,\n",
       "  0.0030028820037841797,\n",
       "  0.0030028820037841797,\n",
       "  0.004003286361694336,\n",
       "  0.0040035247802734375,\n",
       "  0.004004716873168945,\n",
       "  0.0030024051666259766,\n",
       "  0.004003286361694336,\n",
       "  0.0030024051666259766,\n",
       "  0.004920005798339844,\n",
       "  0.004001617431640625,\n",
       "  0.0030031204223632812,\n",
       "  0.003003358840942383,\n",
       "  0.0040018558502197266,\n",
       "  0.003002643585205078,\n",
       "  0.004004955291748047,\n",
       "  0.0030028820037841797,\n",
       "  0.0030028820037841797,\n",
       "  0.0030019283294677734,\n",
       "  0.004003763198852539,\n",
       "  0.0050048828125,\n",
       "  0.004002094268798828,\n",
       "  0.0040035247802734375,\n",
       "  0.004004240036010742,\n",
       "  0.004003763198852539,\n",
       "  0.003929853439331055,\n",
       "  0.003002643585205078,\n",
       "  0.004004478454589844,\n",
       "  0.003003358840942383,\n",
       "  0.004004001617431641,\n",
       "  0.005004405975341797,\n",
       "  0.00400233268737793,\n",
       "  0.003003835678100586,\n",
       "  0.003002166748046875,\n",
       "  0.0030031204223632812,\n",
       "  0.0030024051666259766,\n",
       "  0.0030024051666259766,\n",
       "  0.0040035247802734375,\n",
       "  0.0030028820037841797,\n",
       "  0.004003763198852539,\n",
       "  0.006004810333251953,\n",
       "  0.004003286361694336,\n",
       "  0.0030019283294677734,\n",
       "  0.0030028820037841797,\n",
       "  0.0030031204223632812,\n",
       "  0.0030024051666259766,\n",
       "  0.004003286361694336,\n",
       "  0.0030028820037841797,\n",
       "  0.003003358840942383,\n",
       "  0.0040035247802734375,\n",
       "  0.006005048751831055,\n",
       "  0.004003763198852539,\n",
       "  0.0030024051666259766,\n",
       "  0.0030031204223632812,\n",
       "  0.0030031204223632812,\n",
       "  0.003002166748046875,\n",
       "  0.0030024051666259766,\n",
       "  0.0030028820037841797,\n",
       "  0.0030028820037841797,\n",
       "  0.004925727844238281,\n",
       "  0.004002809524536133,\n",
       "  0.0030014514923095703,\n",
       "  0.003003835678100586,\n",
       "  0.003001689910888672,\n",
       "  0.0030024051666259766,\n",
       "  0.004003286361694336,\n",
       "  0.0030024051666259766,\n",
       "  0.004004240036010742,\n",
       "  0.0030014514923095703,\n",
       "  0.004004478454589844,\n",
       "  0.0050046443939208984,\n",
       "  0.0030031204223632812,\n",
       "  0.0030028820037841797,\n",
       "  0.004004001617431641,\n",
       "  0.0030028820037841797,\n",
       "  0.0040035247802734375,\n",
       "  0.004899740219116211,\n",
       "  0.003003358840942383,\n",
       "  0.004003763198852539,\n",
       "  0.00400233268737793,\n",
       "  0.006005764007568359,\n",
       "  0.004003763198852539,\n",
       "  0.0030024051666259766,\n",
       "  0.003002643585205078,\n",
       "  0.0040035247802734375,\n",
       "  0.003002643585205078,\n",
       "  0.003002166748046875,\n",
       "  0.005005359649658203,\n",
       "  0.0040035247802734375,\n",
       "  0.005004167556762695,\n",
       "  0.004004478454589844,\n",
       "  0.003002643585205078,\n",
       "  0.003919839859008789,\n",
       "  0.0040035247802734375,\n",
       "  0.003002643585205078,\n",
       "  0.003002643585205078,\n",
       "  0.003002643585205078,\n",
       "  0.0040035247802734375,\n",
       "  0.0030031204223632812,\n",
       "  0.004004001617431641,\n",
       "  0.006005287170410156,\n",
       "  0.003002643585205078,\n",
       "  0.004003047943115234,\n",
       "  0.0050046443939208984,\n",
       "  0.004004955291748047,\n",
       "  0.004002809524536133,\n",
       "  0.004004240036010742,\n",
       "  0.004003763198852539,\n",
       "  0.005005359649658203,\n",
       "  0.007005929946899414,\n",
       "  0.005005836486816406,\n",
       "  0.004003286361694336,\n",
       "  0.006004810333251953,\n",
       "  0.004004955291748047,\n",
       "  0.00400233268737793,\n",
       "  0.004002571105957031,\n",
       "  0.0050046443939208984,\n",
       "  0.003002643585205078,\n",
       "  0.004003047943115234,\n",
       "  0.004004001617431641,\n",
       "  0.005004167556762695,\n",
       "  0.004003047943115234,\n",
       "  0.004004001617431641,\n",
       "  0.0050048828125,\n",
       "  0.0040035247802734375,\n",
       "  0.0040035247802734375,\n",
       "  0.004003763198852539,\n",
       "  0.0040035247802734375,\n",
       "  0.005004405975341797,\n",
       "  0.004004240036010742,\n",
       "  0.005005359649658203,\n",
       "  0.0030028820037841797,\n",
       "  0.0030028820037841797,\n",
       "  0.0040035247802734375,\n",
       "  0.004004001617431641,\n",
       "  0.004004240036010742,\n",
       "  0.00400233268737793,\n",
       "  0.004003047943115234,\n",
       "  0.003003358840942383,\n",
       "  0.0040035247802734375,\n",
       "  0.0050046443939208984,\n",
       "  0.004004001617431641,\n",
       "  0.004004955291748047,\n",
       "  0.004003763198852539,\n",
       "  0.0030031204223632812,\n",
       "  0.004004001617431641,\n",
       "  0.004004240036010742,\n",
       "  0.004003286361694336,\n",
       "  0.003002643585205078,\n",
       "  0.004004001617431641,\n",
       "  0.005003929138183594,\n",
       "  0.004002094268798828,\n",
       "  0.00492405891418457,\n",
       "  0.004002809524536133,\n",
       "  0.0040035247802734375,\n",
       "  0.004004001617431641,\n",
       "  0.004003286361694336,\n",
       "  0.003002643585205078,\n",
       "  0.004004001617431641,\n",
       "  0.004003286361694336,\n",
       "  0.005004405975341797,\n",
       "  0.004004240036010742,\n",
       "  0.0030028820037841797,\n",
       "  0.003001689910888672,\n",
       "  0.004004001617431641,\n",
       "  0.004002809524536133,\n",
       "  0.0030019283294677734,\n",
       "  0.003002643585205078,\n",
       "  0.0030040740966796875,\n",
       "  0.003923892974853516,\n",
       "  0.005004405975341797,\n",
       "  0.003003358840942383,\n",
       "  0.0030031204223632812,\n",
       "  0.0030028820037841797,\n",
       "  0.004003047943115234,\n",
       "  0.0030028820037841797,\n",
       "  0.0030024051666259766,\n",
       "  0.0030019283294677734,\n",
       "  0.0030028820037841797,\n",
       "  0.0040035247802734375,\n",
       "  0.004003763198852539,\n",
       "  0.0030028820037841797,\n",
       "  0.003002643585205078,\n",
       "  0.004002809524536133,\n",
       "  0.0030028820037841797,\n",
       "  0.0030014514923095703,\n",
       "  0.002980947494506836,\n",
       "  0.004004001617431641,\n",
       "  0.0040035247802734375,\n",
       "  0.0040056705474853516,\n",
       "  0.0050051212310791016,\n",
       "  0.0030031204223632812,\n",
       "  0.0030040740966796875,\n",
       "  0.003003835678100586,\n",
       "  0.0030028820037841797,\n",
       "  0.003002166748046875,\n",
       "  0.004003763198852539,\n",
       "  0.003003358840942383,\n",
       "  0.0030019283294677734,\n",
       "  0.004004001617431641,\n",
       "  0.004003047943115234,\n",
       "  0.0030024051666259766,\n",
       "  0.0030028820037841797,\n",
       "  0.0030028820037841797,\n",
       "  0.003002166748046875,\n",
       "  0.0040035247802734375,\n",
       "  0.003002643585205078,\n",
       "  0.003003358840942383,\n",
       "  0.004003286361694336,\n",
       "  0.004003763198852539,\n",
       "  0.0050029754638671875,\n",
       "  0.004003286361694336,\n",
       "  0.003002643585205078,\n",
       "  0.0030031204223632812,\n",
       "  0.0030028820037841797,\n",
       "  0.006005525588989258,\n",
       "  0.003002643585205078,\n",
       "  0.003003358840942383,\n",
       "  0.0030019283294677734,\n",
       "  0.004004001617431641,\n",
       "  0.005930423736572266,\n",
       "  0.006005525588989258,\n",
       "  0.0060045719146728516,\n",
       "  0.003002643585205078,\n",
       "  0.005004405975341797,\n",
       "  0.004003286361694336,\n",
       "  0.0030028820037841797,\n",
       "  0.0030031204223632812,\n",
       "  0.004004240036010742,\n",
       "  0.0050029754638671875,\n",
       "  0.006005525588989258,\n",
       "  0.004003286361694336,\n",
       "  0.0030035972595214844,\n",
       "  0.0030024051666259766,\n",
       "  0.004003047943115234,\n",
       "  0.003003358840942383,\n",
       "  0.003001689910888672,\n",
       "  0.0050051212310791016,\n",
       "  0.004004240036010742,\n",
       "  0.004003286361694336,\n",
       "  0.004003763198852539,\n",
       "  0.0030024051666259766,\n",
       "  0.0030028820037841797,\n",
       "  0.003003835678100586,\n",
       "  0.003002643585205078,\n",
       "  0.003003835678100586,\n",
       "  0.0030014514923095703,\n",
       "  0.0030024051666259766,\n",
       "  0.004004240036010742,\n",
       "  0.004004716873168945,\n",
       "  0.004004240036010742,\n",
       "  0.0030028820037841797,\n",
       "  0.003002643585205078,\n",
       "  0.004003763198852539,\n",
       "  0.00400233268737793,\n",
       "  0.0040035247802734375,\n",
       "  0.004003286361694336,\n",
       "  0.004003286361694336,\n",
       "  0.003002643585205078,\n",
       "  0.004003763198852539,\n",
       "  0.006005764007568359,\n",
       "  0.004003763198852539,\n",
       "  0.0030031204223632812,\n",
       "  0.003002166748046875,\n",
       "  0.003002643585205078,\n",
       "  0.003003358840942383,\n",
       "  0.003002166748046875,\n",
       "  0.003002643585205078,\n",
       "  0.003001689910888672,\n",
       "  0.004004240036010742,\n",
       "  0.005005359649658203,\n",
       "  0.0040035247802734375,\n",
       "  0.0040035247802734375,\n",
       "  0.0040035247802734375,\n",
       "  0.0040035247802734375,\n",
       "  0.0030031204223632812,\n",
       "  0.004002809524536133,\n",
       "  0.004002809524536133,\n",
       "  0.004003763198852539,\n",
       "  0.004003286361694336,\n",
       "  ...],)"
      ]
     },
     "execution_count": 18,
     "metadata": {},
     "output_type": "execute_result"
    }
   ],
   "source": [
    "env.visualizeTimeByIteration().items[0].data"
   ]
  },
  {
   "cell_type": "code",
   "execution_count": 19,
   "metadata": {},
   "outputs": [
    {
     "data": {
      "text/plain": [
       "0.5005121231079102"
      ]
     },
     "execution_count": 19,
     "metadata": {},
     "output_type": "execute_result"
    }
   ],
   "source": [
    "env.timeByIteration[-1]*100"
   ]
  },
  {
   "cell_type": "code",
   "execution_count": 20,
   "metadata": {},
   "outputs": [
    {
     "data": {
      "text/plain": [
       "[@☰#11↝🕹'#Agent.move'↕2,\n",
       " @☰#12↝👁'#Agent.position'↕2,\n",
       " @☰#13↝👁'#Agent.positionToAgent'↕2,\n",
       " @☰#14↝👁'#Agent.color'↕3,\n",
       " @☰#15↝👁'#Agent.lidar'↕8,\n",
       " @☰∥#16⇉👁[↝👁'#Agent.positionToAgent' ↝👁'#Agent.lidar' ↝👁'#Agent.position' ↝👁'#Agent.color']↕15,\n",
       " @☰#17↝👁'#Agent.position':PRE↕2,\n",
       " @☰#18↝👁'#Agent.positionToAgent':PRE↕2,\n",
       " @☰#19↝👁'#Agent.color':PRE↕3,\n",
       " @☰#20↝👁'#Agent.lidar':PRE↕8,\n",
       " @☰∥#21⇉👁[↝👁'#Agent.lidar' ↝👁'#Agent.color' ↝👁'#Agent.position' ↝👁'#Agent.positionToAgent']↕15,\n",
       " @☰∥#22[↝👁'#Agent.position' ↝👁'#Agent.lidar' ↝🕹'#Agent.move' ↝👁'#Agent.positionToAgent' ↝👁'#Agent.color']↕17]"
      ]
     },
     "execution_count": 20,
     "metadata": {},
     "output_type": "execute_result"
    }
   ],
   "source": [
    "learner.dataset.spaces"
   ]
  },
  {
   "cell_type": "code",
   "execution_count": 21,
   "metadata": {},
   "outputs": [
    {
     "data": {
      "text/plain": [
       "array([[13.28878024, 21.75084345],\n",
       "       [13.33363449, 21.81925581],\n",
       "       [ 6.35538347,  7.73682761],\n",
       "       ...,\n",
       "       [ 0.        ,  0.        ],\n",
       "       [ 0.        ,  0.        ],\n",
       "       [ 0.        ,  0.        ]])"
      ]
     },
     "execution_count": 21,
     "metadata": {},
     "output_type": "execute_result"
    }
   ],
   "source": [
    "learner.dataset.space(12).data"
   ]
  },
  {
   "cell_type": "code",
   "execution_count": 22,
   "metadata": {},
   "outputs": [
    {
     "ename": "AttributeError",
     "evalue": "'RandomAgent' object has no attribute 'train'",
     "output_type": "error",
     "traceback": [
      "\u001b[1;31m---------------------------------------------------------------------------\u001b[0m",
      "\u001b[1;31mAttributeError\u001b[0m                            Traceback (most recent call last)",
      "\u001b[1;32m~\\AppData\\Local\\Temp/ipykernel_21344/2912565891.py\u001b[0m in \u001b[0;36m<module>\u001b[1;34m\u001b[0m\n\u001b[1;32m----> 1\u001b[1;33m \u001b[0magent\u001b[0m\u001b[1;33m.\u001b[0m\u001b[0mtrain\u001b[0m\u001b[1;33m(\u001b[0m\u001b[0miterations\u001b[0m\u001b[1;33m=\u001b[0m\u001b[1;36m10\u001b[0m\u001b[1;33m)\u001b[0m\u001b[1;33m\u001b[0m\u001b[1;33m\u001b[0m\u001b[0m\n\u001b[0m\u001b[0;32m      2\u001b[0m \u001b[0menv\u001b[0m\u001b[1;33m.\u001b[0m\u001b[0mrun\u001b[0m\u001b[1;33m(\u001b[0m\u001b[1;33m)\u001b[0m\u001b[1;33m\u001b[0m\u001b[1;33m\u001b[0m\u001b[0m\n",
      "\u001b[1;31mAttributeError\u001b[0m: 'RandomAgent' object has no attribute 'train'"
     ]
    }
   ],
   "source": [
    "agent.train(iterations=10)\n",
    "env.run()"
   ]
  },
  {
   "cell_type": "code",
   "execution_count": null,
   "metadata": {
    "tags": []
   },
   "outputs": [],
   "source": [
    "agent.perform(agent.actions().sample().point([1., 1.]))"
   ]
  },
  {
   "cell_type": "code",
   "execution_count": null,
   "metadata": {},
   "outputs": [],
   "source": [
    "from dinos.data.spacemanager import SpaceManager\n",
    "ds = SpaceManager(storesData=True)\n",
    "ds"
   ]
  },
  {
   "cell_type": "code",
   "execution_count": null,
   "metadata": {
    "tags": []
   },
   "outputs": [],
   "source": [
    "obs = env.world.observe().convertTo(ds)\n",
    "for o in obs:\n",
    "    o.space.addPoint(o, 0)"
   ]
  },
  {
   "cell_type": "code",
   "execution_count": null,
   "metadata": {},
   "outputs": [],
   "source": [
    "ds.spaces"
   ]
  },
  {
   "cell_type": "code",
   "execution_count": null,
   "metadata": {},
   "outputs": [],
   "source": [
    "from dinos.data.dataspace import DataSpace\n",
    "A = DataSpace(ds, 2)\n",
    "B = DataSpace(ds, 2)\n",
    "C = DataSpace(ds, 2)\n",
    "A.addPoint(A.point([1, 2]), 0)\n",
    "B.addPoint(B.point([3, 4]), 0)\n",
    "C.addPoint(C.point([5, 6]), 0)"
   ]
  },
  {
   "cell_type": "code",
   "execution_count": null,
   "metadata": {},
   "outputs": [],
   "source": [
    "Z = ds.multiColSpace([A, B])\n",
    "Y = ds.multiColSpace([Z, C])"
   ]
  },
  {
   "cell_type": "code",
   "execution_count": null,
   "metadata": {},
   "outputs": [],
   "source": [
    "Z.data"
   ]
  },
  {
   "cell_type": "code",
   "execution_count": null,
   "metadata": {},
   "outputs": [],
   "source": [
    "env.world.cascadingProperty('.position')"
   ]
  },
  {
   "cell_type": "code",
   "execution_count": null,
   "metadata": {
    "tags": []
   },
   "outputs": [],
   "source": [
    "from dinos.data.abstract import *\n",
    "amt = AMT()\n",
    "test = amt.abstractProperty(env.world.cascadingProperty('#Cylinder1.position'), appendToChildren=True)"
   ]
  },
  {
   "cell_type": "code",
   "execution_count": null,
   "metadata": {
    "tags": []
   },
   "outputs": [],
   "source": [
    "test.entity.assignable(env.world.cascadingChild('#Cylinder2'))"
   ]
  },
  {
   "cell_type": "code",
   "execution_count": null,
   "metadata": {},
   "outputs": [],
   "source": [
    "test.element.assignables"
   ]
  },
  {
   "cell_type": "code",
   "execution_count": null,
   "metadata": {},
   "outputs": [],
   "source": [
    "test.assignableElements()"
   ]
  },
  {
   "cell_type": "code",
   "execution_count": null,
   "metadata": {
    "tags": []
   },
   "outputs": [],
   "source": [
    "test.get(ds).number"
   ]
  },
  {
   "cell_type": "code",
   "execution_count": null,
   "metadata": {},
   "outputs": [],
   "source": [
    "ds.spaces"
   ]
  },
  {
   "cell_type": "code",
   "execution_count": null,
   "metadata": {},
   "outputs": [],
   "source": [
    "B.data"
   ]
  },
  {
   "cell_type": "code",
   "execution_count": null,
   "metadata": {},
   "outputs": [],
   "source": [
    "cyl = env.world.cascadingChild('Cylinder')\n",
    "prop = env.world.cascadingProperty('Cylinder.position')\n",
    "obs = prop.observe()"
   ]
  },
  {
   "cell_type": "code",
   "execution_count": null,
   "metadata": {},
   "outputs": [],
   "source": [
    "obs.space"
   ]
  },
  {
   "cell_type": "code",
   "execution_count": null,
   "metadata": {},
   "outputs": [],
   "source": [
    "obs.convertTo(ds)"
   ]
  },
  {
   "cell_type": "code",
   "execution_count": null,
   "metadata": {},
   "outputs": [],
   "source": [
    "cyl.convertTo(ds)"
   ]
  },
  {
   "cell_type": "code",
   "execution_count": null,
   "metadata": {},
   "outputs": [],
   "source": [
    "cyl = env.world.cascadingChild('Cylinder')"
   ]
  },
  {
   "cell_type": "code",
   "execution_count": null,
   "metadata": {
    "tags": []
   },
   "outputs": [],
   "source": [
    "cyl.convertTo(ds)"
   ]
  },
  {
   "cell_type": "code",
   "execution_count": null,
   "metadata": {},
   "outputs": [],
   "source": [
    "ds.world.cascadingChildren()[0].native"
   ]
  },
  {
   "cell_type": "code",
   "execution_count": null,
   "metadata": {},
   "outputs": [],
   "source": [
    "[e for e in ds.world.cascadingChildren() if e.linkedTo(cyl)]"
   ]
  },
  {
   "cell_type": "code",
   "execution_count": null,
   "metadata": {},
   "outputs": [],
   "source": [
    "env.world.cascadingProperties()"
   ]
  },
  {
   "cell_type": "code",
   "execution_count": null,
   "metadata": {},
   "outputs": [],
   "source": [
    "env.world.cascadingProperty('.position').observe()"
   ]
  },
  {
   "cell_type": "code",
   "execution_count": null,
   "metadata": {
    "tags": []
   },
   "outputs": [],
   "source": [
    "env.show()"
   ]
  },
  {
   "cell_type": "code",
   "execution_count": null,
   "metadata": {},
   "outputs": [],
   "source": [
    "env.hide()"
   ]
  }
 ],
 "metadata": {
  "interpreter": {
   "hash": "c98f5391dd95639a82f8dfd5f9c5e5de7b0c63b918ded3524d494afc388fb0ea"
  },
  "kernelspec": {
   "display_name": "Python 3.8.3 64-bit ('env': venv)",
   "name": "python3"
  },
  "language_info": {
   "codemirror_mode": {
    "name": "ipython",
    "version": 3
   },
   "file_extension": ".py",
   "mimetype": "text/x-python",
   "name": "python",
   "nbconvert_exporter": "python",
   "pygments_lexer": "ipython3",
   "version": "3.8.3"
  },
  "orig_nbformat": 2
 },
 "nbformat": 4,
 "nbformat_minor": 2
}
