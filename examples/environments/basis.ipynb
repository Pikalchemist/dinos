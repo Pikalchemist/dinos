{
 "cells": [
  {
   "cell_type": "code",
   "execution_count": 1,
   "metadata": {
    "tags": []
   },
   "outputs": [
    {
     "data": {
      "text/plain": [
       "'c:\\\\Data\\\\Projects\\\\phd\\\\dino\\\\env\\\\Scripts\\\\python.exe'"
      ]
     },
     "execution_count": 1,
     "metadata": {},
     "output_type": "execute_result"
    }
   ],
   "source": [
    "%load_ext autoreload\n",
    "%autoreload 2\n",
    "\n",
    "import sys\n",
    "sys.executable"
   ]
  },
  {
   "cell_type": "code",
   "execution_count": 2,
   "metadata": {
    "tags": []
   },
   "outputs": [
    {
     "ename": "ModuleNotFoundError",
     "evalue": "No module named 'dino'",
     "output_type": "error",
     "traceback": [
      "\u001b[1;31m---------------------------------------------------------------------------\u001b[0m",
      "\u001b[1;31mModuleNotFoundError\u001b[0m                       Traceback (most recent call last)",
      "\u001b[1;32m~\\AppData\\Local\\Temp/ipykernel_19200/2836404452.py\u001b[0m in \u001b[0;36m<module>\u001b[1;34m\u001b[0m\n\u001b[1;32m----> 1\u001b[1;33m \u001b[1;32mfrom\u001b[0m \u001b[0mdino\u001b[0m\u001b[1;33m.\u001b[0m\u001b[0menvironments\u001b[0m\u001b[1;33m.\u001b[0m\u001b[0mplayground\u001b[0m \u001b[1;32mimport\u001b[0m \u001b[0mPlaygroundEnvironment\u001b[0m\u001b[1;33m\u001b[0m\u001b[1;33m\u001b[0m\u001b[0m\n\u001b[0m\u001b[0;32m      2\u001b[0m \u001b[0menv\u001b[0m \u001b[1;33m=\u001b[0m \u001b[0mPlaygroundEnvironment\u001b[0m\u001b[1;33m(\u001b[0m\u001b[1;33m)\u001b[0m\u001b[1;33m\u001b[0m\u001b[1;33m\u001b[0m\u001b[0m\n\u001b[0;32m      3\u001b[0m \u001b[0mprint\u001b[0m\u001b[1;33m(\u001b[0m\u001b[0menv\u001b[0m\u001b[1;33m)\u001b[0m\u001b[1;33m\u001b[0m\u001b[1;33m\u001b[0m\u001b[0m\n\u001b[0;32m      4\u001b[0m \u001b[0mprint\u001b[0m\u001b[1;33m(\u001b[0m\u001b[0menv\u001b[0m\u001b[1;33m.\u001b[0m\u001b[0mworld\u001b[0m\u001b[1;33m.\u001b[0m\u001b[0mcascadingChildren\u001b[0m\u001b[1;33m(\u001b[0m\u001b[1;33m)\u001b[0m\u001b[1;33m)\u001b[0m\u001b[1;33m\u001b[0m\u001b[1;33m\u001b[0m\u001b[0m\n\u001b[0;32m      5\u001b[0m \u001b[0mprint\u001b[0m\u001b[1;33m(\u001b[0m\u001b[0menv\u001b[0m\u001b[1;33m.\u001b[0m\u001b[0mworld\u001b[0m\u001b[1;33m.\u001b[0m\u001b[0mcascadingProperties\u001b[0m\u001b[1;33m(\u001b[0m\u001b[1;33m)\u001b[0m\u001b[1;33m)\u001b[0m\u001b[1;33m\u001b[0m\u001b[1;33m\u001b[0m\u001b[0m\n",
      "\u001b[1;31mModuleNotFoundError\u001b[0m: No module named 'dino'"
     ]
    }
   ],
   "source": [
    "from dinos.environments.playground import PlaygroundEnvironment\n",
    "env = PlaygroundEnvironment()\n",
    "print(env)\n",
    "print(env.world.cascadingChildren())\n",
    "print(env.world.cascadingProperties())"
   ]
  },
  {
   "cell_type": "code",
   "execution_count": 4,
   "metadata": {},
   "outputs": [
    {
     "data": {
      "image/png": "[encoded data removed]",
      "text/plain": [
       "<PIL.Image.Image image mode=RGBA size=300x300 at 0x111A5FBB3A0>"
      ]
     },
     "execution_count": 4,
     "metadata": {},
     "output_type": "execute_result"
    }
   ],
   "source": [
    "env.image()"
   ]
  },
  {
   "cell_type": "code",
   "execution_count": 5,
   "metadata": {},
   "outputs": [
    {
     "data": {
      "text/plain": [
       "{}"
      ]
     },
     "execution_count": 5,
     "metadata": {},
     "output_type": "execute_result"
    }
   ],
   "source": [
    "env.scheduledActions()"
   ]
  },
  {
   "cell_type": "code",
   "execution_count": 3,
   "metadata": {
    "tags": []
   },
   "outputs": [
    {
     "name": "stderr",
     "output_type": "stream",
     "text": [
      "2020-09-16 14:56:15 BlackSky m:PlaygroundEnvironment:c[16652] INFO Module 'Agent' has been started\n",
      "2020-09-16 14:56:15 BlackSky m:PlaygroundEnvironment:c[16652] INFO Module 'Performer' has been started\n",
      "2020-09-16 14:56:15 BlackSky m:PlaygroundEnvironment:c[16652] INFO Module 'Strategy randomStrategy' has been started\n"
     ]
    }
   ],
   "source": [
    "from dinos.agents.agent import Agent\n",
    "from dinos.agents.random import RandomAgent\n",
    "agent = RandomAgent(env.world.findHost())"
   ]
  },
  {
   "cell_type": "code",
   "execution_count": 20,
   "metadata": {
    "tags": []
   },
   "outputs": [
    {
     "name": "stdout",
     "output_type": "stream",
     "text": [
      "@@@\n",
      "Goal[#0→👁'#Agent.position'↕2 @442.253, 397.528]\n",
      "State ([SingleData(#0→👁'#Agent.position'↕2 @['342.253', '297.528']), SingleData(#1→👁'#Agent.lidar'↕8 @['27.849', '100.000', '100.000', '100.000', '100.000', '100.000', '100.000', '100.000']), SingleData(#3→👁'#Cylinder1.position'↕2 @['200.000', '300.000']), SingleData(#4→👁'#Cylinder2.position'↕2 @['400.000', '300.000'])])\n",
      "Running\n",
      "Running\n",
      "State ([SingleData(#0→👁'#Agent.position'↕2 @['361.054', '280.606']), SingleData(#1→👁'#Agent.lidar'↕8 @['16.057', '14.628', '100.000', '100.000', '100.000', '100.000', '100.000', '100.000']), SingleData(#3→👁'#Cylinder1.position'↕2 @['200.000', '300.000']), SingleData(#4→👁'#Cylinder2.position'↕2 @['400.000', '300.000'])])\n",
      "DISTANCE Goal[#0→👁'#Agent.position'↕2 @361.054, 280.606] Goal[#0→👁'#Agent.position'↕2 @±81.199, 116.921] 142.351464039247 1.0\n",
      "@@@\n",
      "Goal[#0→👁'#Agent.position'↕2 @861.054, 380.606]\n",
      "State ([SingleData(#0→👁'#Agent.position'↕2 @['361.054', '280.606']), SingleData(#1→👁'#Agent.lidar'↕8 @['16.057', '14.628', '100.000', '100.000', '100.000', '100.000', '100.000', '100.000']), SingleData(#3→👁'#Cylinder1.position'↕2 @['200.000', '300.000']), SingleData(#4→👁'#Cylinder2.position'↕2 @['400.000', '300.000'])])\n",
      "Running\n",
      "Running\n",
      "State ([SingleData(#0→👁'#Agent.position'↕2 @['368.066', '271.564']), SingleData(#1→👁'#Agent.lidar'↕8 @['100.000', '12.790', '100.000', '100.000', '100.000', '100.000', '100.000', '100.000']), SingleData(#3→👁'#Cylinder1.position'↕2 @['200.000', '300.000']), SingleData(#4→👁'#Cylinder2.position'↕2 @['400.000', '300.000'])])\n",
      "DISTANCE Goal[#0→👁'#Agent.position'↕2 @368.066, 271.564] Goal[#0→👁'#Agent.position'↕2 @±492.989, 109.042] 504.90384728497224 1.0\n",
      "@@@\n",
      "Goal[#0→👁'#Agent.position'↕2 @468.066, 771.564]\n",
      "State ([SingleData(#0→👁'#Agent.position'↕2 @['368.066', '271.564']), SingleData(#1→👁'#Agent.lidar'↕8 @['100.000', '12.790', '100.000', '100.000', '100.000', '100.000', '100.000', '100.000']), SingleData(#3→👁'#Cylinder1.position'↕2 @['200.000', '300.000']), SingleData(#4→👁'#Cylinder2.position'↕2 @['400.000', '300.000'])])\n",
      "Running\n",
      "Running\n",
      "State ([SingleData(#0→👁'#Agent.position'↕2 @['377.719', '284.306']), SingleData(#1→👁'#Agent.lidar'↕8 @['14.760', '10.577', '100.000', '100.000', '100.000', '100.000', '100.000', '100.000']), SingleData(#3→👁'#Cylinder1.position'↕2 @['200.000', '300.000']), SingleData(#4→👁'#Cylinder2.position'↕2 @['410.006', '308.653'])])\n",
      "DISTANCE Goal[#0→👁'#Agent.position'↕2 @377.719, 284.306] Goal[#0→👁'#Agent.position'↕2 @±90.347, 487.258] 495.5637137564233 1.0\n",
      "@@@\n",
      "Goal[#0→👁'#Agent.position'↕2 @877.719, 784.306]\n",
      "State ([SingleData(#0→👁'#Agent.position'↕2 @['377.719', '284.306']), SingleData(#1→👁'#Agent.lidar'↕8 @['14.760', '10.577', '100.000', '100.000', '100.000', '100.000', '100.000', '100.000']), SingleData(#3→👁'#Cylinder1.position'↕2 @['200.000', '300.000']), SingleData(#4→👁'#Cylinder2.position'↕2 @['410.006', '308.653'])])\n",
      "Running\n",
      "Running\n",
      "State ([SingleData(#0→👁'#Agent.position'↕2 @['389.645', '296.825']), SingleData(#1→👁'#Agent.lidar'↕8 @['13.661', '10.903', '100.000', '100.000', '100.000', '100.000', '100.000', '100.000']), SingleData(#3→👁'#Cylinder1.position'↕2 @['200.000', '300.000']), SingleData(#4→👁'#Cylinder2.position'↕2 @['423.762', '318.769'])])\n",
      "DISTANCE Goal[#0→👁'#Agent.position'↕2 @389.645, 296.825] Goal[#0→👁'#Agent.position'↕2 @±488.074, 487.481] 689.8218329081058 1.0\n",
      "[(1.0, Goal[#0→👁'#Agent.position'↕2 @±100.000, 100.000], Goal[#0→👁'#Agent.position'↕2 @361.054, 280.606]), (1.0, Goal[#0→👁'#Agent.position'↕2 @±500.000, 100.000], Goal[#0→👁'#Agent.position'↕2 @368.066, 271.564]), (1.0, Goal[#0→👁'#Agent.position'↕2 @±100.000, 500.000], Goal[#0→👁'#Agent.position'↕2 @377.719, 284.306]), (1.0, Goal[#0→👁'#Agent.position'↕2 @±500.000, 500.000], Goal[#0→👁'#Agent.position'↕2 @389.645, 296.825])]\n"
     ]
    }
   ],
   "source": [
    "env.evaluate()"
   ]
  },
  {
   "cell_type": "code",
   "execution_count": 14,
   "metadata": {},
   "outputs": [
    {
     "data": {
      "text/plain": [
       "[(1.0,\n",
       "  Goal[#0→👁'#Agent.position'↕2 @±100.000, 100.000],\n",
       "  Goal[#0→👁'#Agent.position'↕2 @328.376, 276.390]),\n",
       " (1.0,\n",
       "  Goal[#0→👁'#Agent.position'↕2 @±500.000, 100.000],\n",
       "  Goal[#0→👁'#Agent.position'↕2 @314.246, 286.339]),\n",
       " (1.0,\n",
       "  Goal[#0→👁'#Agent.position'↕2 @±100.000, 500.000],\n",
       "  Goal[#0→👁'#Agent.position'↕2 @328.626, 290.080]),\n",
       " (1.0,\n",
       "  Goal[#0→👁'#Agent.position'↕2 @±500.000, 500.000],\n",
       "  Goal[#0→👁'#Agent.position'↕2 @340.014, 280.453])]"
      ]
     },
     "execution_count": 14,
     "metadata": {},
     "output_type": "execute_result"
    }
   ],
   "source": [
    "env.evaluators[0].evaluations[0].results[0].results"
   ]
  },
  {
   "cell_type": "code",
   "execution_count": 7,
   "metadata": {},
   "outputs": [
    {
     "data": {
      "text/plain": [
       "0"
      ]
     },
     "execution_count": 7,
     "metadata": {},
     "output_type": "execute_result"
    }
   ],
   "source": [
    "env.iteration"
   ]
  },
  {
   "cell_type": "code",
   "execution_count": 29,
   "metadata": {
    "tags": []
   },
   "outputs": [
    {
     "name": "stderr",
     "output_type": "stream",
     "text": [
      "2020-09-16 15:15:06 BlackSky m:PlaygroundEnvironment:c[16652] INFO Module 'ModelDataset' has been started\n",
      "2020-09-16 15:15:06 BlackSky m:PlaygroundEnvironment:c[16652] INFO Module 'ModelDataset' has been started\n",
      "2020-09-16 15:15:06 BlackSky m:PlaygroundEnvironment:c[16652] INFO Module 'Agent' has been started\n",
      "2020-09-16 15:15:06 BlackSky m:PlaygroundEnvironment:c[16652] INFO Module 'Performer' has been started\n",
      "2020-09-16 15:15:06 BlackSky m:PlaygroundEnvironment:c[16652] INFO Module 'Strategy randomStrategy' has been started\n"
     ]
    }
   ],
   "source": [
    "from dinos.agents.agent import Agent\n",
    "from dinos.agents.learners.model.random import RandomLearner\n",
    "learner = RandomLearner(env.world.findHost())"
   ]
  },
  {
   "cell_type": "code",
   "execution_count": 7,
   "metadata": {},
   "outputs": [
    {
     "data": {
      "text/plain": [
       "[🕹'#Agent.move']"
      ]
     },
     "execution_count": 7,
     "metadata": {},
     "output_type": "execute_result"
    }
   ],
   "source": [
    "agent.actions()"
   ]
  },
  {
   "cell_type": "code",
   "execution_count": 18,
   "metadata": {
    "tags": []
   },
   "outputs": [],
   "source": [
    "agent.test()"
   ]
  },
  {
   "cell_type": "code",
   "execution_count": 30,
   "metadata": {
    "tags": []
   },
   "outputs": [],
   "source": [
    "learner.train(1000)"
   ]
  },
  {
   "cell_type": "code",
   "execution_count": 31,
   "metadata": {
    "tags": []
   },
   "outputs": [
    {
     "name": "stdout",
     "output_type": "stream",
     "text": [
      "Running\n",
      "Running\n",
      "Running\n",
      "Running\n",
      "Running\n",
      "Running\n",
      "Running\n",
      "Running\n",
      "Running\n",
      "Running\n",
      "Running\n",
      "Running\n",
      "Running\n",
      "Running\n",
      "Running\n",
      "Running\n",
      "Running\n",
      "Running\n",
      "Running\n",
      "Running\n",
      "Running\n",
      "Running\n",
      "Running\n",
      "Running\n",
      "Running\n",
      "Running\n",
      "Running\n",
      "Running\n",
      "Running\n",
      "Running\n",
      "Running\n",
      "Running\n",
      "Running\n",
      "Running\n",
      "Running\n",
      "Running\n",
      "Running\n",
      "Running\n",
      "Running\n",
      "Running\n",
      "Running\n",
      "Running\n",
      "Running\n",
      "Running\n",
      "Running\n",
      "Running\n",
      "Running\n",
      "Running\n",
      "Running\n",
      "Running\n",
      "Running\n",
      "Running\n",
      "Running\n",
      "Running\n",
      "Running\n",
      "Running\n",
      "Running\n",
      "Running\n",
      "Running\n",
      "Running\n",
      "Running\n",
      "Running\n",
      "Running\n",
      "Running\n",
      "Running\n",
      "Running\n",
      "Running\n",
      "Running\n",
      "Running\n",
      "Running\n",
      "Running\n",
      "Running\n",
      "Running\n",
      "Running\n",
      "Running\n",
      "Running\n",
      "Running\n",
      "Running\n",
      "Running\n",
      "Running\n",
      "Running\n",
      "Running\n",
      "Running\n",
      "Running\n",
      "Running\n",
      "Running\n",
      "Running\n",
      "Running\n",
      "Running\n",
      "Running\n",
      "Running\n",
      "Running\n",
      "Running\n",
      "Running\n",
      "Running\n",
      "Running\n",
      "Running\n",
      "Running\n",
      "Running\n",
      "Running\n",
      "Running\n",
      "Running\n",
      "Running\n",
      "Running\n",
      "Running\n",
      "Running\n",
      "Running\n",
      "Running\n",
      "Running\n",
      "Running\n",
      "Running\n",
      "Running\n",
      "Running\n",
      "Running\n",
      "Running\n",
      "Running\n",
      "Running\n",
      "Running\n",
      "Running\n",
      "Running\n",
      "Running\n",
      "Running\n",
      "Running\n",
      "Running\n",
      "Running\n",
      "Running\n",
      "Running\n",
      "Running\n",
      "Running\n",
      "Running\n",
      "Running\n",
      "Running\n",
      "Running\n",
      "Running\n",
      "Running\n",
      "Running\n",
      "Running\n",
      "Running\n",
      "Running\n",
      "Running\n",
      "Running\n",
      "Running\n",
      "Running\n",
      "Running\n",
      "Running\n",
      "Running\n",
      "Running\n",
      "Running\n",
      "Running\n",
      "Running\n",
      "Running\n",
      "Running\n",
      "Running\n",
      "Running\n",
      "Running\n",
      "Running\n",
      "Running\n",
      "Running\n",
      "Running\n",
      "Running\n",
      "Running\n",
      "Running\n",
      "Running\n",
      "Running\n",
      "Running\n",
      "Running\n",
      "Running\n",
      "Running\n",
      "Running\n",
      "Running\n",
      "Running\n",
      "Running\n",
      "Running\n",
      "Running\n",
      "Running\n",
      "Running\n",
      "Running\n",
      "Running\n",
      "Running\n",
      "Running\n",
      "Running\n",
      "Running\n",
      "Running\n",
      "Running\n",
      "Running\n",
      "Running\n",
      "Running\n",
      "Running\n",
      "Running\n",
      "Running\n",
      "Running\n",
      "Running\n",
      "Running\n",
      "Running\n",
      "Running\n",
      "Running\n",
      "Running\n",
      "Running\n",
      "Running\n",
      "Running\n",
      "Running\n",
      "Running\n",
      "Running\n",
      "Running\n",
      "Running\n",
      "Running\n",
      "Running\n",
      "Running\n",
      "Running\n",
      "Running\n",
      "Running\n",
      "Running\n",
      "Running\n",
      "Running\n",
      "Running\n",
      "Running\n",
      "Running\n",
      "Running\n",
      "Running\n",
      "Running\n",
      "Running\n",
      "Running\n",
      "Running\n",
      "Running\n",
      "Running\n",
      "Running\n",
      "Running\n",
      "Running\n",
      "Running\n",
      "Running\n",
      "Running\n",
      "Running\n",
      "Running\n",
      "Running\n",
      "Running\n",
      "Running\n",
      "Running\n",
      "Running\n",
      "Running\n",
      "Running\n",
      "Running\n",
      "Running\n",
      "Running\n",
      "Running\n",
      "Running\n",
      "Running\n",
      "Running\n",
      "Running\n",
      "Running\n",
      "Running\n",
      "Running\n",
      "Running\n",
      "Running\n",
      "Running\n",
      "Running\n",
      "Running\n",
      "Running\n",
      "Running\n",
      "Running\n",
      "Running\n",
      "Running\n",
      "Running\n",
      "Running\n",
      "Running\n",
      "Running\n",
      "Running\n",
      "Running\n",
      "Running\n",
      "Running\n",
      "Running\n",
      "Running\n",
      "Running\n",
      "Running\n",
      "Running\n",
      "Running\n",
      "Running\n",
      "Running\n",
      "Running\n",
      "Running\n",
      "Running\n",
      "Running\n",
      "Running\n",
      "Running\n",
      "Running\n",
      "Running\n",
      "Running\n",
      "Running\n",
      "Running\n",
      "Running\n",
      "Running\n",
      "Running\n",
      "Running\n",
      "Running\n",
      "Running\n",
      "Running\n",
      "Running\n",
      "Running\n",
      "Running\n",
      "Running\n",
      "Running\n",
      "Running\n",
      "Running\n",
      "Running\n",
      "Running\n",
      "Running\n",
      "Running\n",
      "Running\n",
      "Running\n",
      "Running\n",
      "Running\n",
      "Running\n",
      "Running\n",
      "Running\n",
      "Running\n",
      "Running\n",
      "Running\n",
      "Running\n",
      "Running\n",
      "Running\n",
      "Running\n",
      "Running\n",
      "Running\n",
      "Running\n",
      "Running\n",
      "Running\n",
      "Running\n",
      "Running\n",
      "Running\n",
      "Running\n",
      "Running\n",
      "Running\n",
      "Running\n",
      "Running\n",
      "Running\n",
      "Running\n",
      "Running\n",
      "Running\n",
      "Running\n",
      "Running\n",
      "Running\n",
      "Running\n",
      "Running\n",
      "Running\n",
      "Running\n",
      "Running\n",
      "Running\n",
      "Running\n",
      "Running\n",
      "Running\n",
      "Running\n",
      "Running\n",
      "Running\n",
      "Running\n",
      "Running\n",
      "Running\n",
      "Running\n",
      "Running\n",
      "Running\n",
      "Running\n",
      "Running\n",
      "Running\n",
      "Running\n",
      "Running\n",
      "Running\n",
      "Running\n",
      "Running\n",
      "Running\n",
      "Running\n",
      "Running\n",
      "Running\n",
      "Running\n",
      "Running\n",
      "Running\n",
      "Running\n",
      "Running\n",
      "Running\n",
      "Running\n",
      "Running\n",
      "Running\n",
      "Running\n",
      "Running\n",
      "Running\n",
      "Running\n",
      "Running\n",
      "Running\n",
      "Running\n",
      "Running\n",
      "Running\n",
      "Running\n",
      "Running\n",
      "Running\n",
      "Running\n",
      "Running\n",
      "Running\n",
      "Running\n",
      "Running\n",
      "Running\n",
      "Running\n",
      "Running\n",
      "Running\n",
      "Running\n",
      "Running\n",
      "Running\n",
      "Running\n",
      "Running\n",
      "Running\n",
      "Running\n",
      "Running\n",
      "Running\n",
      "Running\n",
      "Running\n",
      "Running\n",
      "Running\n",
      "Running\n",
      "Running\n",
      "Running\n",
      "Running\n",
      "Running\n",
      "Running\n",
      "Running\n",
      "Running\n",
      "Running\n",
      "Running\n",
      "Running\n",
      "Running\n",
      "Running\n",
      "Running\n",
      "Running\n",
      "Running\n",
      "Running\n",
      "Running\n",
      "Running\n",
      "Running\n",
      "Running\n",
      "Running\n",
      "Running\n",
      "Running\n",
      "Running\n",
      "Running\n",
      "Running\n",
      "Running\n",
      "Running\n",
      "Running\n",
      "Running\n",
      "Running\n",
      "Running\n",
      "Running\n",
      "Running\n",
      "Running\n",
      "Running\n",
      "Running\n",
      "Running\n",
      "Running\n",
      "Running\n",
      "Running\n",
      "Running\n",
      "Running\n",
      "Running\n",
      "Running\n",
      "Running\n",
      "Running\n",
      "Running\n",
      "Running\n",
      "Running\n",
      "Running\n",
      "Running\n",
      "Running\n",
      "Running\n",
      "Running\n",
      "Running\n",
      "Running\n",
      "Running\n",
      "Running\n",
      "Running\n",
      "Running\n",
      "Running\n",
      "Running\n",
      "Running\n",
      "Running\n",
      "Running\n",
      "Running\n",
      "Running\n",
      "Running\n",
      "Running\n",
      "Running\n",
      "Running\n",
      "Running\n",
      "Running\n",
      "Running\n",
      "Running\n",
      "Running\n",
      "Running\n",
      "Running\n",
      "Running\n",
      "Running\n",
      "Running\n",
      "Running\n",
      "Running\n",
      "Running\n",
      "Running\n",
      "Running\n",
      "Running\n",
      "Running\n",
      "Running\n",
      "Running\n",
      "Running\n",
      "Running\n",
      "Running\n",
      "Running\n",
      "Running\n",
      "Running\n",
      "Running\n",
      "Running\n",
      "Running\n",
      "Running\n",
      "Running\n",
      "Running\n",
      "Running\n",
      "Running\n",
      "Running\n",
      "Running\n",
      "Running\n",
      "Running\n",
      "Running\n",
      "Running\n",
      "Running\n",
      "Running\n",
      "Running\n",
      "Running\n",
      "Running\n",
      "Running\n",
      "Running\n",
      "Running\n",
      "Running\n",
      "Running\n",
      "Running\n",
      "Running\n",
      "Running\n",
      "Running\n",
      "Running\n",
      "Running\n",
      "Running\n",
      "Running\n",
      "Running\n",
      "Running\n",
      "Running\n",
      "Running\n",
      "Running\n",
      "Running\n",
      "Running\n",
      "Running\n",
      "Running\n",
      "Running\n",
      "Running\n",
      "Running\n",
      "Running\n",
      "Running\n",
      "Running\n",
      "Running\n",
      "Running\n",
      "Running\n",
      "Running\n",
      "Running\n",
      "Running\n",
      "Running\n",
      "Running\n",
      "Running\n",
      "Running\n",
      "Running\n",
      "Running\n",
      "Running\n",
      "Running\n",
      "Running\n",
      "Running\n",
      "Running\n",
      "Running\n",
      "Running\n",
      "Running\n",
      "Running\n",
      "Running\n",
      "Running\n",
      "Running\n",
      "Running\n",
      "Running\n",
      "Running\n",
      "Running\n",
      "Running\n",
      "Running\n",
      "Running\n",
      "Running\n",
      "Running\n",
      "Running\n",
      "Running\n",
      "Running\n",
      "Running\n",
      "Running\n",
      "Running\n",
      "Running\n",
      "Running\n",
      "Running\n",
      "Running\n",
      "Running\n",
      "Running\n",
      "Running\n",
      "Running\n",
      "Running\n",
      "Running\n",
      "Running\n",
      "Running\n",
      "Running\n",
      "Running\n",
      "Running\n",
      "Running\n",
      "Running\n",
      "Running\n",
      "Running\n",
      "Running\n",
      "Running\n",
      "Running\n",
      "Running\n",
      "Running\n",
      "Running\n",
      "Running\n",
      "Running\n",
      "Running\n",
      "Running\n",
      "Running\n",
      "Running\n",
      "Running\n",
      "Running\n",
      "Running\n",
      "Running\n",
      "Running\n",
      "Running\n",
      "Running\n",
      "Running\n",
      "Running\n",
      "Running\n",
      "Running\n",
      "Running\n",
      "Running\n",
      "Running\n",
      "Running\n",
      "Running\n",
      "Running\n",
      "Running\n",
      "Running\n",
      "Running\n",
      "Running\n",
      "Running\n",
      "Running\n",
      "Running\n",
      "Running\n",
      "Running\n",
      "Running\n",
      "Running\n",
      "Running\n",
      "Running\n",
      "Running\n",
      "Running\n",
      "Running\n",
      "Running\n",
      "Running\n",
      "Running\n",
      "Running\n",
      "Running\n",
      "Running\n",
      "Running\n",
      "Running\n",
      "Running\n",
      "Running\n",
      "Running\n",
      "Running\n",
      "Running\n",
      "Running\n",
      "Running\n",
      "Running\n",
      "Running\n",
      "Running\n",
      "Running\n",
      "Running\n",
      "Running\n",
      "Running\n",
      "Running\n",
      "Running\n",
      "Running\n",
      "Running\n",
      "Running\n",
      "Running\n",
      "Running\n",
      "Running\n",
      "Running\n",
      "Running\n",
      "Running\n",
      "Running\n",
      "Running\n",
      "Running\n",
      "Running\n",
      "Running\n",
      "Running\n",
      "Running\n",
      "Running\n",
      "Running\n",
      "Running\n",
      "Running\n",
      "Running\n",
      "Running\n",
      "Running\n",
      "Running\n",
      "Running\n",
      "Running\n",
      "Running\n",
      "Running\n",
      "Running\n",
      "Running\n",
      "Running\n",
      "Running\n",
      "Running\n",
      "Running\n",
      "Running\n",
      "Running\n",
      "Running\n",
      "Running\n",
      "Running\n",
      "Running\n",
      "Running\n",
      "Running\n",
      "Running\n",
      "Running\n",
      "Running\n",
      "Running\n",
      "Running\n",
      "Running\n",
      "Running\n",
      "Running\n",
      "Running\n",
      "Running\n",
      "Running\n",
      "Running\n",
      "Running\n",
      "Running\n",
      "Running\n",
      "Running\n",
      "Running\n",
      "Running\n",
      "Running\n",
      "Running\n",
      "Running\n",
      "Running\n",
      "Running\n",
      "Running\n",
      "Running\n",
      "Running\n",
      "Running\n",
      "Running\n",
      "Running\n",
      "Running\n",
      "Running\n",
      "Running\n",
      "Running\n",
      "Running\n",
      "Running\n",
      "Running\n",
      "Running\n",
      "Running\n",
      "Running\n",
      "Running\n",
      "Running\n",
      "Running\n",
      "Running\n",
      "Running\n",
      "Running\n",
      "Running\n",
      "Running\n",
      "Running\n",
      "Running\n",
      "Running\n",
      "Running\n",
      "Running\n",
      "Running\n",
      "Running\n",
      "Running\n",
      "Running\n",
      "Running\n",
      "Running\n",
      "Running\n",
      "Running\n",
      "Running\n",
      "Running\n",
      "Running\n",
      "Running\n",
      "Running\n",
      "Running\n",
      "Running\n",
      "Running\n",
      "Running\n",
      "Running\n",
      "Running\n",
      "Running\n",
      "Running\n",
      "Running\n",
      "Running\n",
      "Running\n",
      "Running\n",
      "Running\n",
      "Running\n",
      "Running\n",
      "Running\n",
      "Running\n",
      "Running\n",
      "Running\n",
      "Running\n",
      "Running\n",
      "Running\n",
      "Running\n",
      "Running\n",
      "Running\n",
      "Running\n",
      "Running\n",
      "Running\n",
      "Running\n",
      "Running\n",
      "Running\n",
      "Running\n",
      "Running\n",
      "Running\n",
      "Running\n",
      "Running\n",
      "Running\n",
      "Running\n",
      "Running\n",
      "Running\n",
      "Running\n",
      "Running\n",
      "Running\n",
      "Running\n",
      "Running\n",
      "Running\n",
      "Running\n",
      "Running\n",
      "Running\n",
      "Running\n",
      "Running\n",
      "Running\n",
      "Running\n",
      "Running\n",
      "Running\n",
      "Running\n",
      "Running\n",
      "Running\n",
      "Running\n",
      "Running\n",
      "Running\n",
      "Running\n",
      "Running\n",
      "Running\n",
      "Running\n",
      "Running\n",
      "Running\n",
      "Running\n",
      "Running\n",
      "Running\n",
      "Running\n",
      "Running\n",
      "Running\n",
      "Running\n",
      "Running\n",
      "Running\n",
      "Running\n",
      "Running\n",
      "Running\n",
      "Running\n",
      "Running\n",
      "Running\n",
      "Running\n",
      "Running\n",
      "Running\n",
      "Running\n",
      "Running\n",
      "Running\n",
      "Running\n",
      "Running\n",
      "Running\n",
      "Running\n",
      "Running\n",
      "Running\n",
      "Running\n",
      "Running\n",
      "Running\n",
      "Running\n",
      "Running\n",
      "Running\n",
      "Running\n",
      "Running\n",
      "Running\n",
      "Running\n",
      "Running\n",
      "Running\n",
      "Running\n",
      "Running\n",
      "Running\n",
      "Running\n",
      "Running\n",
      "Running\n",
      "Running\n",
      "Running\n",
      "Running\n",
      "Running\n",
      "Running\n",
      "Running\n",
      "Running\n",
      "Running\n",
      "Running\n",
      "Running\n",
      "Running\n",
      "Running\n",
      "Running\n",
      "Running\n",
      "Running\n",
      "Running\n",
      "Running\n",
      "Running\n",
      "Running\n",
      "Running\n",
      "Running\n",
      "Running\n",
      "Running\n",
      "Running\n",
      "Running\n",
      "Running\n",
      "Running\n",
      "Running\n",
      "Running\n",
      "Running\n",
      "Running\n",
      "Running\n",
      "Running\n",
      "Running\n",
      "Running\n",
      "Running\n",
      "Running\n",
      "Running\n",
      "Running\n",
      "Running\n",
      "Running\n",
      "Running\n",
      "Running\n",
      "Running\n",
      "Running\n",
      "Running\n",
      "Running\n",
      "Running\n",
      "Running\n",
      "Running\n",
      "Running\n",
      "Running\n",
      "Running\n",
      "Running\n",
      "Running\n",
      "Running\n",
      "Running\n",
      "Running\n",
      "Running\n",
      "Running\n",
      "Running\n",
      "Running\n",
      "Running\n",
      "Running\n",
      "Running\n",
      "Running\n",
      "Running\n",
      "Running\n",
      "Running\n",
      "Running\n",
      "Running\n",
      "Running\n",
      "Running\n",
      "Running\n",
      "Running\n",
      "Running\n",
      "Running\n",
      "Running\n",
      "Running\n",
      "Running\n",
      "Running\n",
      "Running\n",
      "Running\n",
      "Running\n",
      "Running\n",
      "Running\n",
      "Running\n",
      "Running\n",
      "Running\n",
      "Running\n",
      "Running\n",
      "Running\n",
      "Running\n",
      "Running\n",
      "Running\n",
      "Running\n",
      "Running\n"
     ]
    }
   ],
   "source": [
    "env.run()"
   ]
  },
  {
   "cell_type": "code",
   "execution_count": 32,
   "metadata": {},
   "outputs": [
    {
     "data": {
      "image/png": "[encoded data removed]",
      "image/svg+xml": "<?xml version=\"1.0\" encoding=\"utf-8\" standalone=\"no\"?>\r\n<!DOCTYPE svg PUBLIC \"-//W3C//DTD SVG 1.1//EN\"\r\n  \"http://www.w3.org/Graphics/SVG/1.1/DTD/svg11.dtd\">\r\n<!-- Created with matplotlib (https://matplotlib.org/) -->\r\n<svg height=\"262.19625pt\" version=\"1.1\" viewBox=\"0 0 384.828125 262.19625\" width=\"384.828125pt\" xmlns=\"http://www.w3.org/2000/svg\" xmlns:xlink=\"http://www.w3.org/1999/xlink\">\r\n <metadata>\r\n  <rdf:RDF xmlns:cc=\"http://creativecommons.org/ns#\" xmlns:dc=\"http://purl.org/dc/elements/1.1/\" xmlns:rdf=\"http://www.w3.org/1999/02/22-rdf-syntax-ns#\">\r\n   <cc:Work>\r\n    <dc:type rdf:resource=\"http://purl.org/dc/dcmitype/StillImage\"/>\r\n    <dc:date>2020-09-16T15:15:21.535043</dc:date>\r\n    <dc:format>image/svg+xml</dc:format>\r\n    <dc:creator>\r\n     <cc:Agent>\r\n      <dc:title>Matplotlib v3.3.2, https://matplotlib.org/</dc:title>\r\n     </cc:Agent>\r\n    </dc:creator>\r\n   </cc:Work>\r\n  </rdf:RDF>\r\n </metadata>\r\n <defs>\r\n  <style type=\"text/css\">*{stroke-linecap:butt;stroke-linejoin:round;}</style>\r\n </defs>\r\n <g id=\"figure_1\">\r\n  <g id=\"patch_1\">\r\n   <path d=\"M 0 262.19625 \r\nL 384.828125 262.19625 \r\nL 384.828125 0 \r\nL 0 0 \r\nz\r\n\" style=\"fill:none;\"/>\r\n  </g>\r\n  <g id=\"axes_1\">\r\n   <g id=\"patch_2\">\r\n    <path d=\"M 42.828125 224.64 \r\nL 377.628125 224.64 \r\nL 377.628125 7.2 \r\nL 42.828125 7.2 \r\nz\r\n\" style=\"fill:#ffffff;\"/>\r\n   </g>\r\n   <g id=\"matplotlib.axis_1\">\r\n    <g id=\"xtick_1\">\r\n     <g id=\"line2d_1\">\r\n      <defs>\r\n       <path d=\"M 0 0 \r\nL 0 3.5 \r\n\" id=\"m820861c953\" style=\"stroke:#000000;stroke-width:0.8;\"/>\r\n      </defs>\r\n      <g>\r\n       <use style=\"stroke:#000000;stroke-width:0.8;\" x=\"58.046307\" xlink:href=\"#m820861c953\" y=\"224.64\"/>\r\n      </g>\r\n     </g>\r\n     <g id=\"text_1\">\r\n      <!-- 0 -->\r\n      <g transform=\"translate(54.865057 239.238437)scale(0.1 -0.1)\">\r\n       <defs>\r\n        <path d=\"M 31.78125 66.40625 \r\nQ 24.171875 66.40625 20.328125 58.90625 \r\nQ 16.5 51.421875 16.5 36.375 \r\nQ 16.5 21.390625 20.328125 13.890625 \r\nQ 24.171875 6.390625 31.78125 6.390625 \r\nQ 39.453125 6.390625 43.28125 13.890625 \r\nQ 47.125 21.390625 47.125 36.375 \r\nQ 47.125 51.421875 43.28125 58.90625 \r\nQ 39.453125 66.40625 31.78125 66.40625 \r\nz\r\nM 31.78125 74.21875 \r\nQ 44.046875 74.21875 50.515625 64.515625 \r\nQ 56.984375 54.828125 56.984375 36.375 \r\nQ 56.984375 17.96875 50.515625 8.265625 \r\nQ 44.046875 -1.421875 31.78125 -1.421875 \r\nQ 19.53125 -1.421875 13.0625 8.265625 \r\nQ 6.59375 17.96875 6.59375 36.375 \r\nQ 6.59375 54.828125 13.0625 64.515625 \r\nQ 19.53125 74.21875 31.78125 74.21875 \r\nz\r\n\" id=\"DejaVuSans-48\"/>\r\n       </defs>\r\n       <use xlink:href=\"#DejaVuSans-48\"/>\r\n      </g>\r\n     </g>\r\n    </g>\r\n    <g id=\"xtick_2\">\r\n     <g id=\"line2d_2\">\r\n      <g>\r\n       <use style=\"stroke:#000000;stroke-width:0.8;\" x=\"118.919034\" xlink:href=\"#m820861c953\" y=\"224.64\"/>\r\n      </g>\r\n     </g>\r\n     <g id=\"text_2\">\r\n      <!-- 200 -->\r\n      <g transform=\"translate(109.375284 239.238437)scale(0.1 -0.1)\">\r\n       <defs>\r\n        <path d=\"M 19.1875 8.296875 \r\nL 53.609375 8.296875 \r\nL 53.609375 0 \r\nL 7.328125 0 \r\nL 7.328125 8.296875 \r\nQ 12.9375 14.109375 22.625 23.890625 \r\nQ 32.328125 33.6875 34.8125 36.53125 \r\nQ 39.546875 41.84375 41.421875 45.53125 \r\nQ 43.3125 49.21875 43.3125 52.78125 \r\nQ 43.3125 58.59375 39.234375 62.25 \r\nQ 35.15625 65.921875 28.609375 65.921875 \r\nQ 23.96875 65.921875 18.8125 64.3125 \r\nQ 13.671875 62.703125 7.8125 59.421875 \r\nL 7.8125 69.390625 \r\nQ 13.765625 71.78125 18.9375 73 \r\nQ 24.125 74.21875 28.421875 74.21875 \r\nQ 39.75 74.21875 46.484375 68.546875 \r\nQ 53.21875 62.890625 53.21875 53.421875 \r\nQ 53.21875 48.921875 51.53125 44.890625 \r\nQ 49.859375 40.875 45.40625 35.40625 \r\nQ 44.1875 33.984375 37.640625 27.21875 \r\nQ 31.109375 20.453125 19.1875 8.296875 \r\nz\r\n\" id=\"DejaVuSans-50\"/>\r\n       </defs>\r\n       <use xlink:href=\"#DejaVuSans-50\"/>\r\n       <use x=\"63.623047\" xlink:href=\"#DejaVuSans-48\"/>\r\n       <use x=\"127.246094\" xlink:href=\"#DejaVuSans-48\"/>\r\n      </g>\r\n     </g>\r\n    </g>\r\n    <g id=\"xtick_3\">\r\n     <g id=\"line2d_3\">\r\n      <g>\r\n       <use style=\"stroke:#000000;stroke-width:0.8;\" x=\"179.791761\" xlink:href=\"#m820861c953\" y=\"224.64\"/>\r\n      </g>\r\n     </g>\r\n     <g id=\"text_3\">\r\n      <!-- 400 -->\r\n      <g transform=\"translate(170.248011 239.238437)scale(0.1 -0.1)\">\r\n       <defs>\r\n        <path d=\"M 37.796875 64.3125 \r\nL 12.890625 25.390625 \r\nL 37.796875 25.390625 \r\nz\r\nM 35.203125 72.90625 \r\nL 47.609375 72.90625 \r\nL 47.609375 25.390625 \r\nL 58.015625 25.390625 \r\nL 58.015625 17.1875 \r\nL 47.609375 17.1875 \r\nL 47.609375 0 \r\nL 37.796875 0 \r\nL 37.796875 17.1875 \r\nL 4.890625 17.1875 \r\nL 4.890625 26.703125 \r\nz\r\n\" id=\"DejaVuSans-52\"/>\r\n       </defs>\r\n       <use xlink:href=\"#DejaVuSans-52\"/>\r\n       <use x=\"63.623047\" xlink:href=\"#DejaVuSans-48\"/>\r\n       <use x=\"127.246094\" xlink:href=\"#DejaVuSans-48\"/>\r\n      </g>\r\n     </g>\r\n    </g>\r\n    <g id=\"xtick_4\">\r\n     <g id=\"line2d_4\">\r\n      <g>\r\n       <use style=\"stroke:#000000;stroke-width:0.8;\" x=\"240.664489\" xlink:href=\"#m820861c953\" y=\"224.64\"/>\r\n      </g>\r\n     </g>\r\n     <g id=\"text_4\">\r\n      <!-- 600 -->\r\n      <g transform=\"translate(231.120739 239.238437)scale(0.1 -0.1)\">\r\n       <defs>\r\n        <path d=\"M 33.015625 40.375 \r\nQ 26.375 40.375 22.484375 35.828125 \r\nQ 18.609375 31.296875 18.609375 23.390625 \r\nQ 18.609375 15.53125 22.484375 10.953125 \r\nQ 26.375 6.390625 33.015625 6.390625 \r\nQ 39.65625 6.390625 43.53125 10.953125 \r\nQ 47.40625 15.53125 47.40625 23.390625 \r\nQ 47.40625 31.296875 43.53125 35.828125 \r\nQ 39.65625 40.375 33.015625 40.375 \r\nz\r\nM 52.59375 71.296875 \r\nL 52.59375 62.3125 \r\nQ 48.875 64.0625 45.09375 64.984375 \r\nQ 41.3125 65.921875 37.59375 65.921875 \r\nQ 27.828125 65.921875 22.671875 59.328125 \r\nQ 17.53125 52.734375 16.796875 39.40625 \r\nQ 19.671875 43.65625 24.015625 45.921875 \r\nQ 28.375 48.1875 33.59375 48.1875 \r\nQ 44.578125 48.1875 50.953125 41.515625 \r\nQ 57.328125 34.859375 57.328125 23.390625 \r\nQ 57.328125 12.15625 50.6875 5.359375 \r\nQ 44.046875 -1.421875 33.015625 -1.421875 \r\nQ 20.359375 -1.421875 13.671875 8.265625 \r\nQ 6.984375 17.96875 6.984375 36.375 \r\nQ 6.984375 53.65625 15.1875 63.9375 \r\nQ 23.390625 74.21875 37.203125 74.21875 \r\nQ 40.921875 74.21875 44.703125 73.484375 \r\nQ 48.484375 72.75 52.59375 71.296875 \r\nz\r\n\" id=\"DejaVuSans-54\"/>\r\n       </defs>\r\n       <use xlink:href=\"#DejaVuSans-54\"/>\r\n       <use x=\"63.623047\" xlink:href=\"#DejaVuSans-48\"/>\r\n       <use x=\"127.246094\" xlink:href=\"#DejaVuSans-48\"/>\r\n      </g>\r\n     </g>\r\n    </g>\r\n    <g id=\"xtick_5\">\r\n     <g id=\"line2d_5\">\r\n      <g>\r\n       <use style=\"stroke:#000000;stroke-width:0.8;\" x=\"301.537216\" xlink:href=\"#m820861c953\" y=\"224.64\"/>\r\n      </g>\r\n     </g>\r\n     <g id=\"text_5\">\r\n      <!-- 800 -->\r\n      <g transform=\"translate(291.993466 239.238437)scale(0.1 -0.1)\">\r\n       <defs>\r\n        <path d=\"M 31.78125 34.625 \r\nQ 24.75 34.625 20.71875 30.859375 \r\nQ 16.703125 27.09375 16.703125 20.515625 \r\nQ 16.703125 13.921875 20.71875 10.15625 \r\nQ 24.75 6.390625 31.78125 6.390625 \r\nQ 38.8125 6.390625 42.859375 10.171875 \r\nQ 46.921875 13.96875 46.921875 20.515625 \r\nQ 46.921875 27.09375 42.890625 30.859375 \r\nQ 38.875 34.625 31.78125 34.625 \r\nz\r\nM 21.921875 38.8125 \r\nQ 15.578125 40.375 12.03125 44.71875 \r\nQ 8.5 49.078125 8.5 55.328125 \r\nQ 8.5 64.0625 14.71875 69.140625 \r\nQ 20.953125 74.21875 31.78125 74.21875 \r\nQ 42.671875 74.21875 48.875 69.140625 \r\nQ 55.078125 64.0625 55.078125 55.328125 \r\nQ 55.078125 49.078125 51.53125 44.71875 \r\nQ 48 40.375 41.703125 38.8125 \r\nQ 48.828125 37.15625 52.796875 32.3125 \r\nQ 56.78125 27.484375 56.78125 20.515625 \r\nQ 56.78125 9.90625 50.3125 4.234375 \r\nQ 43.84375 -1.421875 31.78125 -1.421875 \r\nQ 19.734375 -1.421875 13.25 4.234375 \r\nQ 6.78125 9.90625 6.78125 20.515625 \r\nQ 6.78125 27.484375 10.78125 32.3125 \r\nQ 14.796875 37.15625 21.921875 38.8125 \r\nz\r\nM 18.3125 54.390625 \r\nQ 18.3125 48.734375 21.84375 45.5625 \r\nQ 25.390625 42.390625 31.78125 42.390625 \r\nQ 38.140625 42.390625 41.71875 45.5625 \r\nQ 45.3125 48.734375 45.3125 54.390625 \r\nQ 45.3125 60.0625 41.71875 63.234375 \r\nQ 38.140625 66.40625 31.78125 66.40625 \r\nQ 25.390625 66.40625 21.84375 63.234375 \r\nQ 18.3125 60.0625 18.3125 54.390625 \r\nz\r\n\" id=\"DejaVuSans-56\"/>\r\n       </defs>\r\n       <use xlink:href=\"#DejaVuSans-56\"/>\r\n       <use x=\"63.623047\" xlink:href=\"#DejaVuSans-48\"/>\r\n       <use x=\"127.246094\" xlink:href=\"#DejaVuSans-48\"/>\r\n      </g>\r\n     </g>\r\n    </g>\r\n    <g id=\"xtick_6\">\r\n     <g id=\"line2d_6\">\r\n      <g>\r\n       <use style=\"stroke:#000000;stroke-width:0.8;\" x=\"362.409943\" xlink:href=\"#m820861c953\" y=\"224.64\"/>\r\n      </g>\r\n     </g>\r\n     <g id=\"text_6\">\r\n      <!-- 1000 -->\r\n      <g transform=\"translate(349.684943 239.238437)scale(0.1 -0.1)\">\r\n       <defs>\r\n        <path d=\"M 12.40625 8.296875 \r\nL 28.515625 8.296875 \r\nL 28.515625 63.921875 \r\nL 10.984375 60.40625 \r\nL 10.984375 69.390625 \r\nL 28.421875 72.90625 \r\nL 38.28125 72.90625 \r\nL 38.28125 8.296875 \r\nL 54.390625 8.296875 \r\nL 54.390625 0 \r\nL 12.40625 0 \r\nz\r\n\" id=\"DejaVuSans-49\"/>\r\n       </defs>\r\n       <use xlink:href=\"#DejaVuSans-49\"/>\r\n       <use x=\"63.623047\" xlink:href=\"#DejaVuSans-48\"/>\r\n       <use x=\"127.246094\" xlink:href=\"#DejaVuSans-48\"/>\r\n       <use x=\"190.869141\" xlink:href=\"#DejaVuSans-48\"/>\r\n      </g>\r\n     </g>\r\n    </g>\r\n    <g id=\"text_7\">\r\n     <!-- Iteration -->\r\n     <g transform=\"translate(189.019531 252.916562)scale(0.1 -0.1)\">\r\n      <defs>\r\n       <path d=\"M 9.8125 72.90625 \r\nL 19.671875 72.90625 \r\nL 19.671875 0 \r\nL 9.8125 0 \r\nz\r\n\" id=\"DejaVuSans-73\"/>\r\n       <path d=\"M 18.3125 70.21875 \r\nL 18.3125 54.6875 \r\nL 36.8125 54.6875 \r\nL 36.8125 47.703125 \r\nL 18.3125 47.703125 \r\nL 18.3125 18.015625 \r\nQ 18.3125 11.328125 20.140625 9.421875 \r\nQ 21.96875 7.515625 27.59375 7.515625 \r\nL 36.8125 7.515625 \r\nL 36.8125 0 \r\nL 27.59375 0 \r\nQ 17.1875 0 13.234375 3.875 \r\nQ 9.28125 7.765625 9.28125 18.015625 \r\nL 9.28125 47.703125 \r\nL 2.6875 47.703125 \r\nL 2.6875 54.6875 \r\nL 9.28125 54.6875 \r\nL 9.28125 70.21875 \r\nz\r\n\" id=\"DejaVuSans-116\"/>\r\n       <path d=\"M 56.203125 29.59375 \r\nL 56.203125 25.203125 \r\nL 14.890625 25.203125 \r\nQ 15.484375 15.921875 20.484375 11.0625 \r\nQ 25.484375 6.203125 34.421875 6.203125 \r\nQ 39.59375 6.203125 44.453125 7.46875 \r\nQ 49.3125 8.734375 54.109375 11.28125 \r\nL 54.109375 2.78125 \r\nQ 49.265625 0.734375 44.1875 -0.34375 \r\nQ 39.109375 -1.421875 33.890625 -1.421875 \r\nQ 20.796875 -1.421875 13.15625 6.1875 \r\nQ 5.515625 13.8125 5.515625 26.8125 \r\nQ 5.515625 40.234375 12.765625 48.109375 \r\nQ 20.015625 56 32.328125 56 \r\nQ 43.359375 56 49.78125 48.890625 \r\nQ 56.203125 41.796875 56.203125 29.59375 \r\nz\r\nM 47.21875 32.234375 \r\nQ 47.125 39.59375 43.09375 43.984375 \r\nQ 39.0625 48.390625 32.421875 48.390625 \r\nQ 24.90625 48.390625 20.390625 44.140625 \r\nQ 15.875 39.890625 15.1875 32.171875 \r\nz\r\n\" id=\"DejaVuSans-101\"/>\r\n       <path d=\"M 41.109375 46.296875 \r\nQ 39.59375 47.171875 37.8125 47.578125 \r\nQ 36.03125 48 33.890625 48 \r\nQ 26.265625 48 22.1875 43.046875 \r\nQ 18.109375 38.09375 18.109375 28.8125 \r\nL 18.109375 0 \r\nL 9.078125 0 \r\nL 9.078125 54.6875 \r\nL 18.109375 54.6875 \r\nL 18.109375 46.1875 \r\nQ 20.953125 51.171875 25.484375 53.578125 \r\nQ 30.03125 56 36.53125 56 \r\nQ 37.453125 56 38.578125 55.875 \r\nQ 39.703125 55.765625 41.0625 55.515625 \r\nz\r\n\" id=\"DejaVuSans-114\"/>\r\n       <path d=\"M 34.28125 27.484375 \r\nQ 23.390625 27.484375 19.1875 25 \r\nQ 14.984375 22.515625 14.984375 16.5 \r\nQ 14.984375 11.71875 18.140625 8.90625 \r\nQ 21.296875 6.109375 26.703125 6.109375 \r\nQ 34.1875 6.109375 38.703125 11.40625 \r\nQ 43.21875 16.703125 43.21875 25.484375 \r\nL 43.21875 27.484375 \r\nz\r\nM 52.203125 31.203125 \r\nL 52.203125 0 \r\nL 43.21875 0 \r\nL 43.21875 8.296875 \r\nQ 40.140625 3.328125 35.546875 0.953125 \r\nQ 30.953125 -1.421875 24.3125 -1.421875 \r\nQ 15.921875 -1.421875 10.953125 3.296875 \r\nQ 6 8.015625 6 15.921875 \r\nQ 6 25.140625 12.171875 29.828125 \r\nQ 18.359375 34.515625 30.609375 34.515625 \r\nL 43.21875 34.515625 \r\nL 43.21875 35.40625 \r\nQ 43.21875 41.609375 39.140625 45 \r\nQ 35.0625 48.390625 27.6875 48.390625 \r\nQ 23 48.390625 18.546875 47.265625 \r\nQ 14.109375 46.140625 10.015625 43.890625 \r\nL 10.015625 52.203125 \r\nQ 14.9375 54.109375 19.578125 55.046875 \r\nQ 24.21875 56 28.609375 56 \r\nQ 40.484375 56 46.34375 49.84375 \r\nQ 52.203125 43.703125 52.203125 31.203125 \r\nz\r\n\" id=\"DejaVuSans-97\"/>\r\n       <path d=\"M 9.421875 54.6875 \r\nL 18.40625 54.6875 \r\nL 18.40625 0 \r\nL 9.421875 0 \r\nz\r\nM 9.421875 75.984375 \r\nL 18.40625 75.984375 \r\nL 18.40625 64.59375 \r\nL 9.421875 64.59375 \r\nz\r\n\" id=\"DejaVuSans-105\"/>\r\n       <path d=\"M 30.609375 48.390625 \r\nQ 23.390625 48.390625 19.1875 42.75 \r\nQ 14.984375 37.109375 14.984375 27.296875 \r\nQ 14.984375 17.484375 19.15625 11.84375 \r\nQ 23.34375 6.203125 30.609375 6.203125 \r\nQ 37.796875 6.203125 41.984375 11.859375 \r\nQ 46.1875 17.53125 46.1875 27.296875 \r\nQ 46.1875 37.015625 41.984375 42.703125 \r\nQ 37.796875 48.390625 30.609375 48.390625 \r\nz\r\nM 30.609375 56 \r\nQ 42.328125 56 49.015625 48.375 \r\nQ 55.71875 40.765625 55.71875 27.296875 \r\nQ 55.71875 13.875 49.015625 6.21875 \r\nQ 42.328125 -1.421875 30.609375 -1.421875 \r\nQ 18.84375 -1.421875 12.171875 6.21875 \r\nQ 5.515625 13.875 5.515625 27.296875 \r\nQ 5.515625 40.765625 12.171875 48.375 \r\nQ 18.84375 56 30.609375 56 \r\nz\r\n\" id=\"DejaVuSans-111\"/>\r\n       <path d=\"M 54.890625 33.015625 \r\nL 54.890625 0 \r\nL 45.90625 0 \r\nL 45.90625 32.71875 \r\nQ 45.90625 40.484375 42.875 44.328125 \r\nQ 39.84375 48.1875 33.796875 48.1875 \r\nQ 26.515625 48.1875 22.3125 43.546875 \r\nQ 18.109375 38.921875 18.109375 30.90625 \r\nL 18.109375 0 \r\nL 9.078125 0 \r\nL 9.078125 54.6875 \r\nL 18.109375 54.6875 \r\nL 18.109375 46.1875 \r\nQ 21.34375 51.125 25.703125 53.5625 \r\nQ 30.078125 56 35.796875 56 \r\nQ 45.21875 56 50.046875 50.171875 \r\nQ 54.890625 44.34375 54.890625 33.015625 \r\nz\r\n\" id=\"DejaVuSans-110\"/>\r\n      </defs>\r\n      <use xlink:href=\"#DejaVuSans-73\"/>\r\n      <use x=\"29.492188\" xlink:href=\"#DejaVuSans-116\"/>\r\n      <use x=\"68.701172\" xlink:href=\"#DejaVuSans-101\"/>\r\n      <use x=\"130.224609\" xlink:href=\"#DejaVuSans-114\"/>\r\n      <use x=\"171.337891\" xlink:href=\"#DejaVuSans-97\"/>\r\n      <use x=\"232.617188\" xlink:href=\"#DejaVuSans-116\"/>\r\n      <use x=\"271.826172\" xlink:href=\"#DejaVuSans-105\"/>\r\n      <use x=\"299.609375\" xlink:href=\"#DejaVuSans-111\"/>\r\n      <use x=\"360.791016\" xlink:href=\"#DejaVuSans-110\"/>\r\n     </g>\r\n    </g>\r\n   </g>\r\n   <g id=\"matplotlib.axis_2\">\r\n    <g id=\"ytick_1\">\r\n     <g id=\"line2d_7\">\r\n      <defs>\r\n       <path d=\"M 0 0 \r\nL -3.5 0 \r\n\" id=\"m2c6a264d83\" style=\"stroke:#000000;stroke-width:0.8;\"/>\r\n      </defs>\r\n      <g>\r\n       <use style=\"stroke:#000000;stroke-width:0.8;\" x=\"42.828125\" xlink:href=\"#m2c6a264d83\" y=\"224.11416\"/>\r\n      </g>\r\n     </g>\r\n     <g id=\"text_8\">\r\n      <!-- 0.000 -->\r\n      <g transform=\"translate(7.2 227.913379)scale(0.1 -0.1)\">\r\n       <defs>\r\n        <path d=\"M 10.6875 12.40625 \r\nL 21 12.40625 \r\nL 21 0 \r\nL 10.6875 0 \r\nz\r\n\" id=\"DejaVuSans-46\"/>\r\n       </defs>\r\n       <use xlink:href=\"#DejaVuSans-48\"/>\r\n       <use x=\"63.623047\" xlink:href=\"#DejaVuSans-46\"/>\r\n       <use x=\"95.410156\" xlink:href=\"#DejaVuSans-48\"/>\r\n       <use x=\"159.033203\" xlink:href=\"#DejaVuSans-48\"/>\r\n       <use x=\"222.65625\" xlink:href=\"#DejaVuSans-48\"/>\r\n      </g>\r\n     </g>\r\n    </g>\r\n    <g id=\"ytick_2\">\r\n     <g id=\"line2d_8\">\r\n      <g>\r\n       <use style=\"stroke:#000000;stroke-width:0.8;\" x=\"42.828125\" xlink:href=\"#m2c6a264d83\" y=\"176.734338\"/>\r\n      </g>\r\n     </g>\r\n     <g id=\"text_9\">\r\n      <!-- 0.020 -->\r\n      <g transform=\"translate(7.2 180.533557)scale(0.1 -0.1)\">\r\n       <use xlink:href=\"#DejaVuSans-48\"/>\r\n       <use x=\"63.623047\" xlink:href=\"#DejaVuSans-46\"/>\r\n       <use x=\"95.410156\" xlink:href=\"#DejaVuSans-48\"/>\r\n       <use x=\"159.033203\" xlink:href=\"#DejaVuSans-50\"/>\r\n       <use x=\"222.65625\" xlink:href=\"#DejaVuSans-48\"/>\r\n      </g>\r\n     </g>\r\n    </g>\r\n    <g id=\"ytick_3\">\r\n     <g id=\"line2d_9\">\r\n      <g>\r\n       <use style=\"stroke:#000000;stroke-width:0.8;\" x=\"42.828125\" xlink:href=\"#m2c6a264d83\" y=\"129.354516\"/>\r\n      </g>\r\n     </g>\r\n     <g id=\"text_10\">\r\n      <!-- 0.040 -->\r\n      <g transform=\"translate(7.2 133.153735)scale(0.1 -0.1)\">\r\n       <use xlink:href=\"#DejaVuSans-48\"/>\r\n       <use x=\"63.623047\" xlink:href=\"#DejaVuSans-46\"/>\r\n       <use x=\"95.410156\" xlink:href=\"#DejaVuSans-48\"/>\r\n       <use x=\"159.033203\" xlink:href=\"#DejaVuSans-52\"/>\r\n       <use x=\"222.65625\" xlink:href=\"#DejaVuSans-48\"/>\r\n      </g>\r\n     </g>\r\n    </g>\r\n    <g id=\"ytick_4\">\r\n     <g id=\"line2d_10\">\r\n      <g>\r\n       <use style=\"stroke:#000000;stroke-width:0.8;\" x=\"42.828125\" xlink:href=\"#m2c6a264d83\" y=\"81.974694\"/>\r\n      </g>\r\n     </g>\r\n     <g id=\"text_11\">\r\n      <!-- 0.060 -->\r\n      <g transform=\"translate(7.2 85.773912)scale(0.1 -0.1)\">\r\n       <use xlink:href=\"#DejaVuSans-48\"/>\r\n       <use x=\"63.623047\" xlink:href=\"#DejaVuSans-46\"/>\r\n       <use x=\"95.410156\" xlink:href=\"#DejaVuSans-48\"/>\r\n       <use x=\"159.033203\" xlink:href=\"#DejaVuSans-54\"/>\r\n       <use x=\"222.65625\" xlink:href=\"#DejaVuSans-48\"/>\r\n      </g>\r\n     </g>\r\n    </g>\r\n    <g id=\"ytick_5\">\r\n     <g id=\"line2d_11\">\r\n      <g>\r\n       <use style=\"stroke:#000000;stroke-width:0.8;\" x=\"42.828125\" xlink:href=\"#m2c6a264d83\" y=\"34.594871\"/>\r\n      </g>\r\n     </g>\r\n     <g id=\"text_12\">\r\n      <!-- 0.080 -->\r\n      <g transform=\"translate(7.2 38.39409)scale(0.1 -0.1)\">\r\n       <use xlink:href=\"#DejaVuSans-48\"/>\r\n       <use x=\"63.623047\" xlink:href=\"#DejaVuSans-46\"/>\r\n       <use x=\"95.410156\" xlink:href=\"#DejaVuSans-48\"/>\r\n       <use x=\"159.033203\" xlink:href=\"#DejaVuSans-56\"/>\r\n       <use x=\"222.65625\" xlink:href=\"#DejaVuSans-48\"/>\r\n      </g>\r\n     </g>\r\n    </g>\r\n   </g>\r\n   <g id=\"line2d_12\">\r\n    <path clip-path=\"url(#p59166dd87d)\" d=\"M 58.046307 213.665148 \r\nL 58.35067 214.177432 \r\nL 58.655034 207.448268 \r\nL 58.959398 212.300563 \r\nL 59.263761 212.299434 \r\nL 59.568125 209.937957 \r\nL 59.872489 209.940216 \r\nL 60.176852 212.300563 \r\nL 61.089943 212.261026 \r\nL 61.394307 209.967327 \r\nL 61.69867 212.284184 \r\nL 62.307398 212.318072 \r\nL 62.611761 209.918753 \r\nL 63.220489 214.664864 \r\nL 63.524852 212.285878 \r\nL 63.829216 212.308471 \r\nL 64.13358 210.009123 \r\nL 64.437943 209.866226 \r\nL 64.742307 212.300563 \r\nL 65.351034 207.644822 \r\nL 65.655398 209.910281 \r\nL 66.264125 209.996697 \r\nL 66.568489 209.940216 \r\nL 66.872852 214.662605 \r\nL 67.177216 209.937957 \r\nL 67.48158 212.300563 \r\nL 67.785943 209.937957 \r\nL 68.090307 209.879781 \r\nL 68.39467 212.357609 \r\nL 68.699034 209.937392 \r\nL 69.003398 209.940781 \r\nL 69.307761 212.220925 \r\nL 69.612125 210.016466 \r\nL 69.916489 209.937392 \r\nL 70.220852 212.303952 \r\nL 70.525216 209.936262 \r\nL 70.82958 209.939086 \r\nL 71.133943 214.66317 \r\nL 71.438307 207.513786 \r\nL 71.74267 212.264415 \r\nL 72.351398 207.574221 \r\nL 72.655761 212.302258 \r\nL 72.960125 212.301693 \r\nL 73.264489 209.937392 \r\nL 73.873216 214.73603 \r\nL 74.17758 207.567443 \r\nL 74.481943 207.496277 \r\nL 75.09067 212.299998 \r\nL 75.395034 209.937957 \r\nL 76.003761 209.939651 \r\nL 76.308125 212.300563 \r\nL 76.612489 209.937392 \r\nL 76.916852 209.939086 \r\nL 77.221216 212.226008 \r\nL 77.52558 210.011947 \r\nL 77.829943 212.301693 \r\nL 78.43867 212.223749 \r\nL 78.743034 207.574221 \r\nL 79.047398 212.302822 \r\nL 79.351761 212.336711 \r\nL 79.656125 209.896161 \r\nL 79.960489 212.384155 \r\nL 80.569216 207.497971 \r\nL 80.87358 212.2791 \r\nL 81.177943 212.388109 \r\nL 81.482307 207.588906 \r\nL 81.78667 212.120953 \r\nL 82.091034 214.756364 \r\nL 82.395398 207.596813 \r\nL 83.004125 212.257073 \r\nL 83.308489 209.964503 \r\nL 83.612852 209.933438 \r\nL 83.917216 210.019854 \r\nL 84.22158 212.301693 \r\nL 84.525943 209.936827 \r\nL 84.830307 212.29661 \r\nL 85.743398 212.289832 \r\nL 86.047761 209.948688 \r\nL 86.352125 212.300563 \r\nL 86.656489 212.301693 \r\nL 86.960852 209.854365 \r\nL 87.265216 209.946994 \r\nL 87.56958 212.37173 \r\nL 87.873943 212.211888 \r\nL 88.178307 212.328239 \r\nL 88.48267 214.64792 \r\nL 88.787034 212.320332 \r\nL 89.091398 207.63522 \r\nL 89.395761 212.300563 \r\nL 89.700125 209.937957 \r\nL 90.004489 209.938522 \r\nL 90.308852 212.241823 \r\nL 90.613216 212.281924 \r\nL 90.91758 209.94191 \r\nL 91.221943 209.940781 \r\nL 91.526307 212.374554 \r\nL 91.83067 212.298304 \r\nL 92.135034 209.938522 \r\nL 92.439398 209.938522 \r\nL 93.048125 214.66317 \r\nL 93.656852 209.881476 \r\nL 93.961216 212.287573 \r\nL 94.26558 212.36947 \r\nL 94.569943 211.0817 \r\nL 94.874307 212.235045 \r\nL 95.17867 212.279665 \r\nL 95.483034 209.944735 \r\nL 95.787398 212.302258 \r\nL 96.091761 212.291526 \r\nL 96.396125 209.94417 \r\nL 96.700489 212.302258 \r\nL 98.222307 212.376813 \r\nL 98.52667 209.863402 \r\nL 98.831034 212.293221 \r\nL 99.135398 209.919318 \r\nL 99.439761 205.311586 \r\nL 99.744125 209.938522 \r\nL 100.048489 205.212179 \r\nL 100.352852 209.938522 \r\nL 100.657216 209.939086 \r\nL 100.96158 212.300563 \r\nL 101.570307 212.292091 \r\nL 101.87467 209.885429 \r\nL 102.179034 209.999521 \r\nL 102.787761 209.938522 \r\nL 103.092125 212.299998 \r\nL 103.396489 212.300563 \r\nL 103.700852 209.937957 \r\nL 104.005216 212.302258 \r\nL 104.30958 209.924966 \r\nL 104.613943 209.878652 \r\nL 104.918307 210.009688 \r\nL 105.22267 212.300563 \r\nL 105.527034 209.940216 \r\nL 106.135761 209.920448 \r\nL 106.440125 210.015336 \r\nL 106.744489 209.937957 \r\nL 107.048852 205.212744 \r\nL 107.353216 212.301693 \r\nL 107.961943 212.299434 \r\nL 108.266307 207.575915 \r\nL 108.57067 212.301693 \r\nL 108.875034 207.574221 \r\nL 109.179398 212.300563 \r\nL 109.483761 207.568573 \r\nL 109.788125 207.583822 \r\nL 110.092489 212.21923 \r\nL 110.396852 210.01703 \r\nL 110.701216 212.303952 \r\nL 111.00558 209.937957 \r\nL 111.309943 209.935133 \r\nL 111.614307 212.302258 \r\nL 111.91867 212.302822 \r\nL 112.223034 207.571961 \r\nL 112.527398 209.940216 \r\nL 113.136125 209.935698 \r\nL 113.440489 212.301128 \r\nL 113.744852 209.938522 \r\nL 114.049216 205.212179 \r\nL 114.35358 212.301693 \r\nL 114.657943 209.938522 \r\nL 114.962307 209.938522 \r\nL 115.26667 212.301693 \r\nL 115.875398 208.11644 \r\nL 116.179761 209.938522 \r\nL 117.397216 209.937957 \r\nL 117.70158 212.301128 \r\nL 118.310307 207.578739 \r\nL 118.61467 212.301128 \r\nL 118.919034 209.934003 \r\nL 119.832125 210.018725 \r\nL 120.136489 212.304517 \r\nL 120.440852 209.936262 \r\nL 121.96267 209.940781 \r\nL 122.267034 212.302258 \r\nL 122.571398 212.300563 \r\nL 122.875761 207.574221 \r\nL 123.180125 209.936827 \r\nL 124.701943 209.939086 \r\nL 125.006307 212.298304 \r\nL 125.31067 207.578174 \r\nL 125.615034 209.938522 \r\nL 125.919398 209.863966 \r\nL 126.223761 211.163033 \r\nL 126.528125 210.010253 \r\nL 126.832489 207.57535 \r\nL 127.136852 212.300563 \r\nL 127.441216 212.224879 \r\nL 127.74558 207.653294 \r\nL 128.049943 212.299998 \r\nL 128.354307 212.21923 \r\nL 128.65867 202.9326 \r\nL 128.963034 205.211614 \r\nL 129.267398 209.938522 \r\nL 129.571761 209.936827 \r\nL 129.876125 212.300563 \r\nL 130.180489 207.57648 \r\nL 130.484852 209.938522 \r\nL 131.09358 209.861707 \r\nL 131.397943 212.327109 \r\nL 131.702307 209.997262 \r\nL 132.00667 212.302258 \r\nL 132.311034 209.875828 \r\nL 132.615398 209.998956 \r\nL 133.224125 209.937957 \r\nL 133.832852 209.937957 \r\nL 134.137216 212.299434 \r\nL 134.44158 207.503054 \r\nL 134.745943 212.29548 \r\nL 135.050307 209.922142 \r\nL 135.35467 210.03341 \r\nL 135.659034 212.233915 \r\nL 135.963398 209.933438 \r\nL 136.267761 212.309035 \r\nL 136.572125 210.001216 \r\nL 136.876489 212.224314 \r\nL 137.180852 212.378507 \r\nL 137.485216 209.937957 \r\nL 137.78958 209.935133 \r\nL 138.093943 207.574221 \r\nL 138.398307 209.939651 \r\nL 139.007034 209.885429 \r\nL 139.311398 212.364387 \r\nL 139.920125 212.297739 \r\nL 140.224489 212.305647 \r\nL 140.528852 207.571961 \r\nL 140.833216 212.301693 \r\nL 141.13758 209.939651 \r\nL 141.441943 205.212744 \r\nL 141.746307 212.301693 \r\nL 142.05067 212.241823 \r\nL 142.355034 209.900114 \r\nL 142.659398 210.035669 \r\nL 142.963761 212.297174 \r\nL 143.268125 212.216406 \r\nL 143.572489 207.66459 \r\nL 143.876852 212.214147 \r\nL 144.181216 210.020419 \r\nL 144.48558 209.863402 \r\nL 144.789943 209.940216 \r\nL 145.094307 212.375683 \r\nL 145.39867 209.937957 \r\nL 145.703034 212.300563 \r\nL 146.007398 209.936827 \r\nL 146.616125 209.938522 \r\nL 146.920489 207.574785 \r\nL 147.224852 209.941346 \r\nL 147.529216 207.571397 \r\nL 147.83358 209.937392 \r\nL 148.137943 209.94191 \r\nL 148.442307 207.573091 \r\nL 148.74667 212.299998 \r\nL 149.964125 212.301128 \r\nL 150.268489 209.934568 \r\nL 150.572852 209.940216 \r\nL 150.877216 212.301693 \r\nL 151.18158 209.934568 \r\nL 151.485943 212.306211 \r\nL 151.790307 209.857189 \r\nL 152.09467 210.015901 \r\nL 152.399034 212.302258 \r\nL 152.703398 209.938522 \r\nL 153.007761 212.299434 \r\nL 154.833943 212.276276 \r\nL 155.138307 210.019854 \r\nL 155.44267 212.302258 \r\nL 155.747034 209.937392 \r\nL 156.051398 212.300563 \r\nL 156.355761 209.938522 \r\nL 156.660125 212.301693 \r\nL 156.964489 209.937392 \r\nL 157.268852 209.939086 \r\nL 157.573216 212.300563 \r\nL 157.87758 207.574221 \r\nL 158.181943 209.938522 \r\nL 158.486307 209.936262 \r\nL 158.79067 207.57761 \r\nL 159.095034 212.301128 \r\nL 159.399398 209.936827 \r\nL 159.703761 209.937957 \r\nL 160.008125 212.301128 \r\nL 160.312489 209.940216 \r\nL 160.616852 212.299998 \r\nL 160.921216 212.230527 \r\nL 161.22558 209.932309 \r\nL 161.529943 209.937957 \r\nL 161.834307 212.277406 \r\nL 162.13867 207.674757 \r\nL 162.747398 207.57535 \r\nL 163.051761 209.938522 \r\nL 163.356125 209.939086 \r\nL 163.660489 212.301693 \r\nL 163.964852 212.301693 \r\nL 164.269216 209.937957 \r\nL 164.57358 212.298869 \r\nL 164.877943 209.878652 \r\nL 165.182307 212.361563 \r\nL 165.48667 205.202012 \r\nL 165.791034 205.20766 \r\nL 166.399761 209.945864 \r\nL 167.008489 209.873568 \r\nL 167.312852 212.364952 \r\nL 167.92158 207.629572 \r\nL 168.225943 207.579869 \r\nL 168.530307 209.938522 \r\nL 168.83467 209.937957 \r\nL 169.139034 212.23561 \r\nL 169.443398 212.288702 \r\nL 169.747761 205.231383 \r\nL 170.052125 209.932309 \r\nL 170.356489 212.299434 \r\nL 170.660852 207.641433 \r\nL 170.965216 212.301128 \r\nL 171.26958 207.495147 \r\nL 171.573943 210.01703 \r\nL 171.878307 209.940216 \r\nL 172.18267 207.574785 \r\nL 172.487034 212.299998 \r\nL 172.791398 212.301128 \r\nL 173.095761 209.936262 \r\nL 173.400125 209.939086 \r\nL 173.704489 211.101468 \r\nL 174.008852 207.578739 \r\nL 174.313216 209.936827 \r\nL 174.61758 205.210485 \r\nL 174.921943 207.578739 \r\nL 175.226307 207.571961 \r\nL 175.53067 205.212744 \r\nL 175.835034 207.898422 \r\nL 176.139398 207.57648 \r\nL 176.443761 212.299998 \r\nL 177.052489 207.583822 \r\nL 177.661216 207.57648 \r\nL 177.96558 212.238434 \r\nL 178.269943 211.353939 \r\nL 178.574307 209.939086 \r\nL 178.87867 214.583531 \r\nL 179.183034 212.297739 \r\nL 179.487398 207.580998 \r\nL 179.791761 212.3096 \r\nL 180.096125 212.2791 \r\nL 180.400489 210.029456 \r\nL 180.704852 209.863402 \r\nL 181.009216 212.292656 \r\nL 181.31358 212.381331 \r\nL 181.617943 209.862837 \r\nL 182.22667 210.014771 \r\nL 182.531034 209.863402 \r\nL 182.835398 209.930049 \r\nL 183.139761 207.584387 \r\nL 183.444125 209.936827 \r\nL 183.748489 206.723615 \r\nL 184.052852 212.308471 \r\nL 184.357216 212.300563 \r\nL 184.66158 209.983706 \r\nL 184.965943 209.89955 \r\nL 185.270307 210.020419 \r\nL 185.57467 209.937392 \r\nL 185.879034 17.083636 \r\nL 186.183398 200.603882 \r\nL 186.487761 205.213873 \r\nL 186.792125 207.57535 \r\nL 187.096489 205.136494 \r\nL 187.400852 212.299998 \r\nL 188.00958 207.579869 \r\nL 188.313943 212.300563 \r\nL 188.618307 209.935133 \r\nL 188.92267 209.940781 \r\nL 189.227034 212.289832 \r\nL 189.531398 207.611498 \r\nL 189.835761 210.011947 \r\nL 190.140125 209.938522 \r\nL 190.444489 207.57535 \r\nL 190.748852 209.938522 \r\nL 191.053216 209.918188 \r\nL 191.35758 207.596813 \r\nL 191.661943 209.936827 \r\nL 191.966307 207.569137 \r\nL 192.27067 207.582693 \r\nL 192.575034 198.121535 \r\nL 192.879398 155.598008 \r\nL 193.183761 205.221781 \r\nL 193.488125 202.841665 \r\nL 193.792489 209.943605 \r\nL 194.70558 202.846184 \r\nL 195.314307 212.303387 \r\nL 195.61867 212.299998 \r\nL 195.923034 206.355922 \r\nL 196.227398 209.937957 \r\nL 196.836125 209.943605 \r\nL 197.140489 212.301128 \r\nL 197.444852 207.57535 \r\nL 197.749216 212.299998 \r\nL 198.05358 209.939086 \r\nL 198.357943 209.925531 \r\nL 198.662307 207.587776 \r\nL 198.96667 212.300563 \r\nL 199.271034 205.213309 \r\nL 199.575398 212.299434 \r\nL 199.879761 207.571961 \r\nL 200.184125 212.305082 \r\nL 200.792852 207.565184 \r\nL 201.705943 207.575915 \r\nL 202.010307 209.939651 \r\nL 202.31467 207.573656 \r\nL 202.619034 209.940216 \r\nL 202.923398 205.209355 \r\nL 203.227761 209.941346 \r\nL 203.532125 212.298304 \r\nL 203.836489 207.566878 \r\nL 204.140852 207.585517 \r\nL 204.445216 209.933438 \r\nL 204.74958 205.216697 \r\nL 205.053943 209.939086 \r\nL 205.358307 209.916494 \r\nL 205.66267 207.592295 \r\nL 205.967034 209.939651 \r\nL 206.271398 209.939086 \r\nL 206.575761 205.211614 \r\nL 207.184489 209.952077 \r\nL 207.488852 209.941346 \r\nL 207.793216 205.212179 \r\nL 208.09758 205.216133 \r\nL 209.01067 212.32598 \r\nL 209.315034 207.509832 \r\nL 209.923761 212.376813 \r\nL 210.228125 205.152309 \r\nL 210.532489 210.001216 \r\nL 210.836852 207.503054 \r\nL 211.141216 207.648776 \r\nL 211.44558 207.506443 \r\nL 211.749943 209.922707 \r\nL 212.054307 207.660072 \r\nL 212.35867 209.936827 \r\nL 212.967398 209.850976 \r\nL 213.271761 207.661766 \r\nL 213.576125 209.941346 \r\nL 213.880489 209.932873 \r\nL 214.184852 207.501925 \r\nL 214.489216 210.014771 \r\nL 214.79358 209.936827 \r\nL 215.097943 212.302258 \r\nL 215.402307 209.937392 \r\nL 216.619761 209.86905 \r\nL 216.924125 214.655827 \r\nL 217.228489 212.291526 \r\nL 217.532852 212.383591 \r\nL 217.837216 207.497406 \r\nL 218.14158 212.305647 \r\nL 218.445943 209.906892 \r\nL 218.750307 212.408442 \r\nL 219.05467 212.210758 \r\nL 219.359034 210.026067 \r\nL 219.663398 212.300563 \r\nL 219.967761 207.574785 \r\nL 220.272125 207.57648 \r\nL 220.576489 209.939651 \r\nL 220.880852 207.574221 \r\nL 221.185216 212.299434 \r\nL 221.48958 209.880346 \r\nL 221.793943 209.996132 \r\nL 222.098307 207.574785 \r\nL 222.40267 212.225443 \r\nL 222.707034 214.740549 \r\nL 223.011398 207.57648 \r\nL 223.315761 209.938522 \r\nL 223.620125 209.937392 \r\nL 223.924489 200.485836 \r\nL 224.533216 212.379637 \r\nL 224.83758 212.298869 \r\nL 225.141943 209.859448 \r\nL 225.446307 212.379637 \r\nL 226.055034 207.575915 \r\nL 226.359398 207.57648 \r\nL 226.663761 209.936827 \r\nL 227.272489 209.939651 \r\nL 227.576852 208.705538 \r\nL 227.881216 205.161346 \r\nL 228.18558 210.022114 \r\nL 228.794307 209.938522 \r\nL 229.09867 207.574221 \r\nL 229.403034 209.943605 \r\nL 229.707398 209.935698 \r\nL 230.011761 212.301128 \r\nL 230.316125 207.57535 \r\nL 230.620489 209.940216 \r\nL 231.837943 209.940216 \r\nL 232.142307 212.301128 \r\nL 232.44667 212.299998 \r\nL 232.751034 211.104857 \r\nL 233.055398 214.66317 \r\nL 233.359761 209.937957 \r\nL 233.968489 209.937957 \r\nL 234.272852 212.300563 \r\nL 234.577216 209.939086 \r\nL 234.88158 209.937392 \r\nL 235.185943 212.301693 \r\nL 235.490307 212.300563 \r\nL 235.79467 209.936827 \r\nL 237.012125 209.934568 \r\nL 237.316489 212.304517 \r\nL 237.620852 212.301128 \r\nL 237.925216 209.937392 \r\nL 238.22958 208.743945 \r\nL 238.533943 209.938522 \r\nL 238.838307 209.938522 \r\nL 239.14267 207.507573 \r\nL 239.751398 212.314684 \r\nL 240.055761 212.284184 \r\nL 240.360125 212.380202 \r\nL 240.664489 209.937957 \r\nL 241.57758 209.939651 \r\nL 241.881943 212.301693 \r\nL 242.49067 207.577045 \r\nL 242.795034 209.938522 \r\nL 243.708125 209.940781 \r\nL 244.012489 212.299434 \r\nL 244.316852 209.939651 \r\nL 244.621216 209.935698 \r\nL 244.92558 212.301128 \r\nL 245.229943 212.301128 \r\nL 245.534307 209.936827 \r\nL 246.751761 209.940216 \r\nL 247.056125 212.298869 \r\nL 247.360489 209.938522 \r\nL 247.969216 209.939651 \r\nL 248.27358 212.299434 \r\nL 248.577943 210.314121 \r\nL 248.882307 207.589471 \r\nL 249.18667 209.937957 \r\nL 249.491034 209.938522 \r\nL 249.795398 209.811439 \r\nL 250.099761 209.939651 \r\nL 251.012852 209.939086 \r\nL 251.317216 212.299434 \r\nL 251.62158 209.940781 \r\nL 251.925943 212.299998 \r\nL 252.230307 209.939086 \r\nL 252.53467 212.196073 \r\nL 252.839034 212.404489 \r\nL 253.143398 209.937957 \r\nL 253.447761 209.849846 \r\nL 253.752125 212.387544 \r\nL 254.056489 211.860575 \r\nL 254.360852 212.298869 \r\nL 254.96958 207.386703 \r\nL 255.273943 209.937957 \r\nL 255.578307 209.937957 \r\nL 255.88267 212.226573 \r\nL 256.187034 212.110787 \r\nL 256.491398 214.659216 \r\nL 257.100125 209.937957 \r\nL 257.404489 209.971845 \r\nL 257.708852 209.841374 \r\nL 258.013216 209.953771 \r\nL 258.31758 207.057418 \r\nL 258.621943 212.242388 \r\nL 258.926307 212.361563 \r\nL 259.23067 209.937392 \r\nL 259.535034 212.627024 \r\nL 259.839398 209.939651 \r\nL 260.143761 209.935698 \r\nL 260.448125 212.301128 \r\nL 260.752489 212.302822 \r\nL 261.056852 206.957447 \r\nL 261.361216 207.92045 \r\nL 261.66558 209.95716 \r\nL 261.969943 209.446006 \r\nL 262.57867 210.323158 \r\nL 262.883034 209.828948 \r\nL 263.187398 212.242952 \r\nL 263.491761 212.198897 \r\nL 263.796125 212.320896 \r\nL 264.100489 209.967327 \r\nL 264.404852 209.939086 \r\nL 265.01358 214.664864 \r\nL 265.317943 209.357331 \r\nL 265.622307 209.938522 \r\nL 265.92667 212.299434 \r\nL 266.231034 209.941346 \r\nL 266.535398 209.936827 \r\nL 266.839761 212.555293 \r\nL 267.144125 209.95829 \r\nL 267.448489 209.314405 \r\nL 267.752852 212.302258 \r\nL 268.057216 212.204545 \r\nL 268.36158 210.022114 \r\nL 268.665943 212.299998 \r\nL 269.27467 207.574785 \r\nL 269.579034 207.521693 \r\nL 269.883398 207.854367 \r\nL 270.187761 212.323721 \r\nL 270.492125 209.900679 \r\nL 270.796489 212.299434 \r\nL 271.100852 211.7414 \r\nL 271.405216 209.862272 \r\nL 271.70958 212.333887 \r\nL 272.013943 209.94191 \r\nL 272.318307 209.865096 \r\nL 272.62267 212.283054 \r\nL 272.927034 209.949818 \r\nL 273.231398 212.52084 \r\nL 273.535761 212.222619 \r\nL 273.840125 209.803532 \r\nL 274.144489 214.671642 \r\nL 274.753216 209.875828 \r\nL 275.05758 212.14524 \r\nL 275.361943 210.025503 \r\nL 275.666307 212.212453 \r\nL 275.97067 212.213017 \r\nL 276.275034 211.321745 \r\nL 276.579398 207.586647 \r\nL 276.883761 209.887689 \r\nL 277.188125 209.962244 \r\nL 277.492489 212.308471 \r\nL 279.014307 212.302258 \r\nL 279.31867 210.020419 \r\nL 279.623034 209.857754 \r\nL 279.927398 214.743373 \r\nL 280.231761 209.939651 \r\nL 280.536125 209.846457 \r\nL 280.840489 212.306776 \r\nL 281.144852 212.303387 \r\nL 281.449216 209.928355 \r\nL 281.75358 212.309035 \r\nL 282.057943 212.299434 \r\nL 282.362307 210.190428 \r\nL 282.66667 212.296045 \r\nL 282.971034 212.347443 \r\nL 283.275398 209.935133 \r\nL 283.579761 209.94417 \r\nL 283.884125 212.293786 \r\nL 284.492852 212.288702 \r\nL 284.797216 210.041317 \r\nL 285.10158 209.558968 \r\nL 285.405943 212.23561 \r\nL 285.710307 212.390933 \r\nL 286.319034 212.195508 \r\nL 287.536489 212.386979 \r\nL 287.840852 212.216971 \r\nL 288.44958 212.23561 \r\nL 288.753943 212.386415 \r\nL 289.36267 212.227703 \r\nL 289.971398 212.263286 \r\nL 290.275761 209.95716 \r\nL 290.580125 209.851541 \r\nL 290.884489 212.302258 \r\nL 291.188852 210.057132 \r\nL 291.493216 212.290961 \r\nL 291.79758 211.523383 \r\nL 292.101943 212.296045 \r\nL 292.71067 214.733206 \r\nL 293.015034 212.209064 \r\nL 293.319398 212.314119 \r\nL 293.623761 210.019854 \r\nL 294.232489 214.649614 \r\nL 294.536852 209.937957 \r\nL 295.14558 210.012512 \r\nL 295.449943 214.590874 \r\nL 295.754307 209.935133 \r\nL 296.05867 214.64679 \r\nL 296.667398 209.938522 \r\nL 296.971761 209.935698 \r\nL 297.276125 212.300563 \r\nL 298.189216 212.298869 \r\nL 298.49358 214.664299 \r\nL 299.102307 209.939086 \r\nL 299.40667 212.302822 \r\nL 299.711034 209.935698 \r\nL 300.015398 210.28927 \r\nL 300.319761 209.937392 \r\nL 300.624125 210.279668 \r\nL 300.928489 212.303387 \r\nL 301.232852 208.854648 \r\nL 301.537216 209.936827 \r\nL 301.84158 209.938522 \r\nL 302.145943 212.301693 \r\nL 302.450307 209.937957 \r\nL 303.059034 209.936827 \r\nL 303.667761 214.620244 \r\nL 303.972125 209.944735 \r\nL 304.276489 209.937392 \r\nL 304.580852 214.663735 \r\nL 305.18958 209.937392 \r\nL 305.493943 209.806356 \r\nL 305.798307 210.010817 \r\nL 306.10267 212.217536 \r\nL 306.407034 212.290397 \r\nL 306.711398 209.927225 \r\nL 307.015761 212.406748 \r\nL 307.320125 209.938522 \r\nL 307.624489 210.315816 \r\nL 307.928852 209.937392 \r\nL 308.233216 209.940781 \r\nL 308.53758 209.831772 \r\nL 308.841943 209.963938 \r\nL 309.146307 214.643401 \r\nL 309.45067 211.910843 \r\nL 309.755034 214.747327 \r\nL 310.059398 209.844763 \r\nL 310.668125 214.742808 \r\nL 310.972489 209.860578 \r\nL 311.276852 209.934568 \r\nL 311.581216 202.85635 \r\nL 311.88558 214.664864 \r\nL 312.189943 212.289267 \r\nL 312.494307 212.267804 \r\nL 312.79867 209.982577 \r\nL 313.407398 214.66091 \r\nL 313.711761 207.575915 \r\nL 314.016125 207.578174 \r\nL 314.320489 212.29548 \r\nL 314.624852 209.943605 \r\nL 315.23358 212.300563 \r\nL 315.537943 209.939086 \r\nL 316.14667 209.937957 \r\nL 316.451034 212.300563 \r\nL 316.755398 209.937957 \r\nL 317.059761 212.298869 \r\nL 317.364125 212.302822 \r\nL 317.668489 209.939086 \r\nL 318.277216 209.937392 \r\nL 318.58158 212.299998 \r\nL 318.885943 209.937957 \r\nL 319.799034 209.939651 \r\nL 320.103398 212.299998 \r\nL 320.712125 209.936827 \r\nL 321.016489 209.938522 \r\nL 321.320852 214.663735 \r\nL 321.625216 212.300563 \r\nL 321.92958 207.574785 \r\nL 322.233943 212.301128 \r\nL 322.538307 212.301128 \r\nL 322.84267 209.937957 \r\nL 323.451398 209.937957 \r\nL 323.755761 212.300563 \r\nL 324.060125 209.937392 \r\nL 324.668852 209.937957 \r\nL 324.973216 212.301693 \r\nL 325.27758 212.301128 \r\nL 325.581943 209.936262 \r\nL 325.886307 209.939086 \r\nL 326.19067 212.299998 \r\nL 326.495034 209.939651 \r\nL 326.799398 212.299434 \r\nL 327.103761 207.57648 \r\nL 327.408125 209.939086 \r\nL 327.712489 209.934568 \r\nL 328.016852 205.216133 \r\nL 328.321216 209.936827 \r\nL 328.62558 207.57535 \r\nL 328.929943 209.939086 \r\nL 329.234307 209.936827 \r\nL 329.53867 205.214438 \r\nL 329.843034 212.214712 \r\nL 330.147398 212.454192 \r\nL 330.451761 209.978058 \r\nL 330.756125 212.194379 \r\nL 331.060489 212.38585 \r\nL 331.364852 205.20766 \r\nL 331.669216 209.943605 \r\nL 331.97358 209.935698 \r\nL 332.277943 212.302258 \r\nL 332.582307 209.940781 \r\nL 332.88667 205.151179 \r\nL 333.191034 212.302258 \r\nL 333.495398 209.908022 \r\nL 333.799761 212.389239 \r\nL 334.104125 209.841939 \r\nL 334.408489 212.394887 \r\nL 334.712852 212.213582 \r\nL 335.32158 212.318637 \r\nL 335.930307 212.298304 \r\nL 336.23467 211.180542 \r\nL 336.539034 212.300563 \r\nL 336.843398 209.936262 \r\nL 337.756489 209.859448 \r\nL 338.060852 212.304517 \r\nL 338.365216 212.377378 \r\nL 338.66958 212.225443 \r\nL 338.973943 212.298304 \r\nL 339.278307 209.937392 \r\nL 339.58267 212.304517 \r\nL 340.191398 212.360433 \r\nL 340.495761 212.214147 \r\nL 340.800125 209.951512 \r\nL 341.104489 212.297174 \r\nL 342.01758 212.299998 \r\nL 342.321943 209.937392 \r\nL 342.626307 212.300563 \r\nL 342.93067 209.936827 \r\nL 343.235034 212.302258 \r\nL 343.539398 209.937957 \r\nL 344.452489 209.937392 \r\nL 344.756852 212.302258 \r\nL 345.061216 209.936827 \r\nL 345.36558 209.939086 \r\nL 345.974307 214.66317 \r\nL 346.583034 209.939086 \r\nL 346.887398 209.937392 \r\nL 347.191761 212.299998 \r\nL 347.496125 212.301128 \r\nL 347.800489 209.938522 \r\nL 349.62667 209.937957 \r\nL 349.931034 212.302258 \r\nL 350.235398 209.935698 \r\nL 350.539761 212.228832 \r\nL 350.844125 209.936827 \r\nL 351.452852 210.022678 \r\nL 351.757216 212.302258 \r\nL 352.06158 207.572526 \r\nL 352.365943 212.303952 \r\nL 352.670307 212.300563 \r\nL 352.97467 209.936262 \r\nL 353.279034 209.878087 \r\nL 353.583398 212.302258 \r\nL 353.887761 212.276841 \r\nL 354.192125 207.660072 \r\nL 354.496489 214.66317 \r\nL 354.800852 209.935133 \r\nL 355.105216 209.940781 \r\nL 355.40958 212.224879 \r\nL 355.713943 212.376248 \r\nL 356.018307 205.138189 \r\nL 356.32267 212.316943 \r\nL 356.627034 212.358739 \r\nL 356.931398 212.233351 \r\nL 357.235761 212.370035 \r\nL 357.540125 214.662605 \r\nL 357.844489 212.301128 \r\nL 358.148852 212.301693 \r\nL 358.453216 209.865096 \r\nL 358.75758 210.009123 \r\nL 359.061943 212.299434 \r\nL 359.366307 209.938522 \r\nL 359.67067 209.939651 \r\nL 359.975034 207.512091 \r\nL 360.279398 209.922142 \r\nL 360.583761 209.935133 \r\nL 360.888125 212.381331 \r\nL 361.192489 212.223184 \r\nL 361.496852 212.377942 \r\nL 361.801216 209.940781 \r\nL 362.10558 205.210485 \r\nL 362.409943 207.567443 \r\nL 362.409943 207.567443 \r\n\" style=\"fill:none;stroke:#1f77b4;stroke-linecap:square;stroke-width:1.5;\"/>\r\n   </g>\r\n   <g id=\"patch_3\">\r\n    <path d=\"M 42.828125 224.64 \r\nL 42.828125 7.2 \r\n\" style=\"fill:none;stroke:#000000;stroke-linecap:square;stroke-linejoin:miter;stroke-width:0.8;\"/>\r\n   </g>\r\n   <g id=\"patch_4\">\r\n    <path d=\"M 377.628125 224.64 \r\nL 377.628125 7.2 \r\n\" style=\"fill:none;stroke:#000000;stroke-linecap:square;stroke-linejoin:miter;stroke-width:0.8;\"/>\r\n   </g>\r\n   <g id=\"patch_5\">\r\n    <path d=\"M 42.828125 224.64 \r\nL 377.628125 224.64 \r\n\" style=\"fill:none;stroke:#000000;stroke-linecap:square;stroke-linejoin:miter;stroke-width:0.8;\"/>\r\n   </g>\r\n   <g id=\"patch_6\">\r\n    <path d=\"M 42.828125 7.2 \r\nL 377.628125 7.2 \r\n\" style=\"fill:none;stroke:#000000;stroke-linecap:square;stroke-linejoin:miter;stroke-width:0.8;\"/>\r\n   </g>\r\n  </g>\r\n </g>\r\n <defs>\r\n  <clipPath id=\"p59166dd87d\">\r\n   <rect height=\"217.44\" width=\"334.8\" x=\"42.828125\" y=\"7.2\"/>\r\n  </clipPath>\r\n </defs>\r\n</svg>\r\n",
      "text/plain": [
       "<Figure size 432x288 with 1 Axes>"
      ]
     },
     "metadata": {
      "needs_background": "light"
     },
     "output_type": "display_data"
    }
   ],
   "source": [
    "from exlab.interface.graph import display\n",
    "display(env.visualizeTimeByIteration())"
   ]
  },
  {
   "cell_type": "code",
   "execution_count": 28,
   "metadata": {},
   "outputs": [
    {
     "data": {
      "image/png": "[encoded data removed]",
      "image/svg+xml": "<?xml version=\"1.0\" encoding=\"utf-8\" standalone=\"no\"?>\r\n<!DOCTYPE svg PUBLIC \"-//W3C//DTD SVG 1.1//EN\"\r\n  \"http://www.w3.org/Graphics/SVG/1.1/DTD/svg11.dtd\">\r\n<!-- Created with matplotlib (https://matplotlib.org/) -->\r\n<svg height=\"262.19625pt\" version=\"1.1\" viewBox=\"0 0 384.828125 262.19625\" width=\"384.828125pt\" xmlns=\"http://www.w3.org/2000/svg\" xmlns:xlink=\"http://www.w3.org/1999/xlink\">\r\n <metadata>\r\n  <rdf:RDF xmlns:cc=\"http://creativecommons.org/ns#\" xmlns:dc=\"http://purl.org/dc/elements/1.1/\" xmlns:rdf=\"http://www.w3.org/1999/02/22-rdf-syntax-ns#\">\r\n   <cc:Work>\r\n    <dc:type rdf:resource=\"http://purl.org/dc/dcmitype/StillImage\"/>\r\n    <dc:date>2020-09-16T15:11:45.782802</dc:date>\r\n    <dc:format>image/svg+xml</dc:format>\r\n    <dc:creator>\r\n     <cc:Agent>\r\n      <dc:title>Matplotlib v3.3.2, https://matplotlib.org/</dc:title>\r\n     </cc:Agent>\r\n    </dc:creator>\r\n   </cc:Work>\r\n  </rdf:RDF>\r\n </metadata>\r\n <defs>\r\n  <style type=\"text/css\">*{stroke-linecap:butt;stroke-linejoin:round;}</style>\r\n </defs>\r\n <g id=\"figure_1\">\r\n  <g id=\"patch_1\">\r\n   <path d=\"M 0 262.19625 \r\nL 384.828125 262.19625 \r\nL 384.828125 0 \r\nL 0 0 \r\nz\r\n\" style=\"fill:none;\"/>\r\n  </g>\r\n  <g id=\"axes_1\">\r\n   <g id=\"patch_2\">\r\n    <path d=\"M 42.828125 224.64 \r\nL 377.628125 224.64 \r\nL 377.628125 7.2 \r\nL 42.828125 7.2 \r\nz\r\n\" style=\"fill:#ffffff;\"/>\r\n   </g>\r\n   <g id=\"matplotlib.axis_1\">\r\n    <g id=\"xtick_1\">\r\n     <g id=\"line2d_1\">\r\n      <defs>\r\n       <path d=\"M 0 0 \r\nL 0 3.5 \r\n\" id=\"m3482d86541\" style=\"stroke:#000000;stroke-width:0.8;\"/>\r\n      </defs>\r\n      <g>\r\n       <use style=\"stroke:#000000;stroke-width:0.8;\" x=\"58.046307\" xlink:href=\"#m3482d86541\" y=\"224.64\"/>\r\n      </g>\r\n     </g>\r\n     <g id=\"text_1\">\r\n      <!-- 0.0 -->\r\n      <g transform=\"translate(50.094744 239.238438)scale(0.1 -0.1)\">\r\n       <defs>\r\n        <path d=\"M 31.78125 66.40625 \r\nQ 24.171875 66.40625 20.328125 58.90625 \r\nQ 16.5 51.421875 16.5 36.375 \r\nQ 16.5 21.390625 20.328125 13.890625 \r\nQ 24.171875 6.390625 31.78125 6.390625 \r\nQ 39.453125 6.390625 43.28125 13.890625 \r\nQ 47.125 21.390625 47.125 36.375 \r\nQ 47.125 51.421875 43.28125 58.90625 \r\nQ 39.453125 66.40625 31.78125 66.40625 \r\nz\r\nM 31.78125 74.21875 \r\nQ 44.046875 74.21875 50.515625 64.515625 \r\nQ 56.984375 54.828125 56.984375 36.375 \r\nQ 56.984375 17.96875 50.515625 8.265625 \r\nQ 44.046875 -1.421875 31.78125 -1.421875 \r\nQ 19.53125 -1.421875 13.0625 8.265625 \r\nQ 6.59375 17.96875 6.59375 36.375 \r\nQ 6.59375 54.828125 13.0625 64.515625 \r\nQ 19.53125 74.21875 31.78125 74.21875 \r\nz\r\n\" id=\"DejaVuSans-48\"/>\r\n        <path d=\"M 10.6875 12.40625 \r\nL 21 12.40625 \r\nL 21 0 \r\nL 10.6875 0 \r\nz\r\n\" id=\"DejaVuSans-46\"/>\r\n       </defs>\r\n       <use xlink:href=\"#DejaVuSans-48\"/>\r\n       <use x=\"63.623047\" xlink:href=\"#DejaVuSans-46\"/>\r\n       <use x=\"95.410156\" xlink:href=\"#DejaVuSans-48\"/>\r\n      </g>\r\n     </g>\r\n    </g>\r\n    <g id=\"xtick_2\">\r\n     <g id=\"line2d_2\">\r\n      <g>\r\n       <use style=\"stroke:#000000;stroke-width:0.8;\" x=\"118.919034\" xlink:href=\"#m3482d86541\" y=\"224.64\"/>\r\n      </g>\r\n     </g>\r\n     <g id=\"text_2\">\r\n      <!-- 0.2 -->\r\n      <g transform=\"translate(110.967472 239.238438)scale(0.1 -0.1)\">\r\n       <defs>\r\n        <path d=\"M 19.1875 8.296875 \r\nL 53.609375 8.296875 \r\nL 53.609375 0 \r\nL 7.328125 0 \r\nL 7.328125 8.296875 \r\nQ 12.9375 14.109375 22.625 23.890625 \r\nQ 32.328125 33.6875 34.8125 36.53125 \r\nQ 39.546875 41.84375 41.421875 45.53125 \r\nQ 43.3125 49.21875 43.3125 52.78125 \r\nQ 43.3125 58.59375 39.234375 62.25 \r\nQ 35.15625 65.921875 28.609375 65.921875 \r\nQ 23.96875 65.921875 18.8125 64.3125 \r\nQ 13.671875 62.703125 7.8125 59.421875 \r\nL 7.8125 69.390625 \r\nQ 13.765625 71.78125 18.9375 73 \r\nQ 24.125 74.21875 28.421875 74.21875 \r\nQ 39.75 74.21875 46.484375 68.546875 \r\nQ 53.21875 62.890625 53.21875 53.421875 \r\nQ 53.21875 48.921875 51.53125 44.890625 \r\nQ 49.859375 40.875 45.40625 35.40625 \r\nQ 44.1875 33.984375 37.640625 27.21875 \r\nQ 31.109375 20.453125 19.1875 8.296875 \r\nz\r\n\" id=\"DejaVuSans-50\"/>\r\n       </defs>\r\n       <use xlink:href=\"#DejaVuSans-48\"/>\r\n       <use x=\"63.623047\" xlink:href=\"#DejaVuSans-46\"/>\r\n       <use x=\"95.410156\" xlink:href=\"#DejaVuSans-50\"/>\r\n      </g>\r\n     </g>\r\n    </g>\r\n    <g id=\"xtick_3\">\r\n     <g id=\"line2d_3\">\r\n      <g>\r\n       <use style=\"stroke:#000000;stroke-width:0.8;\" x=\"179.791761\" xlink:href=\"#m3482d86541\" y=\"224.64\"/>\r\n      </g>\r\n     </g>\r\n     <g id=\"text_3\">\r\n      <!-- 0.4 -->\r\n      <g transform=\"translate(171.840199 239.238438)scale(0.1 -0.1)\">\r\n       <defs>\r\n        <path d=\"M 37.796875 64.3125 \r\nL 12.890625 25.390625 \r\nL 37.796875 25.390625 \r\nz\r\nM 35.203125 72.90625 \r\nL 47.609375 72.90625 \r\nL 47.609375 25.390625 \r\nL 58.015625 25.390625 \r\nL 58.015625 17.1875 \r\nL 47.609375 17.1875 \r\nL 47.609375 0 \r\nL 37.796875 0 \r\nL 37.796875 17.1875 \r\nL 4.890625 17.1875 \r\nL 4.890625 26.703125 \r\nz\r\n\" id=\"DejaVuSans-52\"/>\r\n       </defs>\r\n       <use xlink:href=\"#DejaVuSans-48\"/>\r\n       <use x=\"63.623047\" xlink:href=\"#DejaVuSans-46\"/>\r\n       <use x=\"95.410156\" xlink:href=\"#DejaVuSans-52\"/>\r\n      </g>\r\n     </g>\r\n    </g>\r\n    <g id=\"xtick_4\">\r\n     <g id=\"line2d_4\">\r\n      <g>\r\n       <use style=\"stroke:#000000;stroke-width:0.8;\" x=\"240.664489\" xlink:href=\"#m3482d86541\" y=\"224.64\"/>\r\n      </g>\r\n     </g>\r\n     <g id=\"text_4\">\r\n      <!-- 0.6 -->\r\n      <g transform=\"translate(232.712926 239.238438)scale(0.1 -0.1)\">\r\n       <defs>\r\n        <path d=\"M 33.015625 40.375 \r\nQ 26.375 40.375 22.484375 35.828125 \r\nQ 18.609375 31.296875 18.609375 23.390625 \r\nQ 18.609375 15.53125 22.484375 10.953125 \r\nQ 26.375 6.390625 33.015625 6.390625 \r\nQ 39.65625 6.390625 43.53125 10.953125 \r\nQ 47.40625 15.53125 47.40625 23.390625 \r\nQ 47.40625 31.296875 43.53125 35.828125 \r\nQ 39.65625 40.375 33.015625 40.375 \r\nz\r\nM 52.59375 71.296875 \r\nL 52.59375 62.3125 \r\nQ 48.875 64.0625 45.09375 64.984375 \r\nQ 41.3125 65.921875 37.59375 65.921875 \r\nQ 27.828125 65.921875 22.671875 59.328125 \r\nQ 17.53125 52.734375 16.796875 39.40625 \r\nQ 19.671875 43.65625 24.015625 45.921875 \r\nQ 28.375 48.1875 33.59375 48.1875 \r\nQ 44.578125 48.1875 50.953125 41.515625 \r\nQ 57.328125 34.859375 57.328125 23.390625 \r\nQ 57.328125 12.15625 50.6875 5.359375 \r\nQ 44.046875 -1.421875 33.015625 -1.421875 \r\nQ 20.359375 -1.421875 13.671875 8.265625 \r\nQ 6.984375 17.96875 6.984375 36.375 \r\nQ 6.984375 53.65625 15.1875 63.9375 \r\nQ 23.390625 74.21875 37.203125 74.21875 \r\nQ 40.921875 74.21875 44.703125 73.484375 \r\nQ 48.484375 72.75 52.59375 71.296875 \r\nz\r\n\" id=\"DejaVuSans-54\"/>\r\n       </defs>\r\n       <use xlink:href=\"#DejaVuSans-48\"/>\r\n       <use x=\"63.623047\" xlink:href=\"#DejaVuSans-46\"/>\r\n       <use x=\"95.410156\" xlink:href=\"#DejaVuSans-54\"/>\r\n      </g>\r\n     </g>\r\n    </g>\r\n    <g id=\"xtick_5\">\r\n     <g id=\"line2d_5\">\r\n      <g>\r\n       <use style=\"stroke:#000000;stroke-width:0.8;\" x=\"301.537216\" xlink:href=\"#m3482d86541\" y=\"224.64\"/>\r\n      </g>\r\n     </g>\r\n     <g id=\"text_5\">\r\n      <!-- 0.8 -->\r\n      <g transform=\"translate(293.585653 239.238438)scale(0.1 -0.1)\">\r\n       <defs>\r\n        <path d=\"M 31.78125 34.625 \r\nQ 24.75 34.625 20.71875 30.859375 \r\nQ 16.703125 27.09375 16.703125 20.515625 \r\nQ 16.703125 13.921875 20.71875 10.15625 \r\nQ 24.75 6.390625 31.78125 6.390625 \r\nQ 38.8125 6.390625 42.859375 10.171875 \r\nQ 46.921875 13.96875 46.921875 20.515625 \r\nQ 46.921875 27.09375 42.890625 30.859375 \r\nQ 38.875 34.625 31.78125 34.625 \r\nz\r\nM 21.921875 38.8125 \r\nQ 15.578125 40.375 12.03125 44.71875 \r\nQ 8.5 49.078125 8.5 55.328125 \r\nQ 8.5 64.0625 14.71875 69.140625 \r\nQ 20.953125 74.21875 31.78125 74.21875 \r\nQ 42.671875 74.21875 48.875 69.140625 \r\nQ 55.078125 64.0625 55.078125 55.328125 \r\nQ 55.078125 49.078125 51.53125 44.71875 \r\nQ 48 40.375 41.703125 38.8125 \r\nQ 48.828125 37.15625 52.796875 32.3125 \r\nQ 56.78125 27.484375 56.78125 20.515625 \r\nQ 56.78125 9.90625 50.3125 4.234375 \r\nQ 43.84375 -1.421875 31.78125 -1.421875 \r\nQ 19.734375 -1.421875 13.25 4.234375 \r\nQ 6.78125 9.90625 6.78125 20.515625 \r\nQ 6.78125 27.484375 10.78125 32.3125 \r\nQ 14.796875 37.15625 21.921875 38.8125 \r\nz\r\nM 18.3125 54.390625 \r\nQ 18.3125 48.734375 21.84375 45.5625 \r\nQ 25.390625 42.390625 31.78125 42.390625 \r\nQ 38.140625 42.390625 41.71875 45.5625 \r\nQ 45.3125 48.734375 45.3125 54.390625 \r\nQ 45.3125 60.0625 41.71875 63.234375 \r\nQ 38.140625 66.40625 31.78125 66.40625 \r\nQ 25.390625 66.40625 21.84375 63.234375 \r\nQ 18.3125 60.0625 18.3125 54.390625 \r\nz\r\n\" id=\"DejaVuSans-56\"/>\r\n       </defs>\r\n       <use xlink:href=\"#DejaVuSans-48\"/>\r\n       <use x=\"63.623047\" xlink:href=\"#DejaVuSans-46\"/>\r\n       <use x=\"95.410156\" xlink:href=\"#DejaVuSans-56\"/>\r\n      </g>\r\n     </g>\r\n    </g>\r\n    <g id=\"xtick_6\">\r\n     <g id=\"line2d_6\">\r\n      <g>\r\n       <use style=\"stroke:#000000;stroke-width:0.8;\" x=\"362.409943\" xlink:href=\"#m3482d86541\" y=\"224.64\"/>\r\n      </g>\r\n     </g>\r\n     <g id=\"text_6\">\r\n      <!-- 1.0 -->\r\n      <g transform=\"translate(354.458381 239.238438)scale(0.1 -0.1)\">\r\n       <defs>\r\n        <path d=\"M 12.40625 8.296875 \r\nL 28.515625 8.296875 \r\nL 28.515625 63.921875 \r\nL 10.984375 60.40625 \r\nL 10.984375 69.390625 \r\nL 28.421875 72.90625 \r\nL 38.28125 72.90625 \r\nL 38.28125 8.296875 \r\nL 54.390625 8.296875 \r\nL 54.390625 0 \r\nL 12.40625 0 \r\nz\r\n\" id=\"DejaVuSans-49\"/>\r\n       </defs>\r\n       <use xlink:href=\"#DejaVuSans-49\"/>\r\n       <use x=\"63.623047\" xlink:href=\"#DejaVuSans-46\"/>\r\n       <use x=\"95.410156\" xlink:href=\"#DejaVuSans-48\"/>\r\n      </g>\r\n     </g>\r\n    </g>\r\n    <g id=\"text_7\">\r\n     <!-- Iteration -->\r\n     <g transform=\"translate(189.019531 252.916563)scale(0.1 -0.1)\">\r\n      <defs>\r\n       <path d=\"M 9.8125 72.90625 \r\nL 19.671875 72.90625 \r\nL 19.671875 0 \r\nL 9.8125 0 \r\nz\r\n\" id=\"DejaVuSans-73\"/>\r\n       <path d=\"M 18.3125 70.21875 \r\nL 18.3125 54.6875 \r\nL 36.8125 54.6875 \r\nL 36.8125 47.703125 \r\nL 18.3125 47.703125 \r\nL 18.3125 18.015625 \r\nQ 18.3125 11.328125 20.140625 9.421875 \r\nQ 21.96875 7.515625 27.59375 7.515625 \r\nL 36.8125 7.515625 \r\nL 36.8125 0 \r\nL 27.59375 0 \r\nQ 17.1875 0 13.234375 3.875 \r\nQ 9.28125 7.765625 9.28125 18.015625 \r\nL 9.28125 47.703125 \r\nL 2.6875 47.703125 \r\nL 2.6875 54.6875 \r\nL 9.28125 54.6875 \r\nL 9.28125 70.21875 \r\nz\r\n\" id=\"DejaVuSans-116\"/>\r\n       <path d=\"M 56.203125 29.59375 \r\nL 56.203125 25.203125 \r\nL 14.890625 25.203125 \r\nQ 15.484375 15.921875 20.484375 11.0625 \r\nQ 25.484375 6.203125 34.421875 6.203125 \r\nQ 39.59375 6.203125 44.453125 7.46875 \r\nQ 49.3125 8.734375 54.109375 11.28125 \r\nL 54.109375 2.78125 \r\nQ 49.265625 0.734375 44.1875 -0.34375 \r\nQ 39.109375 -1.421875 33.890625 -1.421875 \r\nQ 20.796875 -1.421875 13.15625 6.1875 \r\nQ 5.515625 13.8125 5.515625 26.8125 \r\nQ 5.515625 40.234375 12.765625 48.109375 \r\nQ 20.015625 56 32.328125 56 \r\nQ 43.359375 56 49.78125 48.890625 \r\nQ 56.203125 41.796875 56.203125 29.59375 \r\nz\r\nM 47.21875 32.234375 \r\nQ 47.125 39.59375 43.09375 43.984375 \r\nQ 39.0625 48.390625 32.421875 48.390625 \r\nQ 24.90625 48.390625 20.390625 44.140625 \r\nQ 15.875 39.890625 15.1875 32.171875 \r\nz\r\n\" id=\"DejaVuSans-101\"/>\r\n       <path d=\"M 41.109375 46.296875 \r\nQ 39.59375 47.171875 37.8125 47.578125 \r\nQ 36.03125 48 33.890625 48 \r\nQ 26.265625 48 22.1875 43.046875 \r\nQ 18.109375 38.09375 18.109375 28.8125 \r\nL 18.109375 0 \r\nL 9.078125 0 \r\nL 9.078125 54.6875 \r\nL 18.109375 54.6875 \r\nL 18.109375 46.1875 \r\nQ 20.953125 51.171875 25.484375 53.578125 \r\nQ 30.03125 56 36.53125 56 \r\nQ 37.453125 56 38.578125 55.875 \r\nQ 39.703125 55.765625 41.0625 55.515625 \r\nz\r\n\" id=\"DejaVuSans-114\"/>\r\n       <path d=\"M 34.28125 27.484375 \r\nQ 23.390625 27.484375 19.1875 25 \r\nQ 14.984375 22.515625 14.984375 16.5 \r\nQ 14.984375 11.71875 18.140625 8.90625 \r\nQ 21.296875 6.109375 26.703125 6.109375 \r\nQ 34.1875 6.109375 38.703125 11.40625 \r\nQ 43.21875 16.703125 43.21875 25.484375 \r\nL 43.21875 27.484375 \r\nz\r\nM 52.203125 31.203125 \r\nL 52.203125 0 \r\nL 43.21875 0 \r\nL 43.21875 8.296875 \r\nQ 40.140625 3.328125 35.546875 0.953125 \r\nQ 30.953125 -1.421875 24.3125 -1.421875 \r\nQ 15.921875 -1.421875 10.953125 3.296875 \r\nQ 6 8.015625 6 15.921875 \r\nQ 6 25.140625 12.171875 29.828125 \r\nQ 18.359375 34.515625 30.609375 34.515625 \r\nL 43.21875 34.515625 \r\nL 43.21875 35.40625 \r\nQ 43.21875 41.609375 39.140625 45 \r\nQ 35.0625 48.390625 27.6875 48.390625 \r\nQ 23 48.390625 18.546875 47.265625 \r\nQ 14.109375 46.140625 10.015625 43.890625 \r\nL 10.015625 52.203125 \r\nQ 14.9375 54.109375 19.578125 55.046875 \r\nQ 24.21875 56 28.609375 56 \r\nQ 40.484375 56 46.34375 49.84375 \r\nQ 52.203125 43.703125 52.203125 31.203125 \r\nz\r\n\" id=\"DejaVuSans-97\"/>\r\n       <path d=\"M 9.421875 54.6875 \r\nL 18.40625 54.6875 \r\nL 18.40625 0 \r\nL 9.421875 0 \r\nz\r\nM 9.421875 75.984375 \r\nL 18.40625 75.984375 \r\nL 18.40625 64.59375 \r\nL 9.421875 64.59375 \r\nz\r\n\" id=\"DejaVuSans-105\"/>\r\n       <path d=\"M 30.609375 48.390625 \r\nQ 23.390625 48.390625 19.1875 42.75 \r\nQ 14.984375 37.109375 14.984375 27.296875 \r\nQ 14.984375 17.484375 19.15625 11.84375 \r\nQ 23.34375 6.203125 30.609375 6.203125 \r\nQ 37.796875 6.203125 41.984375 11.859375 \r\nQ 46.1875 17.53125 46.1875 27.296875 \r\nQ 46.1875 37.015625 41.984375 42.703125 \r\nQ 37.796875 48.390625 30.609375 48.390625 \r\nz\r\nM 30.609375 56 \r\nQ 42.328125 56 49.015625 48.375 \r\nQ 55.71875 40.765625 55.71875 27.296875 \r\nQ 55.71875 13.875 49.015625 6.21875 \r\nQ 42.328125 -1.421875 30.609375 -1.421875 \r\nQ 18.84375 -1.421875 12.171875 6.21875 \r\nQ 5.515625 13.875 5.515625 27.296875 \r\nQ 5.515625 40.765625 12.171875 48.375 \r\nQ 18.84375 56 30.609375 56 \r\nz\r\n\" id=\"DejaVuSans-111\"/>\r\n       <path d=\"M 54.890625 33.015625 \r\nL 54.890625 0 \r\nL 45.90625 0 \r\nL 45.90625 32.71875 \r\nQ 45.90625 40.484375 42.875 44.328125 \r\nQ 39.84375 48.1875 33.796875 48.1875 \r\nQ 26.515625 48.1875 22.3125 43.546875 \r\nQ 18.109375 38.921875 18.109375 30.90625 \r\nL 18.109375 0 \r\nL 9.078125 0 \r\nL 9.078125 54.6875 \r\nL 18.109375 54.6875 \r\nL 18.109375 46.1875 \r\nQ 21.34375 51.125 25.703125 53.5625 \r\nQ 30.078125 56 35.796875 56 \r\nQ 45.21875 56 50.046875 50.171875 \r\nQ 54.890625 44.34375 54.890625 33.015625 \r\nz\r\n\" id=\"DejaVuSans-110\"/>\r\n      </defs>\r\n      <use xlink:href=\"#DejaVuSans-73\"/>\r\n      <use x=\"29.492188\" xlink:href=\"#DejaVuSans-116\"/>\r\n      <use x=\"68.701172\" xlink:href=\"#DejaVuSans-101\"/>\r\n      <use x=\"130.224609\" xlink:href=\"#DejaVuSans-114\"/>\r\n      <use x=\"171.337891\" xlink:href=\"#DejaVuSans-97\"/>\r\n      <use x=\"232.617188\" xlink:href=\"#DejaVuSans-116\"/>\r\n      <use x=\"271.826172\" xlink:href=\"#DejaVuSans-105\"/>\r\n      <use x=\"299.609375\" xlink:href=\"#DejaVuSans-111\"/>\r\n      <use x=\"360.791016\" xlink:href=\"#DejaVuSans-110\"/>\r\n     </g>\r\n    </g>\r\n   </g>\r\n   <g id=\"matplotlib.axis_2\">\r\n    <g id=\"ytick_1\">\r\n     <g id=\"line2d_7\">\r\n      <defs>\r\n       <path d=\"M 0 0 \r\nL -3.5 0 \r\n\" id=\"m8add1deda3\" style=\"stroke:#000000;stroke-width:0.8;\"/>\r\n      </defs>\r\n      <g>\r\n       <use style=\"stroke:#000000;stroke-width:0.8;\" x=\"42.828125\" xlink:href=\"#m8add1deda3\" y=\"194.989091\"/>\r\n      </g>\r\n     </g>\r\n     <g id=\"text_8\">\r\n      <!-- 0.960 -->\r\n      <g transform=\"translate(7.2 198.78831)scale(0.1 -0.1)\">\r\n       <defs>\r\n        <path d=\"M 10.984375 1.515625 \r\nL 10.984375 10.5 \r\nQ 14.703125 8.734375 18.5 7.8125 \r\nQ 22.3125 6.890625 25.984375 6.890625 \r\nQ 35.75 6.890625 40.890625 13.453125 \r\nQ 46.046875 20.015625 46.78125 33.40625 \r\nQ 43.953125 29.203125 39.59375 26.953125 \r\nQ 35.25 24.703125 29.984375 24.703125 \r\nQ 19.046875 24.703125 12.671875 31.3125 \r\nQ 6.296875 37.9375 6.296875 49.421875 \r\nQ 6.296875 60.640625 12.9375 67.421875 \r\nQ 19.578125 74.21875 30.609375 74.21875 \r\nQ 43.265625 74.21875 49.921875 64.515625 \r\nQ 56.59375 54.828125 56.59375 36.375 \r\nQ 56.59375 19.140625 48.40625 8.859375 \r\nQ 40.234375 -1.421875 26.421875 -1.421875 \r\nQ 22.703125 -1.421875 18.890625 -0.6875 \r\nQ 15.09375 0.046875 10.984375 1.515625 \r\nz\r\nM 30.609375 32.421875 \r\nQ 37.25 32.421875 41.125 36.953125 \r\nQ 45.015625 41.5 45.015625 49.421875 \r\nQ 45.015625 57.28125 41.125 61.84375 \r\nQ 37.25 66.40625 30.609375 66.40625 \r\nQ 23.96875 66.40625 20.09375 61.84375 \r\nQ 16.21875 57.28125 16.21875 49.421875 \r\nQ 16.21875 41.5 20.09375 36.953125 \r\nQ 23.96875 32.421875 30.609375 32.421875 \r\nz\r\n\" id=\"DejaVuSans-57\"/>\r\n       </defs>\r\n       <use xlink:href=\"#DejaVuSans-48\"/>\r\n       <use x=\"63.623047\" xlink:href=\"#DejaVuSans-46\"/>\r\n       <use x=\"95.410156\" xlink:href=\"#DejaVuSans-57\"/>\r\n       <use x=\"159.033203\" xlink:href=\"#DejaVuSans-54\"/>\r\n       <use x=\"222.65625\" xlink:href=\"#DejaVuSans-48\"/>\r\n      </g>\r\n     </g>\r\n    </g>\r\n    <g id=\"ytick_2\">\r\n     <g id=\"line2d_8\">\r\n      <g>\r\n       <use style=\"stroke:#000000;stroke-width:0.8;\" x=\"42.828125\" xlink:href=\"#m8add1deda3\" y=\"155.454545\"/>\r\n      </g>\r\n     </g>\r\n     <g id=\"text_9\">\r\n      <!-- 0.980 -->\r\n      <g transform=\"translate(7.2 159.253764)scale(0.1 -0.1)\">\r\n       <use xlink:href=\"#DejaVuSans-48\"/>\r\n       <use x=\"63.623047\" xlink:href=\"#DejaVuSans-46\"/>\r\n       <use x=\"95.410156\" xlink:href=\"#DejaVuSans-57\"/>\r\n       <use x=\"159.033203\" xlink:href=\"#DejaVuSans-56\"/>\r\n       <use x=\"222.65625\" xlink:href=\"#DejaVuSans-48\"/>\r\n      </g>\r\n     </g>\r\n    </g>\r\n    <g id=\"ytick_3\">\r\n     <g id=\"line2d_9\">\r\n      <g>\r\n       <use style=\"stroke:#000000;stroke-width:0.8;\" x=\"42.828125\" xlink:href=\"#m8add1deda3\" y=\"115.92\"/>\r\n      </g>\r\n     </g>\r\n     <g id=\"text_10\">\r\n      <!-- 1.000 -->\r\n      <g transform=\"translate(7.2 119.719219)scale(0.1 -0.1)\">\r\n       <use xlink:href=\"#DejaVuSans-49\"/>\r\n       <use x=\"63.623047\" xlink:href=\"#DejaVuSans-46\"/>\r\n       <use x=\"95.410156\" xlink:href=\"#DejaVuSans-48\"/>\r\n       <use x=\"159.033203\" xlink:href=\"#DejaVuSans-48\"/>\r\n       <use x=\"222.65625\" xlink:href=\"#DejaVuSans-48\"/>\r\n      </g>\r\n     </g>\r\n    </g>\r\n    <g id=\"ytick_4\">\r\n     <g id=\"line2d_10\">\r\n      <g>\r\n       <use style=\"stroke:#000000;stroke-width:0.8;\" x=\"42.828125\" xlink:href=\"#m8add1deda3\" y=\"76.385455\"/>\r\n      </g>\r\n     </g>\r\n     <g id=\"text_11\">\r\n      <!-- 1.020 -->\r\n      <g transform=\"translate(7.2 80.184673)scale(0.1 -0.1)\">\r\n       <use xlink:href=\"#DejaVuSans-49\"/>\r\n       <use x=\"63.623047\" xlink:href=\"#DejaVuSans-46\"/>\r\n       <use x=\"95.410156\" xlink:href=\"#DejaVuSans-48\"/>\r\n       <use x=\"159.033203\" xlink:href=\"#DejaVuSans-50\"/>\r\n       <use x=\"222.65625\" xlink:href=\"#DejaVuSans-48\"/>\r\n      </g>\r\n     </g>\r\n    </g>\r\n    <g id=\"ytick_5\">\r\n     <g id=\"line2d_11\">\r\n      <g>\r\n       <use style=\"stroke:#000000;stroke-width:0.8;\" x=\"42.828125\" xlink:href=\"#m8add1deda3\" y=\"36.850909\"/>\r\n      </g>\r\n     </g>\r\n     <g id=\"text_12\">\r\n      <!-- 1.040 -->\r\n      <g transform=\"translate(7.2 40.650128)scale(0.1 -0.1)\">\r\n       <use xlink:href=\"#DejaVuSans-49\"/>\r\n       <use x=\"63.623047\" xlink:href=\"#DejaVuSans-46\"/>\r\n       <use x=\"95.410156\" xlink:href=\"#DejaVuSans-48\"/>\r\n       <use x=\"159.033203\" xlink:href=\"#DejaVuSans-52\"/>\r\n       <use x=\"222.65625\" xlink:href=\"#DejaVuSans-48\"/>\r\n      </g>\r\n     </g>\r\n    </g>\r\n   </g>\r\n   <g id=\"line2d_12\">\r\n    <path clip-path=\"url(#p6f1eb8022a)\" d=\"M 58.046307 115.92 \r\nL 362.409943 115.92 \r\n\" style=\"fill:none;stroke:#1f77b4;stroke-linecap:square;stroke-width:1.5;\"/>\r\n   </g>\r\n   <g id=\"patch_3\">\r\n    <path d=\"M 42.828125 224.64 \r\nL 42.828125 7.2 \r\n\" style=\"fill:none;stroke:#000000;stroke-linecap:square;stroke-linejoin:miter;stroke-width:0.8;\"/>\r\n   </g>\r\n   <g id=\"patch_4\">\r\n    <path d=\"M 377.628125 224.64 \r\nL 377.628125 7.2 \r\n\" style=\"fill:none;stroke:#000000;stroke-linecap:square;stroke-linejoin:miter;stroke-width:0.8;\"/>\r\n   </g>\r\n   <g id=\"patch_5\">\r\n    <path d=\"M 42.828125 224.64 \r\nL 377.628125 224.64 \r\n\" style=\"fill:none;stroke:#000000;stroke-linecap:square;stroke-linejoin:miter;stroke-width:0.8;\"/>\r\n   </g>\r\n   <g id=\"patch_6\">\r\n    <path d=\"M 42.828125 7.2 \r\nL 377.628125 7.2 \r\n\" style=\"fill:none;stroke:#000000;stroke-linecap:square;stroke-linejoin:miter;stroke-width:0.8;\"/>\r\n   </g>\r\n  </g>\r\n </g>\r\n <defs>\r\n  <clipPath id=\"p6f1eb8022a\">\r\n   <rect height=\"217.44\" width=\"334.8\" x=\"42.828125\" y=\"7.2\"/>\r\n  </clipPath>\r\n </defs>\r\n</svg>\r\n",
      "text/plain": [
       "<Figure size 432x288 with 1 Axes>"
      ]
     },
     "metadata": {
      "needs_background": "light"
     },
     "output_type": "display_data"
    }
   ],
   "source": [
    "from exlab.interface.graph import display\n",
    "display(env.visualizeEvaluations())"
   ]
  },
  {
   "cell_type": "code",
   "execution_count": 34,
   "metadata": {},
   "outputs": [
    {
     "data": {
      "text/plain": [
       "[]"
      ]
     },
     "execution_count": 34,
     "metadata": {},
     "output_type": "execute_result"
    }
   ],
   "source": [
    "learner.dataset.models"
   ]
  },
  {
   "cell_type": "code",
   "execution_count": 11,
   "metadata": {},
   "outputs": [
    {
     "data": {
      "text/plain": [
       "([],)"
      ]
     },
     "execution_count": 11,
     "metadata": {},
     "output_type": "execute_result"
    }
   ],
   "source": [
    "env.visualizeTimeByIteration().items[0].data"
   ]
  },
  {
   "cell_type": "code",
   "execution_count": 38,
   "metadata": {},
   "outputs": [
    {
     "data": {
      "text/plain": [
       "2.201986312866211"
      ]
     },
     "execution_count": 38,
     "metadata": {},
     "output_type": "execute_result"
    }
   ],
   "source": [
    "env.timeByIteration[-1]*100"
   ]
  },
  {
   "cell_type": "code",
   "execution_count": 11,
   "metadata": {},
   "outputs": [
    {
     "data": {
      "text/plain": [
       "[@☰#5↝🕹'#Agent.move'↕2,\n",
       " @☰#12↝👁'#Agent.position'↕2,\n",
       " @☰#13↝👁'#Agent.lidar'↕8,\n",
       " @☰#14↝👁'#Cylinder1.position'↕2,\n",
       " @☰#15↝👁'#Cylinder2.position'↕2,\n",
       " @☰∥#16⇉👁[↝👁'#Agent.position' ↝👁'#Cylinder1.position' ↝👁'#Cylinder2.position' ↝👁'#Agent.lidar']↕14,\n",
       " @☰#17↝👁'#Agent.position':PRE↕2,\n",
       " @☰#18↝👁'#Agent.lidar':PRE↕8,\n",
       " @☰#19↝👁'#Cylinder1.position':PRE↕2,\n",
       " @☰#20↝👁'#Cylinder2.position':PRE↕2,\n",
       " @☰∥#21⇉👁[↝👁'#Agent.lidar' ↝👁'#Cylinder1.position' ↝👁'#Agent.position' ↝👁'#Cylinder2.position']↕14]"
      ]
     },
     "execution_count": 11,
     "metadata": {},
     "output_type": "execute_result"
    }
   ],
   "source": [
    "learner.dataset.spaces"
   ]
  },
  {
   "cell_type": "code",
   "execution_count": 26,
   "metadata": {},
   "outputs": [
    {
     "data": {
      "text/plain": [
       "array([[-17.97570257,  11.02197518],\n",
       "       [  2.92439576, -13.98706326],\n",
       "       [  0.        ,   0.        ],\n",
       "       ...,\n",
       "       [  0.        ,   0.        ],\n",
       "       [  0.        ,   0.        ],\n",
       "       [  0.        ,   0.        ]])"
      ]
     },
     "execution_count": 26,
     "metadata": {},
     "output_type": "execute_result"
    }
   ],
   "source": [
    "learner.dataset.space(12).data"
   ]
  },
  {
   "cell_type": "code",
   "execution_count": null,
   "metadata": {},
   "outputs": [],
   "source": [
    "agent.train(iterations=10)\n",
    "env.run()"
   ]
  },
  {
   "cell_type": "code",
   "execution_count": 8,
   "metadata": {
    "tags": []
   },
   "outputs": [],
   "source": [
    "agent.perform(agent.actions().sample().point([1., 1.]))"
   ]
  },
  {
   "cell_type": "code",
   "execution_count": 8,
   "metadata": {},
   "outputs": [
    {
     "data": {
      "text/plain": [
       "SpaceManager(0 spaces and 1 entities)"
      ]
     },
     "execution_count": 8,
     "metadata": {},
     "output_type": "execute_result"
    }
   ],
   "source": [
    "from dinos.data.spacemanager import SpaceManager\n",
    "ds = SpaceManager(storesData=True)\n",
    "ds"
   ]
  },
  {
   "cell_type": "code",
   "execution_count": 9,
   "metadata": {
    "tags": []
   },
   "outputs": [],
   "source": [
    "obs = env.world.observe().convertTo(ds)\n",
    "for o in obs:\n",
    "    o.space.addPoint(o, 0)"
   ]
  },
  {
   "cell_type": "code",
   "execution_count": 12,
   "metadata": {},
   "outputs": [
    {
     "data": {
      "text/plain": [
       "[@⛁#7↝👁'Agent:1#Agent.position'(↕2),\n",
       " @⛁#8↝👁'Agent:1#Agent.lidar'(↕8),\n",
       " @⛁#9↝👁'Cylinder:2#Cylinder1.position'(↕2),\n",
       " @⛁#10↝👁'Cylinder:3#Cylinder2.position'(↕2),\n",
       " @⛁⏸#11⇉👁[↝👁'Agent:1#Agent.position'+↝👁'Cylinder:2#Cylinder1.position'+↝👁'Cylinder:3#Cylinder2.position'+↝👁'Agent:1#Agent.lidar'](↕14)]"
      ]
     },
     "execution_count": 12,
     "metadata": {},
     "output_type": "execute_result"
    }
   ],
   "source": [
    "ds.spaces"
   ]
  },
  {
   "cell_type": "code",
   "execution_count": 21,
   "metadata": {},
   "outputs": [
    {
     "data": {
      "text/plain": [
       "0"
      ]
     },
     "execution_count": 21,
     "metadata": {},
     "output_type": "execute_result"
    }
   ],
   "source": [
    "from dinos.data.dataspace import DataSpace\n",
    "A = DataSpace(ds, 2)\n",
    "B = DataSpace(ds, 2)\n",
    "C = DataSpace(ds, 2)\n",
    "A.addPoint(A.point([1, 2]), 0)\n",
    "B.addPoint(B.point([3, 4]), 0)\n",
    "C.addPoint(C.point([5, 6]), 0)"
   ]
  },
  {
   "cell_type": "code",
   "execution_count": 26,
   "metadata": {},
   "outputs": [],
   "source": [
    "Z = ds.multiColSpace([A, B])\n",
    "Y = ds.multiColSpace([Z, C])"
   ]
  },
  {
   "cell_type": "code",
   "execution_count": 31,
   "metadata": {},
   "outputs": [
    {
     "data": {
      "text/plain": [
       "array([[1., 2., 3., 4.]])"
      ]
     },
     "execution_count": 31,
     "metadata": {},
     "output_type": "execute_result"
    }
   ],
   "source": [
    "Z.data"
   ]
  },
  {
   "cell_type": "code",
   "execution_count": 15,
   "metadata": {},
   "outputs": [
    {
     "data": {
      "text/plain": [
       "👁'Cylinder:2#Cylinder1.position'"
      ]
     },
     "execution_count": 15,
     "metadata": {},
     "output_type": "execute_result"
    }
   ],
   "source": [
    "env.world.cascadingProperty('.position')"
   ]
  },
  {
   "cell_type": "code",
   "execution_count": 13,
   "metadata": {
    "tags": []
   },
   "outputs": [
    {
     "name": "stdout",
     "output_type": "stream",
     "text": [
      "hello\n",
      "hello\n"
     ]
    }
   ],
   "source": [
    "from dinos.data.abstract import *\n",
    "amt = AMT()\n",
    "test = amt.abstractProperty(env.world.cascadingProperty('#Cylinder1.position'), appendToChildren=True)"
   ]
  },
  {
   "cell_type": "code",
   "execution_count": 14,
   "metadata": {
    "tags": []
   },
   "outputs": [
    {
     "name": "stdout",
     "output_type": "stream",
     "text": [
      "hello\n"
     ]
    }
   ],
   "source": [
    "test.entity.assignable(env.world.cascadingChild('#Cylinder2'))"
   ]
  },
  {
   "cell_type": "code",
   "execution_count": 15,
   "metadata": {},
   "outputs": [
    {
     "data": {
      "text/plain": [
       "{'position'}"
      ]
     },
     "execution_count": 15,
     "metadata": {},
     "output_type": "execute_result"
    }
   ],
   "source": [
    "test.element.assignables"
   ]
  },
  {
   "cell_type": "code",
   "execution_count": 16,
   "metadata": {},
   "outputs": [
    {
     "data": {
      "text/plain": [
       "{Entity (A): {Cylinder:2#Cylinder1 bound to root:1,\n",
       "  Cylinder:3#Cylinder2 bound to root:1}}"
      ]
     },
     "execution_count": 16,
     "metadata": {},
     "output_type": "execute_result"
    }
   ],
   "source": [
    "test.assignableElements()"
   ]
  },
  {
   "cell_type": "code",
   "execution_count": 18,
   "metadata": {
    "tags": []
   },
   "outputs": [
    {
     "data": {
      "text/plain": [
       "2"
      ]
     },
     "execution_count": 18,
     "metadata": {},
     "output_type": "execute_result"
    }
   ],
   "source": [
    "test.get(ds).number"
   ]
  },
  {
   "cell_type": "code",
   "execution_count": 19,
   "metadata": {},
   "outputs": [
    {
     "data": {
      "text/plain": [
       "[@⛁#7↝👁'Agent:1#Agent.position'(↕2),\n",
       " @⛁#8↝👁'Agent:1#Agent.lidar'(↕8),\n",
       " @⛁#9↝👁'Cylinder:2#Cylinder1.position'(↕2),\n",
       " @⛁#10↝👁'Cylinder:3#Cylinder2.position'(↕2),\n",
       " @⛁⏸#11⇉👁[↝👁'Agent:1#Agent.position'+↝👁'Cylinder:2#Cylinder1.position'+↝👁'Cylinder:3#Cylinder2.position'+↝👁'Agent:1#Agent.lidar'](↕14),\n",
       " @⛁(↝👁'Cylinder:3#Cylinder2.position'>↝👁'Cylinder:2#Cylinder1.position')(2)]"
      ]
     },
     "execution_count": 19,
     "metadata": {},
     "output_type": "execute_result"
    }
   ],
   "source": [
    "ds.spaces"
   ]
  },
  {
   "cell_type": "code",
   "execution_count": 21,
   "metadata": {},
   "outputs": [
    {
     "data": {
      "text/plain": [
       "array([[3., 4.],\n",
       "       [0., 0.],\n",
       "       [0., 0.],\n",
       "       ...,\n",
       "       [0., 0.],\n",
       "       [0., 0.],\n",
       "       [0., 0.]])"
      ]
     },
     "execution_count": 21,
     "metadata": {},
     "output_type": "execute_result"
    }
   ],
   "source": [
    "B.data"
   ]
  },
  {
   "cell_type": "code",
   "execution_count": 7,
   "metadata": {},
   "outputs": [],
   "source": [
    "cyl = env.world.cascadingChild('Cylinder')\n",
    "prop = env.world.cascadingProperty('Cylinder.position')\n",
    "obs = prop.observe()"
   ]
  },
  {
   "cell_type": "code",
   "execution_count": 10,
   "metadata": {},
   "outputs": [
    {
     "data": {
      "text/plain": [
       "@#0→👁'Cylinder:0.position':BASIC(↕2)"
      ]
     },
     "execution_count": 10,
     "metadata": {},
     "output_type": "execute_result"
    }
   ],
   "source": [
    "obs.space"
   ]
  },
  {
   "cell_type": "code",
   "execution_count": 9,
   "metadata": {},
   "outputs": [
    {
     "ename": "AttributeError",
     "evalue": "'SpaceManager' object has no attribute 'multiColSpace'",
     "output_type": "error",
     "traceback": [
      "\u001b[1;31m---------------------------------------------------------------------------\u001b[0m",
      "\u001b[1;31mAttributeError\u001b[0m                            Traceback (most recent call last)",
      "\u001b[1;32m<ipython-input-9-1be92ccad142>\u001b[0m in \u001b[0;36m<module>\u001b[1;34m\u001b[0m\n\u001b[1;32m----> 1\u001b[1;33m \u001b[0mobs\u001b[0m\u001b[1;33m.\u001b[0m\u001b[0mconvertTo\u001b[0m\u001b[1;33m(\u001b[0m\u001b[0mds\u001b[0m\u001b[1;33m)\u001b[0m\u001b[1;33m\u001b[0m\u001b[1;33m\u001b[0m\u001b[0m\n\u001b[0m",
      "\u001b[1;32mc:\\data\\projects\\phd\\dino\\dino\\data\\data.py\u001b[0m in \u001b[0;36mconvertTo\u001b[1;34m(self, spaceManager, kind, toData)\u001b[0m\n\u001b[0;32m    222\u001b[0m     \u001b[1;32mdef\u001b[0m \u001b[0mconvertTo\u001b[0m\u001b[1;33m(\u001b[0m\u001b[0mself\u001b[0m\u001b[1;33m,\u001b[0m \u001b[0mspaceManager\u001b[0m\u001b[1;33m=\u001b[0m\u001b[1;32mNone\u001b[0m\u001b[1;33m,\u001b[0m \u001b[0mkind\u001b[0m\u001b[1;33m=\u001b[0m\u001b[1;32mNone\u001b[0m\u001b[1;33m,\u001b[0m \u001b[0mtoData\u001b[0m\u001b[1;33m=\u001b[0m\u001b[1;32mNone\u001b[0m\u001b[1;33m)\u001b[0m\u001b[1;33m:\u001b[0m\u001b[1;33m\u001b[0m\u001b[1;33m\u001b[0m\u001b[0m\n\u001b[0;32m    223\u001b[0m         return self.__class__(*[part.convertTo(spaceManager=spaceManager, kind=kind, toData=toData)\n\u001b[1;32m--> 224\u001b[1;33m                                 for part in self._parts])\n\u001b[0m\u001b[0;32m    225\u001b[0m \u001b[1;33m\u001b[0m\u001b[0m\n\u001b[0;32m    226\u001b[0m     \u001b[1;32mdef\u001b[0m \u001b[0msetRelative\u001b[0m\u001b[1;33m(\u001b[0m\u001b[0mself\u001b[0m\u001b[1;33m,\u001b[0m \u001b[0mrelative\u001b[0m\u001b[1;33m=\u001b[0m\u001b[1;32mNone\u001b[0m\u001b[1;33m)\u001b[0m\u001b[1;33m:\u001b[0m\u001b[1;33m\u001b[0m\u001b[1;33m\u001b[0m\u001b[0m\n",
      "\u001b[1;32mc:\\data\\projects\\phd\\dino\\dino\\data\\data.py\u001b[0m in \u001b[0;36m__init__\u001b[1;34m(self, *args)\u001b[0m\n\u001b[0;32m     32\u001b[0m                 \u001b[1;31m# Data(Data#0, Data#1, ...)\u001b[0m\u001b[1;33m\u001b[0m\u001b[1;33m\u001b[0m\u001b[1;33m\u001b[0m\u001b[0m\n\u001b[0;32m     33\u001b[0m                 \u001b[0mself\u001b[0m\u001b[1;33m.\u001b[0m\u001b[0m_parts\u001b[0m \u001b[1;33m=\u001b[0m \u001b[0mlist\u001b[0m\u001b[1;33m(\u001b[0m\u001b[0margs\u001b[0m\u001b[1;33m)\u001b[0m\u001b[1;33m\u001b[0m\u001b[1;33m\u001b[0m\u001b[0m\n\u001b[1;32m---> 34\u001b[1;33m                 self.space = self._parts[0].space.spaceManager.multiColSpace(\n\u001b[0m\u001b[0;32m     35\u001b[0m                     [p.space for p in self._parts])\n\u001b[0;32m     36\u001b[0m \u001b[1;33m\u001b[0m\u001b[0m\n",
      "\u001b[1;31mAttributeError\u001b[0m: 'SpaceManager' object has no attribute 'multiColSpace'"
     ]
    }
   ],
   "source": [
    "obs.convertTo(ds)"
   ]
  },
  {
   "cell_type": "code",
   "execution_count": 13,
   "metadata": {},
   "outputs": [
    {
     "data": {
      "text/plain": [
       "Cylinder:1 bound to root:2"
      ]
     },
     "execution_count": 13,
     "metadata": {},
     "output_type": "execute_result"
    }
   ],
   "source": [
    "cyl.convertTo(ds)"
   ]
  },
  {
   "cell_type": "code",
   "execution_count": 7,
   "metadata": {},
   "outputs": [],
   "source": [
    "cyl = env.world.cascadingChild('Cylinder')"
   ]
  },
  {
   "cell_type": "code",
   "execution_count": 26,
   "metadata": {
    "tags": []
   },
   "outputs": [
    {
     "data": {
      "text/plain": [
       "Cylinder:1 bound to root:2"
      ]
     },
     "execution_count": 26,
     "metadata": {},
     "output_type": "execute_result"
    }
   ],
   "source": [
    "cyl.convertTo(ds)"
   ]
  },
  {
   "cell_type": "code",
   "execution_count": 25,
   "metadata": {},
   "outputs": [
    {
     "data": {
      "text/plain": [
       "Cylinder:0 bound to root:0"
      ]
     },
     "execution_count": 25,
     "metadata": {},
     "output_type": "execute_result"
    }
   ],
   "source": [
    "ds.world.cascadingChildren()[0].native"
   ]
  },
  {
   "cell_type": "code",
   "execution_count": 37,
   "metadata": {},
   "outputs": [
    {
     "data": {
      "text/plain": [
       "[]"
      ]
     },
     "execution_count": 37,
     "metadata": {},
     "output_type": "execute_result"
    }
   ],
   "source": [
    "[e for e in ds.world.cascadingChildren() if e.linkedTo(cyl)]"
   ]
  },
  {
   "cell_type": "code",
   "execution_count": 39,
   "metadata": {},
   "outputs": [
    {
     "data": {
      "text/plain": [
       "[👁'Cylinder:0.position']"
      ]
     },
     "execution_count": 39,
     "metadata": {},
     "output_type": "execute_result"
    }
   ],
   "source": [
    "env.world.cascadingProperties()"
   ]
  },
  {
   "cell_type": "code",
   "execution_count": 23,
   "metadata": {},
   "outputs": [
    {
     "data": {
      "text/plain": [
       "Observation[#3→👁'Cylinder:3.position'(↕2)@±200.000, 400.000]"
      ]
     },
     "execution_count": 23,
     "metadata": {},
     "output_type": "execute_result"
    }
   ],
   "source": [
    "env.world.cascadingProperty('.position').observe()"
   ]
  },
  {
   "cell_type": "code",
   "execution_count": 7,
   "metadata": {
    "tags": []
   },
   "outputs": [],
   "source": [
    "env.show()"
   ]
  },
  {
   "cell_type": "code",
   "execution_count": 8,
   "metadata": {},
   "outputs": [],
   "source": [
    "env.hide()"
   ]
  }
 ],
 "metadata": {
  "interpreter": {
   "hash": "c98f5391dd95639a82f8dfd5f9c5e5de7b0c63b918ded3524d494afc388fb0ea"
  },
  "kernelspec": {
   "display_name": "Python 3.8.3 64-bit ('env': venv)",
   "name": "python3"
  },
  "language_info": {
   "codemirror_mode": {
    "name": "ipython",
    "version": 3
   },
   "file_extension": ".py",
   "mimetype": "text/x-python",
   "name": "python",
   "nbconvert_exporter": "python",
   "pygments_lexer": "ipython3",
   "version": "3.8.3"
  },
  "orig_nbformat": 2
 },
 "nbformat": 4,
 "nbformat_minor": 2
}
